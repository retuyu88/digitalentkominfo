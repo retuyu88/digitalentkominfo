{
  "nbformat": 4,
  "nbformat_minor": 0,
  "metadata": {
    "colab": {
      "name": "Copy of [26 4] Keras dan TensorFlow - ADF",
      "version": "0.3.2",
      "provenance": [],
      "collapsed_sections": [],
      "toc_visible": true,
      "include_colab_link": true
    },
    "kernelspec": {
      "name": "python3",
      "display_name": "Python 3"
    },
    "accelerator": "GPU"
  },
  "cells": [
    {
      "cell_type": "markdown",
      "metadata": {
        "id": "view-in-github",
        "colab_type": "text"
      },
      "source": [
        "<a href=\"https://colab.research.google.com/github/retuyu88/digitalentkominfo/blob/master/Copy_of_%5B26_4%5D_Keras_dan_TensorFlow_ADF.ipynb\" target=\"_parent\"><img src=\"https://colab.research.google.com/assets/colab-badge.svg\" alt=\"Open In Colab\"/></a>"
      ]
    },
    {
      "cell_type": "markdown",
      "metadata": {
        "id": "EfwbLGN0zdro",
        "colab_type": "text"
      },
      "source": [
        "<img src = \"https://i.imgur.com/UjutVJd.jpg\" align = \"center\">"
      ]
    },
    {
      "cell_type": "markdown",
      "metadata": {
        "id": "nmBqvRHNuRIt",
        "colab_type": "text"
      },
      "source": [
        "# Perkenalan Library"
      ]
    },
    {
      "cell_type": "markdown",
      "metadata": {
        "id": "tvTrxlt8oQ6i",
        "colab_type": "text"
      },
      "source": [
        "## Tensorflow\n",
        "\n",
        "<img src=\"https://www.gstatic.com/devrel-devsite/va3a0eb1ff00a004a87e2f93101f27917d794beecfd23556fc6d8627bba2ff3cf/tensorflow/images/lockup.svg\" alt=\"tensorflow\" width=\"300px\"/>\n",
        "\n",
        "TensorFlow (https://www.tensorflow.org/) adalah *Deep Learning Library*, yang dikembangkan oleh Google Brain Team di dalam organisasi riset Google Machine Learning Intelligence, untuk keperluan melakukan pembelajaran mesin dan riset Jaringan Saraf tiruan.\n",
        "\n",
        "TensorFlow menggabungkan berbagai teknik optimasi komputasional aljabar untuk memudahkan perhitungan berbagai ekspresi matematika yang akan sulit untuk dihitung.\n",
        "\n",
        "**Fitur Utama Tensorflow*\n",
        "\n",
        "* Mendefinisikan, mengoptimalkan, dan menghitung secara efisien ekspresi matematika yang melibatkan array multi-dimensi (tensor).\n",
        "* Dukungan pemrograman dari jaringan saraf dalam dan teknik pembelajaran mesin.\n",
        "* Penggunaan komputasi GPU dan optimalisasi memori secara otomatis.\n",
        "* Skabilitas tinggi komputasi di seluruh mesin dan set data besar.\n",
        "\n",
        "TensorFlow tersedia dengan dukungan Python dan C ++, tetapi Python API lebih didukung dan lebih mudah untuk dipelajari.\n",
        "\n",
        "---"
      ]
    },
    {
      "cell_type": "markdown",
      "metadata": {
        "id": "ww2VFOjloQ75",
        "colab_type": "text"
      },
      "source": [
        "## Keras\n",
        "\n",
        "<img src=\"https://s3.amazonaws.com/keras.io/img/keras-logo-2018-large-1200.png\" alt=\"keras\" width=\"300px\"/>\n",
        "\n",
        "Keras (https://keras.io/) adalah library *Deep Learning Library* yang sangat modular dan minimalis, yang ditulis dengan Python dan mampu berjalan di atas TensorFlow atau Theano. Library ini dikembangkan dengan fokus pada memungkinkan eksperimen cepat.\n",
        "\n",
        "Pada mulanya Keras dikembangkan untuk membantu pengguna agar dapat dengan mudah menggunakan *Deep Learning Library* Theano dan Tensorflow yang pada saat itu implementasinya sangat teknis dan rumit. \n",
        "\n",
        "Sejak Tensorflow versi 1.5, Keras diadopsi oleh Google dan sejak saat itu API yang telah dibangun sudah termasuk di dalam distribusi Tensorflow.\n",
        "\n",
        "---"
      ]
    },
    {
      "cell_type": "markdown",
      "metadata": {
        "id": "Kdq4txp6In1H",
        "colab_type": "text"
      },
      "source": [
        "---\n",
        "# Dataset MNIST\n",
        "\n",
        "Sekarang kita akan membangun model Jaringan Saraf Tiruan menggunakan dataset paling populer digunakan saat belajar mengenai Pembelajaran Mesin: Dataset angka tulisan tangan MNIST\n",
        "\n",
        "Jangan lupa, pastikan Colab ini berjalan dengan GPU\n"
      ]
    },
    {
      "cell_type": "code",
      "metadata": {
        "id": "GrnacNg8In1K",
        "colab_type": "code",
        "colab": {}
      },
      "source": [
        "import numpy as np\n",
        "import matplotlib.pyplot as plt\n",
        "%matplotlib inline\n",
        "\n",
        "np.set_printoptions(precision=7)"
      ],
      "execution_count": 0,
      "outputs": []
    },
    {
      "cell_type": "markdown",
      "metadata": {
        "id": "tz9rpwvIIn1T",
        "colab_type": "text"
      },
      "source": [
        "---\n",
        "## Load Dataset MNIST\n",
        "\n",
        "Kelebihan menggunakan library seperti Keras dan TensorFlow adalah mereka sudah menyediakan banyak dataset contoh yang bisa langsung kita unduh dan gunakan\n",
        "\n",
        "Link Dataset:\n",
        "* [keras](https://keras.io/datasets/)\n",
        "* [tf.keras](https://www.tensorflow.org/api_docs/python/tf/keras/datasets)\n",
        "* [tf.dataset](https://www.tensorflow.org/datasets/datasets)\n",
        "\n",
        "Untuk itu, di sini mari kita unduh dataset mnist dari `tf.keras` sebagai berikut\n",
        "\n"
      ]
    },
    {
      "cell_type": "code",
      "metadata": {
        "id": "e9lcWKk9In1U",
        "colab_type": "code",
        "colab": {
          "base_uri": "https://localhost:8080/",
          "height": 119
        },
        "outputId": "5a7a87ac-d419-466d-e001-294820b4a4ec"
      },
      "source": [
        "import tensorflow as tf\n",
        "\n",
        "(X_train, y_train), (X_test, y_test) = tf.keras.datasets.mnist.load_data()\n",
        "\n",
        "print('X_train.shape =',X_train.shape)\n",
        "print('y_train.shape =',y_train.shape)\n",
        "print('X_test.shape  =',X_test.shape)\n",
        "print('y_test.shape  =',y_test.shape)"
      ],
      "execution_count": 2,
      "outputs": [
        {
          "output_type": "stream",
          "text": [
            "Downloading data from https://storage.googleapis.com/tensorflow/tf-keras-datasets/mnist.npz\n",
            "11493376/11490434 [==============================] - 0s 0us/step\n",
            "X_train.shape = (60000, 28, 28)\n",
            "y_train.shape = (60000,)\n",
            "X_test.shape  = (10000, 28, 28)\n",
            "y_test.shape  = (10000,)\n"
          ],
          "name": "stdout"
        }
      ]
    },
    {
      "cell_type": "markdown",
      "metadata": {
        "id": "9rhC32AWIn1Z",
        "colab_type": "text"
      },
      "source": [
        "---\n",
        "## Visualisasi Data MNIST\n",
        "Tampilkan 20 citra pertama dari data lain `X_train`"
      ]
    },
    {
      "cell_type": "code",
      "metadata": {
        "id": "Zk4QVV87In1b",
        "colab_type": "code",
        "colab": {
          "base_uri": "https://localhost:8080/",
          "height": 269
        },
        "outputId": "4a46ad46-3918-41c8-fde5-b676885c8482"
      },
      "source": [
        "fig, ax = plt.subplots(2,10,figsize=(15,4.5))\n",
        "fig.subplots_adjust(hspace=0.1, wspace=0.1)\n",
        "for j in range(0,2):\n",
        "    for i in range(0, 10):\n",
        "        ax[j,i].imshow(X_train[i+j*10], cmap='gray')\n",
        "        ax[j,i].set_title(y_train[i+j*10])\n",
        "        ax[j,i].axis('off')\n",
        "plt.show()"
      ],
      "execution_count": 3,
      "outputs": [
        {
          "output_type": "display_data",
          "data": {
            "image/png": "[encoded data removed]",
            "text/plain": [
              "<Figure size 1080x324 with 20 Axes>"
            ]
          },
          "metadata": {
            "tags": []
          }
        }
      ]
    },
    {
      "cell_type": "markdown",
      "metadata": {
        "id": "uhUO9G5MIn1g",
        "colab_type": "text"
      },
      "source": [
        "---\n",
        "## Bagi Data Validasi\n",
        "Ambil 10,000 data terakhir dari data latih menjadi data Validasi di dalam matrix `X_val` dan `y_val`"
      ]
    },
    {
      "cell_type": "code",
      "metadata": {
        "id": "oCSjAqPzIn1i",
        "colab_type": "code",
        "colab": {
          "base_uri": "https://localhost:8080/",
          "height": 85
        },
        "outputId": "e68d9e0f-e39e-40f5-afef-bc1aefda929c"
      },
      "source": [
        "X_val = X_train[-10000:,:]\n",
        "y_val = y_train[-10000:]\n",
        "\n",
        "X_train = X_train[:-10000, :]\n",
        "y_train = y_train[:-10000]\n",
        "\n",
        "print('X_val.shape   =',X_val.shape)\n",
        "print('y_val.shape   =',y_val.shape)\n",
        "print('X_train.shape =',X_train.shape)\n",
        "print('y_train.shape =',y_train.shape)"
      ],
      "execution_count": 4,
      "outputs": [
        {
          "output_type": "stream",
          "text": [
            "X_val.shape   = (10000, 28, 28)\n",
            "y_val.shape   = (10000,)\n",
            "X_train.shape = (50000, 28, 28)\n",
            "y_train.shape = (50000,)\n"
          ],
          "name": "stdout"
        }
      ]
    },
    {
      "cell_type": "markdown",
      "metadata": {
        "id": "ZonG85IOIn1o",
        "colab_type": "text"
      },
      "source": [
        "---\n",
        "## Normalizing Data\n",
        "Normalisasi `X_train`, `X_val`, dan `X_test` dengan melakukan *zero-mean centering* "
      ]
    },
    {
      "cell_type": "code",
      "metadata": {
        "id": "yfEl2gZJIn1p",
        "colab_type": "code",
        "colab": {}
      },
      "source": [
        "X_train = X_train.astype('float32')\n",
        "X_val = X_val.astype('float32')\n",
        "X_test = X_test.astype('float32')\n",
        "\n",
        "mean_image = np.mean(X_train, axis = 0)\n",
        "X_train -= mean_image\n",
        "X_val -= mean_image\n",
        "X_test -= mean_image\n"
      ],
      "execution_count": 0,
      "outputs": []
    },
    {
      "cell_type": "markdown",
      "metadata": {
        "id": "wSqe0RcLIv4E",
        "colab_type": "text"
      },
      "source": [
        "Jika kalian tertarik melihat bagaimana visualisasi data MNIST setelah dilakukan normalisasi *zero-mean centering*"
      ]
    },
    {
      "cell_type": "code",
      "metadata": {
        "colab_type": "code",
        "id": "kE_nDasqebxp",
        "colab": {
          "base_uri": "https://localhost:8080/",
          "height": 269
        },
        "outputId": "f4876029-6946-4a09-dd4e-9371bc118e48"
      },
      "source": [
        "fig, ax = plt.subplots(2,10,figsize=(15,4.5))\n",
        "fig.subplots_adjust(hspace=0.1, wspace=0.1)\n",
        "for j in range(0,2):\n",
        "    for i in range(0, 10):\n",
        "        ax[j,i].imshow(X_train[i+j*10], cmap='gray')\n",
        "        ax[j,i].set_title(y_train[i+j*10])\n",
        "        ax[j,i].axis('off')\n",
        "plt.show()"
      ],
      "execution_count": 117,
      "outputs": [
        {
          "output_type": "display_data",
          "data": {
            "image/png": "[encoded data removed]",
            "text/plain": [
              "<Figure size 1080x324 with 20 Axes>"
            ]
          },
          "metadata": {
            "tags": []
          }
        }
      ]
    },
    {
      "cell_type": "markdown",
      "metadata": {
        "id": "rQohd54TIn1x",
        "colab_type": "text"
      },
      "source": [
        "---\n",
        "## One Hot Matrix\n",
        "\n"
      ]
    },
    {
      "cell_type": "markdown",
      "metadata": {
        "id": "kveJWXJYIn14",
        "colab_type": "text"
      },
      "source": [
        " Ubah vektor target `y_train`, `y_val`, dan `y_test` menjadi bentuk One-Hot Matrix"
      ]
    },
    {
      "cell_type": "code",
      "metadata": {
        "id": "neQU8KqDIn1_",
        "colab_type": "code",
        "colab": {
          "base_uri": "https://localhost:8080/",
          "height": 68
        },
        "outputId": "f1660f0d-5cb2-4403-8a21-31338aff2b62"
      },
      "source": [
        "from tensorflow.keras.utils import to_categorical\n",
        "\n",
        "y_train_hot = to_categorical(y_train.ravel(), 10)\n",
        "y_val_hot = to_categorical(y_val.ravel(), 10)\n",
        "y_test_hot = to_categorical(y_test.ravel(), 10)\n",
        "\n",
        "print('y_train_hot.shape =',y_train_hot.shape)\n",
        "print('y_val_hot.shape   =',y_val_hot.shape)\n",
        "print('y_test_hot.shape  =',y_test_hot.shape)"
      ],
      "execution_count": 8,
      "outputs": [
        {
          "output_type": "stream",
          "text": [
            "y_train_hot.shape = (50000, 10)\n",
            "y_val_hot.shape   = (10000, 10)\n",
            "y_test_hot.shape  = (10000, 10)\n"
          ],
          "name": "stdout"
        }
      ]
    },
    {
      "cell_type": "markdown",
      "metadata": {
        "id": "J_xTz69xIn2G",
        "colab_type": "text"
      },
      "source": [
        "contoh isi dari one hot matrix"
      ]
    },
    {
      "cell_type": "code",
      "metadata": {
        "id": "Gl6iGzGgIn2I",
        "colab_type": "code",
        "colab": {
          "base_uri": "https://localhost:8080/",
          "height": 255
        },
        "outputId": "9df55026-9845-433d-a771-d78174651180"
      },
      "source": [
        "print('\\n         class:\\ni | y |  0 1 2 3 4 5 6 7 8 9\\n---------------------------------')\n",
        "for i in range(10):\n",
        "    print(i, '|', y_train[i], '|', y_train_hot[i,:].astype('int'))"
      ],
      "execution_count": 9,
      "outputs": [
        {
          "output_type": "stream",
          "text": [
            "\n",
            "         class:\n",
            "i | y |  0 1 2 3 4 5 6 7 8 9\n",
            "---------------------------------\n",
            "0 | 5 | [0 0 0 0 0 1 0 0 0 0]\n",
            "1 | 0 | [1 0 0 0 0 0 0 0 0 0]\n",
            "2 | 4 | [0 0 0 0 1 0 0 0 0 0]\n",
            "3 | 1 | [0 1 0 0 0 0 0 0 0 0]\n",
            "4 | 9 | [0 0 0 0 0 0 0 0 0 1]\n",
            "5 | 2 | [0 0 1 0 0 0 0 0 0 0]\n",
            "6 | 1 | [0 1 0 0 0 0 0 0 0 0]\n",
            "7 | 3 | [0 0 0 1 0 0 0 0 0 0]\n",
            "8 | 1 | [0 1 0 0 0 0 0 0 0 0]\n",
            "9 | 4 | [0 0 0 0 1 0 0 0 0 0]\n"
          ],
          "name": "stdout"
        }
      ]
    },
    {
      "cell_type": "markdown",
      "metadata": {
        "id": "OjqzwPUJIn4n",
        "colab_type": "text"
      },
      "source": [
        "---\n",
        "\n",
        "# Two-Layer Neural Network\n",
        "\n",
        "Berikutnya, mari kita bangun Jaringan Saraf Tiruan sedalam 2 layer untuk mengklasifikasikan dataset MNIST ini\n",
        "\n",
        "Untuk kemudahan bersama, di sini kita akan gunakan API Keras untuk membangun arsitektur hingga melatih modelnya\n",
        "\n"
      ]
    },
    {
      "cell_type": "markdown",
      "metadata": {
        "id": "34l5N13yIn5O",
        "colab_type": "text"
      },
      "source": [
        "---\n",
        "## Import Modul\n",
        "\n",
        "Untuk membangun Jaringan Saraf Tiruan sederhana, kita akan menggunakan model [`Sequential`](https://keras.io/models/sequential/) karena model hanya memiliki satu arah propagasi maju.\n",
        "\n",
        "Layer-layer yang akan kita gunakan adalah:\n",
        "* `Flatten`, untuk mengubah input data citra menjadi 1 kolom\n",
        "* `Dense`, atau layer `Affine`\n",
        "* `Activation`, untuk mendapatkan fungsi Aktivasi\n",
        "\n",
        "Daftar layer lainnya dapat dilihat di [keras layers](https://keras.io/layers/core/) atau [tf.keras layers](https://www.tensorflow.org/api_docs/python/tf/keras/layers)"
      ]
    },
    {
      "cell_type": "code",
      "metadata": {
        "id": "k98ABsZD_q5w",
        "colab_type": "code",
        "colab": {}
      },
      "source": [
        "from tensorflow.keras.models import Sequential\n",
        "from tensorflow.keras.layers import Flatten\n",
        "from tensorflow.keras.layers import Dense\n",
        "from tensorflow.keras.layers import Activation\n"
      ],
      "execution_count": 0,
      "outputs": []
    },
    {
      "cell_type": "markdown",
      "metadata": {
        "id": "xorwvaALLAGH",
        "colab_type": "text"
      },
      "source": [
        "Berikutnya, kita definisikan paramtere arsitektur sebagai berikut\n",
        "\n",
        "kita akan bangun jaringan saraf 2 layer dengan 512 neuron di hidden layer"
      ]
    },
    {
      "cell_type": "code",
      "metadata": {
        "id": "LKMOAG1KIn5B",
        "colab_type": "code",
        "colab": {}
      },
      "source": [
        "num_data    = X_train.shape[0]\n",
        "X_dim       = X_train.shape[1]\n",
        "num_classes = y_train_hot.shape[1]\n",
        "\n",
        "hidden_size = 512"
      ],
      "execution_count": 0,
      "outputs": []
    },
    {
      "cell_type": "markdown",
      "metadata": {
        "id": "wElcpSCg_q5v",
        "colab_type": "text"
      },
      "source": [
        "---\n",
        "## Membangun Model Jaringan menggunakan Keras\n",
        "\n",
        "Keras adalah *Deep Learning* API yang dibangun sebagai *independent open source project* oleh lebih dari 700 kontributor. Selama pembangunannya hingga, Keras terus diperbarui sehingga sering terdapat perubahan di sisi teknis penulisan kode. Salah satunya adalah cara mendefinisikan model jaringan.\n"
      ]
    },
    {
      "cell_type": "markdown",
      "metadata": {
        "id": "Sr6j43J3Lq9V",
        "colab_type": "text"
      },
      "source": [
        "### Cara Pertama (OLD API)\n",
        "Cara pertama membangun model, dan salah satu cara paling tua, menggunakan Keras adalah dengan menginisialisasi objek model `Sequential`, kemudian satu per satu kita tambahkan layer yang ingin kita tumpuk sebagai berikut\n"
      ]
    },
    {
      "cell_type": "code",
      "metadata": {
        "id": "31erMNe__q51",
        "colab_type": "code",
        "colab": {
          "base_uri": "https://localhost:8080/",
          "height": 391
        },
        "outputId": "ec69ae7b-6ee6-47f7-bc63-ab22b7c00c79"
      },
      "source": [
        "# create model old\n",
        "model = Sequential()\n",
        "model.add(Flatten(input_shape=(28,28)))\n",
        "model.add(Dense(hidden_size))\n",
        "model.add(Activation('sigmoid'))\n",
        "model.add(Dense(hidden_size))\n",
        "model.add(Activation('sigmoid'))\n",
        "model.add(Dense(num_classes))\n",
        "model.add(Activation('softmax'))\n",
        "\n",
        "    \n",
        "  \n",
        "model.summary()"
      ],
      "execution_count": 120,
      "outputs": [
        {
          "output_type": "stream",
          "text": [
            "Model: \"sequential_5\"\n",
            "_________________________________________________________________\n",
            "Layer (type)                 Output Shape              Param #   \n",
            "=================================================================\n",
            "flatten_6 (Flatten)          (None, 784)               0         \n",
            "_________________________________________________________________\n",
            "dense_13 (Dense)             (None, 512)               401920    \n",
            "_________________________________________________________________\n",
            "activation_5 (Activation)    (None, 512)               0         \n",
            "_________________________________________________________________\n",
            "dense_14 (Dense)             (None, 512)               262656    \n",
            "_________________________________________________________________\n",
            "activation_6 (Activation)    (None, 512)               0         \n",
            "_________________________________________________________________\n",
            "dense_15 (Dense)             (None, 10)                5130      \n",
            "_________________________________________________________________\n",
            "activation_7 (Activation)    (None, 10)                0         \n",
            "=================================================================\n",
            "Total params: 669,706\n",
            "Trainable params: 669,706\n",
            "Non-trainable params: 0\n",
            "_________________________________________________________________\n"
          ],
          "name": "stdout"
        }
      ]
    },
    {
      "cell_type": "markdown",
      "metadata": {
        "id": "yiat15JzIM5u",
        "colab_type": "text"
      },
      "source": [
        "### Cara Kedua (Compact API)\n",
        "\n",
        "Update terbaru pada API layer Keras membuat kita bisa menambahkan fungsi aktivasi langsung dari layer `Dense` tanpa menambahkan layer `Activation`. Contohnya `Dense(512, activation=\"sigmoid\")`"
      ]
    },
    {
      "cell_type": "code",
      "metadata": {
        "id": "K3oJwZl5IGmg",
        "colab_type": "code",
        "colab": {
          "base_uri": "https://localhost:8080/",
          "height": 289
        },
        "outputId": "c8640d54-d5db-405f-c9f3-ace4e17e3350"
      },
      "source": [
        "# create model new\n",
        "model = Sequential()\n",
        "model.add(Flatten(input_shape=(28,28)))\n",
        "model.add(Dense(hidden_size, activation='sigmoid'))\n",
        "model.add(Dense(hidden_size, activation='sigmoid'))\n",
        "model.add(Dense(num_classes, activation='softmax'))\n",
        "    \n",
        "  \n",
        "model.summary()"
      ],
      "execution_count": 123,
      "outputs": [
        {
          "output_type": "stream",
          "text": [
            "Model: \"sequential_6\"\n",
            "_________________________________________________________________\n",
            "Layer (type)                 Output Shape              Param #   \n",
            "=================================================================\n",
            "flatten_7 (Flatten)          (None, 784)               0         \n",
            "_________________________________________________________________\n",
            "dense_16 (Dense)             (None, 512)               401920    \n",
            "_________________________________________________________________\n",
            "dense_17 (Dense)             (None, 512)               262656    \n",
            "_________________________________________________________________\n",
            "dense_18 (Dense)             (None, 10)                5130      \n",
            "=================================================================\n",
            "Total params: 669,706\n",
            "Trainable params: 669,706\n",
            "Non-trainable params: 0\n",
            "_________________________________________________________________\n"
          ],
          "name": "stdout"
        }
      ]
    },
    {
      "cell_type": "markdown",
      "metadata": {
        "id": "IZY1O_Jx_q52",
        "colab_type": "text"
      },
      "source": [
        "### Cara Ketiga (Functional API)\n",
        "Cara ketiga membangun model adalah menggunakan Keras *functional API* yang memungkinkan kita membangun model yang lebih kompleks misalnya memiliki banyak output.\n",
        "\n",
        "Berikut adalah contoh pembangunan model adalah menggunakan Keras *functional API*"
      ]
    },
    {
      "cell_type": "code",
      "metadata": {
        "id": "HNlMwWsI_q54",
        "colab_type": "code",
        "colab": {
          "base_uri": "https://localhost:8080/",
          "height": 255
        },
        "outputId": "058a6feb-200d-4d8e-e0b2-96fd176245cc"
      },
      "source": [
        "from tensorflow.keras import Model\n",
        "from tensorflow.keras.layers import Input\n",
        "\n",
        "# create model functional\n",
        "inputs = Input(shape=(28, 28))\n",
        "x = Flatten() (inputs)\n",
        "x = Dense(hidden_size, activation=\"sigmoid\")(x)\n",
        "outputs = Dense(num_classes, activation=\"softmax\")(x)\n",
        "\n",
        "\n",
        "mdoel = Model(inputs, outputs)\n",
        "\n",
        "model.summary()\n"
      ],
      "execution_count": 14,
      "outputs": [
        {
          "output_type": "stream",
          "text": [
            "Model: \"sequential_1\"\n",
            "_________________________________________________________________\n",
            "Layer (type)                 Output Shape              Param #   \n",
            "=================================================================\n",
            "flatten_1 (Flatten)          (None, 784)               0         \n",
            "_________________________________________________________________\n",
            "dense_2 (Dense)              (None, 512)               401920    \n",
            "_________________________________________________________________\n",
            "dense_3 (Dense)              (None, 10)                5130      \n",
            "=================================================================\n",
            "Total params: 407,050\n",
            "Trainable params: 407,050\n",
            "Non-trainable params: 0\n",
            "_________________________________________________________________\n"
          ],
          "name": "stdout"
        }
      ]
    },
    {
      "cell_type": "markdown",
      "metadata": {
        "id": "n5BBi5KC_q56",
        "colab_type": "text"
      },
      "source": [
        "### Cara Keempat (Constructor API)\n",
        "Cara keempat adalah cara baru membangun `Sequential` model. Penggunaannya seperti cara pertama dan kedua, namun kita dapat langsung mendaftarkan layer-layernya ke dalam list saat inisialisasi objek Sequential sebagai berikut"
      ]
    },
    {
      "cell_type": "code",
      "metadata": {
        "id": "R0xzjgWQ_q56",
        "colab_type": "code",
        "colab": {
          "base_uri": "https://localhost:8080/",
          "height": 289
        },
        "outputId": "2bc0c591-4524-42fe-b38d-cdf8f6d0d8dc"
      },
      "source": [
        "# create model compact sequential\n",
        "\n",
        "model = Sequential([\n",
        "  Flatten(input_shape=(28,28)),\n",
        "  Dense(hidden_size, activation=\"sigmoid\"),\n",
        "  Dense(hidden_size, activation=\"sigmoid\"),\n",
        "  Dense(num_classes, activation=\"softmax\")\n",
        "])\n",
        "\n",
        "\n",
        "model.summary()"
      ],
      "execution_count": 124,
      "outputs": [
        {
          "output_type": "stream",
          "text": [
            "Model: \"sequential_7\"\n",
            "_________________________________________________________________\n",
            "Layer (type)                 Output Shape              Param #   \n",
            "=================================================================\n",
            "flatten_8 (Flatten)          (None, 784)               0         \n",
            "_________________________________________________________________\n",
            "dense_19 (Dense)             (None, 512)               401920    \n",
            "_________________________________________________________________\n",
            "dense_20 (Dense)             (None, 512)               262656    \n",
            "_________________________________________________________________\n",
            "dense_21 (Dense)             (None, 10)                5130      \n",
            "=================================================================\n",
            "Total params: 669,706\n",
            "Trainable params: 669,706\n",
            "Non-trainable params: 0\n",
            "_________________________________________________________________\n"
          ],
          "name": "stdout"
        }
      ]
    },
    {
      "cell_type": "markdown",
      "metadata": {
        "id": "TJrNchsf_q58",
        "colab_type": "text"
      },
      "source": [
        "Keempat model di atas adalah model yang sama. Bisa dilihat dari summary arsitektur kegianya. Sekarang, pilih salah satu model untuk kita compile dengan fungsi *loss* dan metode optimasi. "
      ]
    },
    {
      "cell_type": "markdown",
      "metadata": {
        "id": "VnbdwDn0In5R",
        "colab_type": "text"
      },
      "source": [
        "---\n",
        "## Compile Model\n",
        "\n",
        "Di sini kita harus mengkompile model dengan mendaftarkan fungsi loss dan fungsi optimasinya\n",
        "\n",
        "### Fungsi Loss\n",
        "terdapat berbagai jenis fungsi loss untuk bermacam kasus seperti \n",
        "* `categorical crossentropy` untuk klasifikasi multi kelas\n",
        "* `binary crossentropy` untuk klasifikasi biner\n",
        "* `mean squared error` untuk regresi\n",
        "* dan banyak lainnya\n",
        "\n",
        "lihat [keras losses](https://keras.io/losses/) atau [tf.keras losses](https://www.tensorflow.org/api_docs/python/tf/keras/losses) untuk lebih lanjut\n",
        "\n",
        "\n",
        "### Fungsi Optimasi\n",
        "Juga terdapat berbagai jenis fungsi optimasi seperti\n",
        "* `sgd` untuk standar `stochastic gradient descent` dan `nesterov`\n",
        "* `rmsprop` sebagai perkembangan dari `sgd`\n",
        "* `adam` sebagai fungsi optimasi standar saat ini\n",
        "* dan banyak lainnya\n",
        "\n",
        "lihat [keras optimizers](https://keras.io/optimizers/) atau [tf.keras optimizers](https://www.tensorflow.org/api_docs/python/tf/keras/optimizers) untuk lebih lanjut\n",
        "\n",
        "### Metrics\n",
        "kita juga bisa menambahkan metric tambahan untuk melihat performa model selama pelatihan seperti metrik akurasi"
      ]
    },
    {
      "cell_type": "code",
      "metadata": {
        "id": "LPnszjanIn5R",
        "colab_type": "code",
        "colab": {}
      },
      "source": [
        "# Compile model\n",
        "model.compile(loss='categorical_crossentropy', \n",
        "              optimizer='sgd', metrics=['accuracy'])\n"
      ],
      "execution_count": 0,
      "outputs": []
    },
    {
      "cell_type": "markdown",
      "metadata": {
        "id": "pmDso_8jIn5V",
        "colab_type": "text"
      },
      "source": [
        "---\n",
        "## Melatih Model\n",
        "\n",
        "Sekarang kita bisa melatih model dengan memanggil fungsi `fit`\n",
        "\n",
        "Kita jalankan proses pelatihan untuk `epoch=15` dengan `batch size=100`"
      ]
    },
    {
      "cell_type": "code",
      "metadata": {
        "id": "lR9WhzsFIn5V",
        "colab_type": "code",
        "colab": {
          "base_uri": "https://localhost:8080/",
          "height": 561
        },
        "outputId": "6e1340a2-3f8b-418b-cd20-5178d4576cff"
      },
      "source": [
        "num_epochs = 15\n",
        "batch_size = 100\n",
        "\n",
        "model.fit(X_train, y_train_hot, \n",
        "          validation_data=(X_val, y_val_hot),\n",
        "          epochs=num_epochs, batch_size=batch_size, \n",
        "          verbose=2)"
      ],
      "execution_count": 127,
      "outputs": [
        {
          "output_type": "stream",
          "text": [
            "Train on 50000 samples, validate on 10000 samples\n",
            "Epoch 1/15\n",
            "50000/50000 - 1s - loss: 0.1938 - acc: 0.9479 - val_loss: 0.2354 - val_acc: 0.9299\n",
            "Epoch 2/15\n",
            "50000/50000 - 1s - loss: 0.1875 - acc: 0.9492 - val_loss: 0.2317 - val_acc: 0.9313\n",
            "Epoch 3/15\n",
            "50000/50000 - 1s - loss: 0.1817 - acc: 0.9513 - val_loss: 0.2297 - val_acc: 0.9326\n",
            "Epoch 4/15\n",
            "50000/50000 - 1s - loss: 0.1763 - acc: 0.9522 - val_loss: 0.2279 - val_acc: 0.9325\n",
            "Epoch 5/15\n",
            "50000/50000 - 1s - loss: 0.1713 - acc: 0.9539 - val_loss: 0.2255 - val_acc: 0.9341\n",
            "Epoch 6/15\n",
            "50000/50000 - 1s - loss: 0.1669 - acc: 0.9552 - val_loss: 0.2233 - val_acc: 0.9345\n",
            "Epoch 7/15\n",
            "50000/50000 - 1s - loss: 0.1623 - acc: 0.9566 - val_loss: 0.2216 - val_acc: 0.9351\n",
            "Epoch 8/15\n",
            "50000/50000 - 1s - loss: 0.1583 - acc: 0.9577 - val_loss: 0.2206 - val_acc: 0.9352\n",
            "Epoch 9/15\n",
            "50000/50000 - 1s - loss: 0.1545 - acc: 0.9590 - val_loss: 0.2196 - val_acc: 0.9351\n",
            "Epoch 10/15\n",
            "50000/50000 - 1s - loss: 0.1510 - acc: 0.9600 - val_loss: 0.2179 - val_acc: 0.9352\n",
            "Epoch 11/15\n",
            "50000/50000 - 1s - loss: 0.1475 - acc: 0.9608 - val_loss: 0.2165 - val_acc: 0.9358\n",
            "Epoch 12/15\n",
            "50000/50000 - 1s - loss: 0.1443 - acc: 0.9618 - val_loss: 0.2155 - val_acc: 0.9368\n",
            "Epoch 13/15\n",
            "50000/50000 - 1s - loss: 0.1412 - acc: 0.9630 - val_loss: 0.2146 - val_acc: 0.9370\n",
            "Epoch 14/15\n",
            "50000/50000 - 1s - loss: 0.1383 - acc: 0.9634 - val_loss: 0.2138 - val_acc: 0.9377\n",
            "Epoch 15/15\n",
            "50000/50000 - 1s - loss: 0.1355 - acc: 0.9646 - val_loss: 0.2128 - val_acc: 0.9375\n"
          ],
          "name": "stdout"
        },
        {
          "output_type": "execute_result",
          "data": {
            "text/plain": [
              "<tensorflow.python.keras.callbacks.History at 0x7fb0b007b7b8>"
            ]
          },
          "metadata": {
            "tags": []
          },
          "execution_count": 127
        }
      ]
    },
    {
      "cell_type": "markdown",
      "metadata": {
        "id": "3ibLtwIAIn5V",
        "colab_type": "text"
      },
      "source": [
        "---\n",
        "## Evaluasi Model\n",
        "Berikutnya mari kita evaluasi akurasi dari model yang sudah dilatih\n",
        "\n",
        "harusnya kita akan mendapatkan akurasi di atas `91%`"
      ]
    },
    {
      "cell_type": "code",
      "metadata": {
        "id": "VTD6WFU2In5W",
        "colab_type": "code",
        "colab": {
          "base_uri": "https://localhost:8080/",
          "height": 68
        },
        "outputId": "19bc2973-5699-4a0e-d826-ad8c271e8d1e"
      },
      "source": [
        "scores = model.evaluate(X_test, y_test_hot, verbose=1)\n",
        "print(\"\\nModel Accuracy: %.2f%%\" % (scores[1]*100))"
      ],
      "execution_count": 129,
      "outputs": [
        {
          "output_type": "stream",
          "text": [
            "10000/10000 [==============================] - 1s 54us/sample - loss: 0.2229 - acc: 0.9341\n",
            "\n",
            "Model Accuracy: 93.41%\n"
          ],
          "name": "stdout"
        }
      ]
    },
    {
      "cell_type": "markdown",
      "metadata": {
        "id": "RSOdNkm_In4B",
        "colab_type": "text"
      },
      "source": [
        "---\n",
        "# Pengujian Data Baru\n",
        "\n",
        "Sekarang mari kita coba model yang sudah kita latih terhadap data baru\n",
        "\n",
        "kita akan bangun fungsi untuk bisa menggambar di Google Colab ini dan memasukkan input gambar baru ke model"
      ]
    },
    {
      "cell_type": "markdown",
      "metadata": {
        "id": "U9SEiqSuIn4I",
        "colab_type": "text"
      },
      "source": [
        "## Fungsi Menggambar pada Canvas\n",
        "\n",
        "Jalankan cell di bawah untuk membangun fungsi menggambar"
      ]
    },
    {
      "cell_type": "code",
      "metadata": {
        "id": "h8A9d-_-Psxi",
        "colab_type": "code",
        "colab": {}
      },
      "source": [
        "from IPython.display import HTML, Image\n",
        "from google.colab.output import eval_js\n",
        "from base64 import b64decode\n",
        "\n",
        "canvas_html = \"\"\"\n",
        "<canvas width=%d height=%d style=\"border:1px solid #000000;\"></canvas>\n",
        "<button>Finish</button>\n",
        "<script>\n",
        "var canvas = document.querySelector('canvas')\n",
        "var ctx = canvas.getContext('2d')\n",
        "ctx.lineWidth = %d\n",
        "var button = document.querySelector('button')\n",
        "var mouse = {x: 0, y: 0}\n",
        "canvas.addEventListener('mousemove', function(e) {\n",
        "  mouse.x = e.pageX - this.offsetLeft\n",
        "  mouse.y = e.pageY - this.offsetTop\n",
        "})\n",
        "canvas.onmousedown = ()=>{\n",
        "  ctx.beginPath()\n",
        "  ctx.moveTo(mouse.x, mouse.y)\n",
        "  canvas.addEventListener('mousemove', onPaint)\n",
        "}\n",
        "canvas.onmouseup = ()=>{\n",
        "  canvas.removeEventListener('mousemove', onPaint)\n",
        "}\n",
        "var onPaint = ()=>{\n",
        "  ctx.lineTo(mouse.x, mouse.y)\n",
        "  ctx.stroke()\n",
        "}\n",
        "var data = new Promise(resolve=>{\n",
        "  button.onclick = ()=>{\n",
        "    resolve(canvas.toDataURL('image/png'))\n",
        "  }\n",
        "})\n",
        "</script>\n",
        "\"\"\"\n",
        "\n",
        "def draw(filename='drawing.jpg', w=300, h=300, line_width=20):\n",
        "  display(HTML(canvas_html % (w, h, line_width)))\n",
        "  data = eval_js(\"data\")\n",
        "  binary = b64decode(data.split(',')[1])\n",
        "  with open(filename, 'wb') as f:\n",
        "    f.write(binary)\n",
        "  print('gambar baru diterima')"
      ],
      "execution_count": 0,
      "outputs": []
    },
    {
      "cell_type": "markdown",
      "metadata": {
        "id": "KNY6fN3rO1tq",
        "colab_type": "text"
      },
      "source": [
        "---\n",
        "## Input Gambar Baru\n",
        "Sekarang, jalankan cell di bawah, lalu coba gambar (tuliskan) input angka baru\n",
        "\n",
        "setelah selesai, klik tombol `Finish`\n",
        "\n",
        "usahakan gambar angka cukup besar, namun tidak menyentuh garis tepi"
      ]
    },
    {
      "cell_type": "code",
      "metadata": {
        "id": "Yuoa-o-iPuu0",
        "colab_type": "code",
        "colab": {
          "base_uri": "https://localhost:8080/",
          "height": 342
        },
        "outputId": "d296506b-77b7-458a-9048-74782cf2ac59"
      },
      "source": [
        "draw()"
      ],
      "execution_count": 131,
      "outputs": [
        {
          "output_type": "display_data",
          "data": {
            "text/html": [
              "\n",
              "<canvas width=300 height=300 style=\"border:1px solid #000000;\"></canvas>\n",
              "<button>Finish</button>\n",
              "<script>\n",
              "var canvas = document.querySelector('canvas')\n",
              "var ctx = canvas.getContext('2d')\n",
              "ctx.lineWidth = 20\n",
              "var button = document.querySelector('button')\n",
              "var mouse = {x: 0, y: 0}\n",
              "canvas.addEventListener('mousemove', function(e) {\n",
              "  mouse.x = e.pageX - this.offsetLeft\n",
              "  mouse.y = e.pageY - this.offsetTop\n",
              "})\n",
              "canvas.onmousedown = ()=>{\n",
              "  ctx.beginPath()\n",
              "  ctx.moveTo(mouse.x, mouse.y)\n",
              "  canvas.addEventListener('mousemove', onPaint)\n",
              "}\n",
              "canvas.onmouseup = ()=>{\n",
              "  canvas.removeEventListener('mousemove', onPaint)\n",
              "}\n",
              "var onPaint = ()=>{\n",
              "  ctx.lineTo(mouse.x, mouse.y)\n",
              "  ctx.stroke()\n",
              "}\n",
              "var data = new Promise(resolve=>{\n",
              "  button.onclick = ()=>{\n",
              "    resolve(canvas.toDataURL('image/png'))\n",
              "  }\n",
              "})\n",
              "</script>\n"
            ],
            "text/plain": [
              "<IPython.core.display.HTML object>"
            ]
          },
          "metadata": {
            "tags": []
          }
        },
        {
          "output_type": "stream",
          "text": [
            "gambar baru diterima\n"
          ],
          "name": "stdout"
        }
      ]
    },
    {
      "cell_type": "markdown",
      "metadata": {
        "id": "lAYfRaTTPQHL",
        "colab_type": "text"
      },
      "source": [
        "---\n",
        "## Resize Data\n",
        "Sekarang, ubah data menjadi Grayscale, dan resize data menjadi ukuran yang sama dengan data latih, yaitu `28x28`"
      ]
    },
    {
      "cell_type": "code",
      "metadata": {
        "id": "LhRUopEnP5Z0",
        "colab_type": "code",
        "colab": {
          "base_uri": "https://localhost:8080/",
          "height": 303
        },
        "outputId": "a8c0214a-cc1c-45de-91f0-d04626a5ea2e"
      },
      "source": [
        "from PIL import Image\n",
        "import cv2 as cv\n",
        "\n",
        "new_img = Image.open('drawing.jpg')\n",
        "new_img = np.array(new_img)[:,:,3]\n",
        "print('ukuran awal = ',new_img.shape)\n",
        "\n",
        "new_img2 = cv.resize(new_img, (28, 28),interpolation = cv.INTER_AREA) \n",
        "print('ukuran baru = ',new_img2.shape)\n",
        "\n",
        "plt.imshow(new_img2, cmap='gray')\n",
        "plt.show()"
      ],
      "execution_count": 132,
      "outputs": [
        {
          "output_type": "stream",
          "text": [
            "ukuran awal =  (300, 300)\n",
            "ukuran baru =  (28, 28)\n"
          ],
          "name": "stdout"
        },
        {
          "output_type": "display_data",
          "data": {
            "image/png": "[encoded data removed]",
            "text/plain": [
              "<Figure size 432x288 with 1 Axes>"
            ]
          },
          "metadata": {
            "tags": []
          }
        }
      ]
    },
    {
      "cell_type": "markdown",
      "metadata": {
        "id": "9r55v1r5P39Y",
        "colab_type": "text"
      },
      "source": [
        "---\n",
        "## Normalisasi Data\n",
        "Jangan lupa, sebelum memasukkan data ke model untuk diprediksi, lakukan *zero-mean centering* menggunakan rata-rata data latih"
      ]
    },
    {
      "cell_type": "code",
      "metadata": {
        "id": "_3vPTdq7UDJf",
        "colab_type": "code",
        "colab": {
          "base_uri": "https://localhost:8080/",
          "height": 269
        },
        "outputId": "6aba25ab-89ef-4d85-f539-018ec4f140df"
      },
      "source": [
        "new_img3 = new_img2.astype('float32')\n",
        "new_img3 -= mean_image\n",
        "\n",
        "plt.imshow(new_img3, cmap='gray')\n",
        "plt.show()"
      ],
      "execution_count": 133,
      "outputs": [
        {
          "output_type": "display_data",
          "data": {
            "image/png": "[encoded data removed]",
            "text/plain": [
              "<Figure size 432x288 with 1 Axes>"
            ]
          },
          "metadata": {
            "tags": []
          }
        }
      ]
    },
    {
      "cell_type": "markdown",
      "metadata": {
        "id": "6sYxS6yBQDxB",
        "colab_type": "text"
      },
      "source": [
        "## Prediksi Data\n",
        "\n",
        "Sekarang kita tinggal memprediksi data baru tersebut\n",
        "\n",
        "Coba lihat, apakah model sudah pintar\n",
        "\n",
        "jika belum, lanjutkan proses pelatihan dengan menjalankan cell yang memanggil fungsi `fit`"
      ]
    },
    {
      "cell_type": "code",
      "metadata": {
        "id": "EJNH_1OOUfNZ",
        "colab_type": "code",
        "colab": {
          "base_uri": "https://localhost:8080/",
          "height": 34
        },
        "outputId": "babdf91d-856a-4c7f-ac00-4bdcad815acb"
      },
      "source": [
        "y_pred = model.predict(new_img3.reshape((1,28,28)))\n",
        "print(\"Prediksi data baru: y = \" + str(np.argmax(y_pred)))"
      ],
      "execution_count": 134,
      "outputs": [
        {
          "output_type": "stream",
          "text": [
            "Prediksi data baru: y = 8\n"
          ],
          "name": "stdout"
        }
      ]
    },
    {
      "cell_type": "markdown",
      "metadata": {
        "id": "uB_ojCQ6zmKS",
        "colab_type": "text"
      },
      "source": [
        "<p>Copyright &copy; 2019 <a href=https://www.linkedin.com/in/andityaarifianto/>ADF</a> </p>"
      ]
    }
  ]
}