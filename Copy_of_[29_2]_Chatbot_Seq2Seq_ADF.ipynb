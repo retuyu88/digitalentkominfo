{
  "nbformat": 4,
  "nbformat_minor": 0,
  "metadata": {
    "colab": {
      "name": "Copy of [29 2] Chatbot Seq2Seq - ADF",
      "version": "0.3.2",
      "provenance": [],
      "collapsed_sections": [],
      "toc_visible": true,
      "include_colab_link": true
    },
    "kernelspec": {
      "name": "python3",
      "display_name": "Python 3"
    },
    "accelerator": "GPU"
  },
  "cells": [
    {
      "cell_type": "markdown",
      "metadata": {
        "id": "view-in-github",
        "colab_type": "text"
      },
      "source": [
        "<a href=\"https://colab.research.google.com/github/retuyu88/digitalentkominfo/blob/master/Copy_of_%5B29_2%5D_Chatbot_Seq2Seq_ADF.ipynb\" target=\"_parent\"><img src=\"https://colab.research.google.com/assets/colab-badge.svg\" alt=\"Open In Colab\"/></a>"
      ]
    },
    {
      "cell_type": "markdown",
      "metadata": {
        "id": "EfwbLGN0zdro",
        "colab_type": "text"
      },
      "source": [
        "<img src = \"https://i.imgur.com/UjutVJd.jpg\" align = \"center\">"
      ]
    },
    {
      "cell_type": "markdown",
      "metadata": {
        "id": "BhwN0XQX4Icu",
        "colab_type": "text"
      },
      "source": [
        "# Chatbot using Seq2Seq\n",
        "\n",
        "<img src=\"https://camo.githubusercontent.com/9e88497fcdec5a9c716e0de5bc4b6d1793c6e23f/687474703a2f2f73757269796164656570616e2e6769746875622e696f2f696d672f736571327365712f73657132736571322e706e67\" />"
      ]
    },
    {
      "cell_type": "markdown",
      "metadata": {
        "id": "tm5g4WIG5ym2",
        "colab_type": "text"
      },
      "source": [
        "## Import Package\n",
        "\n",
        "\n"
      ]
    },
    {
      "cell_type": "code",
      "metadata": {
        "id": "gHfdpVmDq6cL",
        "colab_type": "code",
        "colab": {}
      },
      "source": [
        ""
      ],
      "execution_count": 0,
      "outputs": []
    },
    {
      "cell_type": "code",
      "metadata": {
        "id": "UgZHR8TO0lFF",
        "colab_type": "code",
        "colab": {}
      },
      "source": [
        "\n",
        "import numpy as np\n",
        "import tensorflow as tf\n",
        "import pickle\n",
        "from tensorflow.keras import layers , activations , models , preprocessing\n",
        "\n"
      ],
      "execution_count": 0,
      "outputs": []
    },
    {
      "cell_type": "markdown",
      "metadata": {
        "id": "sxiGOLldKOQD",
        "colab_type": "text"
      },
      "source": [
        "## Chatter Bot English Dataset\n",
        "\n",
        "see example conversation [here](https://www.kaggle.com/kausr25/chatterbotenglish)"
      ]
    },
    {
      "cell_type": "markdown",
      "metadata": {
        "id": "imkdw4os6FI4",
        "colab_type": "text"
      },
      "source": [
        "### Download Data\n"
      ]
    },
    {
      "cell_type": "code",
      "metadata": {
        "id": "6i6u8US30ufe",
        "colab_type": "code",
        "colab": {}
      },
      "source": [
        "\n",
        "import requests, zipfile, io\n",
        "\n",
        "r = requests.get( 'https://github.com/shubham0204/Dataset_Archives/blob/master/chatbot_nlp.zip?raw=true' ) \n",
        "z = zipfile.ZipFile(io.BytesIO(r.content))\n",
        "z.extractall()\n"
      ],
      "execution_count": 0,
      "outputs": []
    },
    {
      "cell_type": "markdown",
      "metadata": {
        "id": "nF1mDKD_R6Os",
        "colab_type": "text"
      },
      "source": [
        "### Load Data Text\n",
        "\n",
        "\n",
        "\n"
      ]
    },
    {
      "cell_type": "code",
      "metadata": {
        "id": "RzTBhga6MiV7",
        "colab_type": "code",
        "colab": {
          "base_uri": "https://localhost:8080/",
          "height": 34
        },
        "outputId": "3b6ef013-8a58-4632-d3ba-feb5cb3234ba"
      },
      "source": [
        "\n",
        "from tensorflow.keras import preprocessing , utils\n",
        "import os\n",
        "import yaml\n",
        "\n",
        "dir_path = 'chatbot_nlp/data'\n",
        "files_list = os.listdir(dir_path + os.sep)\n",
        "\n",
        "questions = list()\n",
        "answers = list()\n",
        "\n",
        "for filepath in files_list:\n",
        "    stream = open( dir_path + os.sep + filepath , 'rb')\n",
        "    docs = yaml.safe_load(stream)\n",
        "    conversations = docs['conversations']\n",
        "    for con in conversations:\n",
        "        if len( con ) > 2 :\n",
        "            questions.append(con[0])\n",
        "            replies = con[ 1 : ]\n",
        "            ans = ''\n",
        "            for rep in replies:\n",
        "                ans += ' ' + rep\n",
        "            answers.append( ans )\n",
        "        elif len( con )> 1:\n",
        "            questions.append(con[0])\n",
        "            answers.append(con[1])\n",
        "\n",
        "answers_with_tags = list()\n",
        "for i in range( len( answers ) ):\n",
        "    if type( answers[i] ) == str:\n",
        "        answers_with_tags.append( answers[i] )\n",
        "    else:\n",
        "        questions.pop( i )\n",
        "\n",
        "answers = list()\n",
        "for i in range( len( answers_with_tags ) ) :\n",
        "    answers.append( '<START> ' + answers_with_tags[i] + ' <END>' )\n",
        "\n",
        "tokenizer = preprocessing.text.Tokenizer()\n",
        "tokenizer.fit_on_texts( questions + answers )\n",
        "VOCAB_SIZE = len( tokenizer.word_index )+1\n",
        "print( 'VOCAB SIZE : {}'.format( VOCAB_SIZE ))\n"
      ],
      "execution_count": 5,
      "outputs": [
        {
          "output_type": "stream",
          "text": [
            "VOCAB SIZE : 1894\n"
          ],
          "name": "stdout"
        }
      ]
    },
    {
      "cell_type": "markdown",
      "metadata": {
        "id": "mzsaO1YvS-M8",
        "colab_type": "text"
      },
      "source": [
        "\n",
        "### Data Preparation\n",
        "\n"
      ]
    },
    {
      "cell_type": "code",
      "metadata": {
        "id": "a5AD9ooQKc33",
        "colab_type": "code",
        "colab": {
          "base_uri": "https://localhost:8080/",
          "height": 68
        },
        "outputId": "63d110af-0f20-4795-9b53-ad5e08cd190e"
      },
      "source": [
        "\n",
        "# encoder_input_data\n",
        "tokenized_questions = tokenizer.texts_to_sequences( questions )\n",
        "maxlen_questions = max( [ len(x) for x in tokenized_questions ] )\n",
        "padded_questions = preprocessing.sequence.pad_sequences( tokenized_questions , maxlen=maxlen_questions , padding='post' )\n",
        "encoder_input_data = np.array( padded_questions )\n",
        "print( encoder_input_data.shape , maxlen_questions )\n",
        "\n",
        "# decoder_input_data\n",
        "tokenized_answers = tokenizer.texts_to_sequences( answers )\n",
        "maxlen_answers = max( [ len(x) for x in tokenized_answers ] )\n",
        "padded_answers = preprocessing.sequence.pad_sequences( tokenized_answers , maxlen=maxlen_answers , padding='post' )\n",
        "decoder_input_data = np.array( padded_answers )\n",
        "print( decoder_input_data.shape , maxlen_answers )\n",
        "\n",
        "# decoder_output_data\n",
        "tokenized_answers = tokenizer.texts_to_sequences( answers )\n",
        "for i in range(len(tokenized_answers)) :\n",
        "    tokenized_answers[i] = tokenized_answers[i][1:]\n",
        "padded_answers = preprocessing.sequence.pad_sequences( tokenized_answers , maxlen=maxlen_answers , padding='post' )\n",
        "onehot_answers = utils.to_categorical( padded_answers , VOCAB_SIZE )\n",
        "decoder_output_data = np.array( onehot_answers )\n",
        "print( decoder_output_data.shape )\n"
      ],
      "execution_count": 6,
      "outputs": [
        {
          "output_type": "stream",
          "text": [
            "(564, 22) 22\n",
            "(564, 74) 74\n",
            "(564, 74, 1894)\n"
          ],
          "name": "stdout"
        }
      ]
    },
    {
      "cell_type": "markdown",
      "metadata": {
        "colab_type": "text",
        "id": "4SwY3T139l19"
      },
      "source": [
        "## Encoder-Decoder model\n",
        "\n",
        "\n",
        "\n",
        "\n",
        "\n",
        "\n"
      ]
    },
    {
      "cell_type": "code",
      "metadata": {
        "id": "-gUYtOwv21rt",
        "colab_type": "code",
        "colab": {
          "base_uri": "https://localhost:8080/",
          "height": 615
        },
        "outputId": "49798356-34e2-4e41-88e5-71c2e6a49c3d"
      },
      "source": [
        "\n",
        "encoder_inputs = tf.keras.layers.Input(shape=( None , ))\n",
        "encoder_embedding = tf.keras.layers.Embedding( VOCAB_SIZE, 200 , mask_zero=True ) (encoder_inputs)\n",
        "encoder_outputs , state_h , state_c = tf.keras.layers.LSTM( 200 , return_state=True )( encoder_embedding )\n",
        "encoder_states = [ state_h , state_c ]\n",
        "\n",
        "decoder_inputs = tf.keras.layers.Input(shape=( None ,  ))\n",
        "decoder_embedding = tf.keras.layers.Embedding( VOCAB_SIZE, 200 , mask_zero=True) (decoder_inputs)\n",
        "decoder_lstm = tf.keras.layers.LSTM( 200 , return_state=True , return_sequences=True )\n",
        "decoder_outputs , _ , _ = decoder_lstm ( decoder_embedding , initial_state=encoder_states )\n",
        "decoder_dense = tf.keras.layers.Dense( VOCAB_SIZE , activation=tf.keras.activations.softmax ) \n",
        "output = decoder_dense ( decoder_outputs )\n",
        "\n",
        "model = tf.keras.models.Model([encoder_inputs, decoder_inputs], output )\n",
        "\n",
        "model.summary()\n"
      ],
      "execution_count": 7,
      "outputs": [
        {
          "output_type": "stream",
          "text": [
            "WARNING: Logging before flag parsing goes to stderr.\n",
            "W0808 03:44:36.680970 140675336218496 deprecation.py:506] From /usr/local/lib/python3.6/dist-packages/tensorflow/python/keras/initializers.py:119: calling RandomUniform.__init__ (from tensorflow.python.ops.init_ops) with dtype is deprecated and will be removed in a future version.\n",
            "Instructions for updating:\n",
            "Call initializer instance with the dtype argument instead of passing it to the constructor\n",
            "W0808 03:44:36.698596 140675336218496 deprecation.py:506] From /usr/local/lib/python3.6/dist-packages/tensorflow/python/ops/init_ops.py:1251: calling VarianceScaling.__init__ (from tensorflow.python.ops.init_ops) with dtype is deprecated and will be removed in a future version.\n",
            "Instructions for updating:\n",
            "Call initializer instance with the dtype argument instead of passing it to the constructor\n",
            "W0808 03:44:36.874195 140675336218496 deprecation.py:323] From /usr/local/lib/python3.6/dist-packages/tensorflow/python/keras/backend.py:3794: add_dispatch_support.<locals>.wrapper (from tensorflow.python.ops.array_ops) is deprecated and will be removed in a future version.\n",
            "Instructions for updating:\n",
            "Use tf.where in 2.0, which has the same broadcast rule as np.where\n"
          ],
          "name": "stderr"
        },
        {
          "output_type": "stream",
          "text": [
            "Model: \"model\"\n",
            "__________________________________________________________________________________________________\n",
            "Layer (type)                    Output Shape         Param #     Connected to                     \n",
            "==================================================================================================\n",
            "input_1 (InputLayer)            [(None, None)]       0                                            \n",
            "__________________________________________________________________________________________________\n",
            "input_2 (InputLayer)            [(None, None)]       0                                            \n",
            "__________________________________________________________________________________________________\n",
            "embedding (Embedding)           (None, None, 200)    378800      input_1[0][0]                    \n",
            "__________________________________________________________________________________________________\n",
            "embedding_1 (Embedding)         (None, None, 200)    378800      input_2[0][0]                    \n",
            "__________________________________________________________________________________________________\n",
            "lstm (LSTM)                     [(None, 200), (None, 320800      embedding[0][0]                  \n",
            "__________________________________________________________________________________________________\n",
            "lstm_1 (LSTM)                   [(None, None, 200),  320800      embedding_1[0][0]                \n",
            "                                                                 lstm[0][1]                       \n",
            "                                                                 lstm[0][2]                       \n",
            "__________________________________________________________________________________________________\n",
            "dense (Dense)                   (None, None, 1894)   380694      lstm_1[0][0]                     \n",
            "==================================================================================================\n",
            "Total params: 1,779,894\n",
            "Trainable params: 1,779,894\n",
            "Non-trainable params: 0\n",
            "__________________________________________________________________________________________________\n"
          ],
          "name": "stdout"
        }
      ]
    },
    {
      "cell_type": "markdown",
      "metadata": {
        "id": "n9g_8sR7WWf3",
        "colab_type": "text"
      },
      "source": [
        "## Training\n"
      ]
    },
    {
      "cell_type": "code",
      "metadata": {
        "id": "N74NZnfo3Id-",
        "colab_type": "code",
        "colab": {
          "base_uri": "https://localhost:8080/",
          "height": 1000
        },
        "outputId": "fab7f703-f225-4aa8-a0fa-816d85f814bd"
      },
      "source": [
        "model.compile(optimizer='adam', loss='categorical_crossentropy')\n",
        "model.fit([encoder_input_data , decoder_input_data], decoder_output_data, batch_size=200, epochs=100 ) \n",
        "model.save( 'model.h5' ) \n"
      ],
      "execution_count": 19,
      "outputs": [
        {
          "output_type": "stream",
          "text": [
            "Epoch 1/100\n",
            "564/564 [==============================] - 2s 4ms/sample - loss: 0.6862\n",
            "Epoch 2/100\n",
            "564/564 [==============================] - 1s 1ms/sample - loss: 0.6799\n",
            "Epoch 3/100\n",
            "564/564 [==============================] - 1s 1ms/sample - loss: 0.6754\n",
            "Epoch 4/100\n",
            "564/564 [==============================] - 1s 1ms/sample - loss: 0.6708\n",
            "Epoch 5/100\n",
            "564/564 [==============================] - 1s 1ms/sample - loss: 0.6669\n",
            "Epoch 6/100\n",
            "564/564 [==============================] - 1s 1ms/sample - loss: 0.6626\n",
            "Epoch 7/100\n",
            "564/564 [==============================] - 1s 1ms/sample - loss: 0.6584\n",
            "Epoch 8/100\n",
            "564/564 [==============================] - 1s 1ms/sample - loss: 0.6543\n",
            "Epoch 9/100\n",
            "564/564 [==============================] - 1s 1ms/sample - loss: 0.6500\n",
            "Epoch 10/100\n",
            "564/564 [==============================] - 1s 1ms/sample - loss: 0.6457\n",
            "Epoch 11/100\n",
            "564/564 [==============================] - 1s 1ms/sample - loss: 0.6416\n",
            "Epoch 12/100\n",
            "564/564 [==============================] - 1s 1ms/sample - loss: 0.6373\n",
            "Epoch 13/100\n",
            "564/564 [==============================] - 1s 1ms/sample - loss: 0.6331\n",
            "Epoch 14/100\n",
            "564/564 [==============================] - 1s 1ms/sample - loss: 0.6289\n",
            "Epoch 15/100\n",
            "564/564 [==============================] - 1s 1ms/sample - loss: 0.6246\n",
            "Epoch 16/100\n",
            "564/564 [==============================] - 1s 1ms/sample - loss: 0.6204\n",
            "Epoch 17/100\n",
            "564/564 [==============================] - 1s 1ms/sample - loss: 0.6162\n",
            "Epoch 18/100\n",
            "564/564 [==============================] - 1s 1ms/sample - loss: 0.6120\n",
            "Epoch 19/100\n",
            "564/564 [==============================] - 1s 1ms/sample - loss: 0.6076\n",
            "Epoch 20/100\n",
            "564/564 [==============================] - 1s 1ms/sample - loss: 0.6033\n",
            "Epoch 21/100\n",
            "564/564 [==============================] - 1s 1ms/sample - loss: 0.5990\n",
            "Epoch 22/100\n",
            "564/564 [==============================] - 1s 1ms/sample - loss: 0.5947\n",
            "Epoch 23/100\n",
            "564/564 [==============================] - 1s 1ms/sample - loss: 0.5904\n",
            "Epoch 24/100\n",
            "564/564 [==============================] - 1s 1ms/sample - loss: 0.5860\n",
            "Epoch 25/100\n",
            "564/564 [==============================] - 1s 1ms/sample - loss: 0.5817\n",
            "Epoch 26/100\n",
            "564/564 [==============================] - 1s 1ms/sample - loss: 0.5774\n",
            "Epoch 27/100\n",
            "564/564 [==============================] - 1s 1ms/sample - loss: 0.5731\n",
            "Epoch 28/100\n",
            "564/564 [==============================] - 1s 1ms/sample - loss: 0.5688\n",
            "Epoch 29/100\n",
            "564/564 [==============================] - 1s 1ms/sample - loss: 0.5644\n",
            "Epoch 30/100\n",
            "564/564 [==============================] - 1s 1ms/sample - loss: 0.5601\n",
            "Epoch 31/100\n",
            "564/564 [==============================] - 1s 1ms/sample - loss: 0.5557\n",
            "Epoch 32/100\n",
            "564/564 [==============================] - 1s 1ms/sample - loss: 0.5514\n",
            "Epoch 33/100\n",
            "564/564 [==============================] - 1s 1ms/sample - loss: 0.5472\n",
            "Epoch 34/100\n",
            "564/564 [==============================] - 1s 1ms/sample - loss: 0.5427\n",
            "Epoch 35/100\n",
            "564/564 [==============================] - 1s 1ms/sample - loss: 0.5385\n",
            "Epoch 36/100\n",
            "564/564 [==============================] - 1s 1ms/sample - loss: 0.5341\n",
            "Epoch 37/100\n",
            "564/564 [==============================] - 1s 1ms/sample - loss: 0.5298\n",
            "Epoch 38/100\n",
            "564/564 [==============================] - 1s 1ms/sample - loss: 0.5255\n",
            "Epoch 39/100\n",
            "564/564 [==============================] - 1s 1ms/sample - loss: 0.5212\n",
            "Epoch 40/100\n",
            "564/564 [==============================] - 1s 1ms/sample - loss: 0.5169\n",
            "Epoch 41/100\n",
            "564/564 [==============================] - 1s 1ms/sample - loss: 0.5126\n",
            "Epoch 42/100\n",
            "564/564 [==============================] - 1s 1ms/sample - loss: 0.5082\n",
            "Epoch 43/100\n",
            "564/564 [==============================] - 1s 1ms/sample - loss: 0.5039\n",
            "Epoch 44/100\n",
            "564/564 [==============================] - 1s 1ms/sample - loss: 0.4997\n",
            "Epoch 45/100\n",
            "564/564 [==============================] - 1s 1ms/sample - loss: 0.4955\n",
            "Epoch 46/100\n",
            "564/564 [==============================] - 1s 1ms/sample - loss: 0.4913\n",
            "Epoch 47/100\n",
            "564/564 [==============================] - 1s 1ms/sample - loss: 0.4871\n",
            "Epoch 48/100\n",
            "564/564 [==============================] - 1s 1ms/sample - loss: 0.4827\n",
            "Epoch 49/100\n",
            "564/564 [==============================] - 1s 1ms/sample - loss: 0.4784\n",
            "Epoch 50/100\n",
            "564/564 [==============================] - 1s 1ms/sample - loss: 0.4743\n",
            "Epoch 51/100\n",
            "564/564 [==============================] - 1s 1ms/sample - loss: 0.4702\n",
            "Epoch 52/100\n",
            "564/564 [==============================] - 1s 1ms/sample - loss: 0.4660\n",
            "Epoch 53/100\n",
            "564/564 [==============================] - 1s 1ms/sample - loss: 0.4618\n",
            "Epoch 54/100\n",
            "564/564 [==============================] - 1s 1ms/sample - loss: 0.4577\n",
            "Epoch 55/100\n",
            "564/564 [==============================] - 1s 1ms/sample - loss: 0.4535\n",
            "Epoch 56/100\n",
            "564/564 [==============================] - 1s 1ms/sample - loss: 0.4493\n",
            "Epoch 57/100\n",
            "564/564 [==============================] - 1s 1ms/sample - loss: 0.4452\n",
            "Epoch 58/100\n",
            "564/564 [==============================] - 1s 1ms/sample - loss: 0.4412\n",
            "Epoch 59/100\n",
            "564/564 [==============================] - 1s 1ms/sample - loss: 0.4372\n",
            "Epoch 60/100\n",
            "564/564 [==============================] - 1s 1ms/sample - loss: 0.4331\n",
            "Epoch 61/100\n",
            "564/564 [==============================] - 1s 1ms/sample - loss: 0.4292\n",
            "Epoch 62/100\n",
            "564/564 [==============================] - 1s 1ms/sample - loss: 0.4251\n",
            "Epoch 63/100\n",
            "564/564 [==============================] - 1s 1ms/sample - loss: 0.4211\n",
            "Epoch 64/100\n",
            "564/564 [==============================] - 1s 1ms/sample - loss: 0.4172\n",
            "Epoch 65/100\n",
            "564/564 [==============================] - 1s 1ms/sample - loss: 0.4132\n",
            "Epoch 66/100\n",
            "564/564 [==============================] - 1s 2ms/sample - loss: 0.4092\n",
            "Epoch 67/100\n",
            "564/564 [==============================] - 1s 2ms/sample - loss: 0.4052\n",
            "Epoch 68/100\n",
            "564/564 [==============================] - 1s 1ms/sample - loss: 0.4013\n",
            "Epoch 69/100\n",
            "564/564 [==============================] - 1s 1ms/sample - loss: 0.3974\n",
            "Epoch 70/100\n",
            "564/564 [==============================] - 1s 1ms/sample - loss: 0.3935\n",
            "Epoch 71/100\n",
            "564/564 [==============================] - 1s 1ms/sample - loss: 0.3898\n",
            "Epoch 72/100\n",
            "564/564 [==============================] - 1s 1ms/sample - loss: 0.3860\n",
            "Epoch 73/100\n",
            "564/564 [==============================] - 1s 1ms/sample - loss: 0.3821\n",
            "Epoch 74/100\n",
            "564/564 [==============================] - 1s 1ms/sample - loss: 0.3784\n",
            "Epoch 75/100\n",
            "564/564 [==============================] - 1s 1ms/sample - loss: 0.3748\n",
            "Epoch 76/100\n",
            "564/564 [==============================] - 1s 1ms/sample - loss: 0.3710\n",
            "Epoch 77/100\n",
            "564/564 [==============================] - 1s 1ms/sample - loss: 0.3674\n",
            "Epoch 78/100\n",
            "564/564 [==============================] - 1s 1ms/sample - loss: 0.3637\n",
            "Epoch 79/100\n",
            "564/564 [==============================] - 1s 1ms/sample - loss: 0.3602\n",
            "Epoch 80/100\n",
            "564/564 [==============================] - 1s 1ms/sample - loss: 0.3567\n",
            "Epoch 81/100\n",
            "564/564 [==============================] - 1s 1ms/sample - loss: 0.3531\n",
            "Epoch 82/100\n",
            "564/564 [==============================] - 1s 1ms/sample - loss: 0.3496\n",
            "Epoch 83/100\n",
            "564/564 [==============================] - 1s 1ms/sample - loss: 0.3461\n",
            "Epoch 84/100\n",
            "564/564 [==============================] - 1s 1ms/sample - loss: 0.3427\n",
            "Epoch 85/100\n",
            "564/564 [==============================] - 1s 1ms/sample - loss: 0.3394\n",
            "Epoch 86/100\n",
            "564/564 [==============================] - 1s 1ms/sample - loss: 0.3360\n",
            "Epoch 87/100\n",
            "564/564 [==============================] - 1s 1ms/sample - loss: 0.3326\n",
            "Epoch 88/100\n",
            "564/564 [==============================] - 1s 1ms/sample - loss: 0.3293\n",
            "Epoch 89/100\n",
            "564/564 [==============================] - 1s 1ms/sample - loss: 0.3260\n",
            "Epoch 90/100\n",
            "564/564 [==============================] - 1s 1ms/sample - loss: 0.3228\n",
            "Epoch 91/100\n",
            "564/564 [==============================] - 1s 1ms/sample - loss: 0.3194\n",
            "Epoch 92/100\n",
            "564/564 [==============================] - 1s 1ms/sample - loss: 0.3163\n",
            "Epoch 93/100\n",
            "564/564 [==============================] - 1s 1ms/sample - loss: 0.3131\n",
            "Epoch 94/100\n",
            "564/564 [==============================] - 1s 1ms/sample - loss: 0.3101\n",
            "Epoch 95/100\n",
            "564/564 [==============================] - 1s 1ms/sample - loss: 0.3071\n",
            "Epoch 96/100\n",
            "564/564 [==============================] - 1s 1ms/sample - loss: 0.3041\n",
            "Epoch 97/100\n",
            "564/564 [==============================] - 1s 1ms/sample - loss: 0.3011\n",
            "Epoch 98/100\n",
            "564/564 [==============================] - 1s 1ms/sample - loss: 0.2981\n",
            "Epoch 99/100\n",
            "564/564 [==============================] - 1s 1ms/sample - loss: 0.2952\n",
            "Epoch 100/100\n",
            "564/564 [==============================] - 1s 1ms/sample - loss: 0.2921\n"
          ],
          "name": "stdout"
        }
      ]
    },
    {
      "cell_type": "markdown",
      "metadata": {
        "id": "3sOLQr0M-lAe",
        "colab_type": "text"
      },
      "source": [
        "## Inference Model\n",
        "inference models to help in predicting answers.\n",
        "\n",
        "**Encoder inference model** : Takes the question as input and outputs LSTM states ( `h` and `c` ).\n",
        "\n",
        "**Decoder inference model** : Takes in 2 inputs, one are the LSTM states ( Output of encoder model ), second are the answer input seqeunces ( ones not having the `<start>` tag ). It will output the answers for the question which we fed to the encoder model and its state values."
      ]
    },
    {
      "cell_type": "code",
      "metadata": {
        "id": "1u5DE4qo3Mf2",
        "colab_type": "code",
        "colab": {}
      },
      "source": [
        "\n",
        "def make_inference_models():\n",
        "    \n",
        "    encoder_model = tf.keras.models.Model(encoder_inputs, encoder_states)\n",
        "    \n",
        "    decoder_state_input_h = tf.keras.layers.Input(shape=( 200 ,))\n",
        "    decoder_state_input_c = tf.keras.layers.Input(shape=( 200 ,))\n",
        "    \n",
        "    decoder_states_inputs = [decoder_state_input_h, decoder_state_input_c]\n",
        "    \n",
        "    decoder_outputs, state_h, state_c = decoder_lstm(\n",
        "        decoder_embedding , initial_state=decoder_states_inputs)\n",
        "    decoder_states = [state_h, state_c]\n",
        "    decoder_outputs = decoder_dense(decoder_outputs)\n",
        "    decoder_model = tf.keras.models.Model(\n",
        "        [decoder_inputs] + decoder_states_inputs,\n",
        "        [decoder_outputs] + decoder_states)\n",
        "    \n",
        "    return encoder_model , decoder_model\n"
      ],
      "execution_count": 0,
      "outputs": []
    },
    {
      "cell_type": "markdown",
      "metadata": {
        "id": "rxZp0ZRy-6dA",
        "colab_type": "text"
      },
      "source": [
        "## Testing\n"
      ]
    },
    {
      "cell_type": "code",
      "metadata": {
        "id": "5P_wDD554q9O",
        "colab_type": "code",
        "colab": {}
      },
      "source": [
        "\n",
        "def str_to_tokens( sentence : str ):\n",
        "    words = sentence.lower().split()\n",
        "    tokens_list = list()\n",
        "    for word in words:\n",
        "        tokens_list.append( tokenizer.word_index[ word ] ) \n",
        "    return preprocessing.sequence.pad_sequences( [tokens_list] , maxlen=maxlen_questions , padding='post')\n"
      ],
      "execution_count": 0,
      "outputs": []
    },
    {
      "cell_type": "code",
      "metadata": {
        "id": "2zBmN8qB3O-e",
        "colab_type": "code",
        "colab": {}
      },
      "source": [
        "\n",
        "enc_model , dec_model = make_inference_models()\n",
        "\n",
        "for _ in range(10):\n",
        "    states_values = enc_model.predict( str_to_tokens( input( 'Enter question : ' ) ) )\n",
        "    empty_target_seq = np.zeros( ( 1 , 1 ) )\n",
        "    empty_target_seq[0, 0] = tokenizer.word_index['start']\n",
        "    stop_condition = False\n",
        "    decoded_translation = ''\n",
        "    while not stop_condition :\n",
        "        dec_outputs , h , c = dec_model.predict([ empty_target_seq ] + states_values )\n",
        "        sampled_word_index = np.argmax( dec_outputs[0, -1, :] )\n",
        "        sampled_word = None\n",
        "        for word , index in tokenizer.word_index.items() :\n",
        "            if sampled_word_index == index :\n",
        "                decoded_translation += ' {}'.format( word )\n",
        "                sampled_word = word\n",
        "        \n",
        "        if sampled_word == 'end' or len(decoded_translation.split()) > maxlen_answers:\n",
        "            stop_condition = True\n",
        "            \n",
        "        empty_target_seq = np.zeros( ( 1 , 1 ) )  \n",
        "        empty_target_seq[ 0 , 0 ] = sampled_word_index\n",
        "        states_values = [ h , c ] \n",
        "\n",
        "    print( decoded_translation )\n"
      ],
      "execution_count": 0,
      "outputs": []
    },
    {
      "cell_type": "markdown",
      "metadata": {
        "id": "uB_ojCQ6zmKS",
        "colab_type": "text"
      },
      "source": [
        "<p>Copyright &copy; 2019 <a href=https://www.linkedin.com/in/andityaarifianto/>ADF</a> </p>"
      ]
    }
  ]
}