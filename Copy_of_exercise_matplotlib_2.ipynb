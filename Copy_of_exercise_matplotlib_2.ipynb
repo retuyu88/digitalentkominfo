{
  "nbformat": 4,
  "nbformat_minor": 0,
  "metadata": {
    "colab": {
      "name": "Copy of exercise_matplotlib_2.ipynb",
      "version": "0.3.2",
      "provenance": [],
      "include_colab_link": true
    },
    "language_info": {
      "codemirror_mode": {
        "name": "ipython",
        "version": 3
      },
      "file_extension": ".py",
      "mimetype": "text/x-python",
      "name": "python",
      "nbconvert_exporter": "python",
      "pygments_lexer": "ipython3",
      "version": "3.6.8"
    },
    "kernelspec": {
      "display_name": "Python 3",
      "language": "python",
      "name": "python3"
    }
  },
  "cells": [
    {
      "cell_type": "markdown",
      "metadata": {
        "id": "view-in-github",
        "colab_type": "text"
      },
      "source": [
        "<a href=\"https://colab.research.google.com/github/retuyu88/digitalentkominfo/blob/master/Copy_of_exercise_matplotlib_2.ipynb\" target=\"_parent\"><img src=\"https://colab.research.google.com/assets/colab-badge.svg\" alt=\"Open In Colab\"/></a>"
      ]
    },
    {
      "cell_type": "markdown",
      "metadata": {
        "id": "3ilApUx4wTFT",
        "colab_type": "text"
      },
      "source": [
        "## Matplotlib exercise"
      ]
    },
    {
      "cell_type": "markdown",
      "metadata": {
        "id": "tnpOeHvAwTFU",
        "colab_type": "text"
      },
      "source": [
        "### 1. Import necessary library"
      ]
    },
    {
      "cell_type": "code",
      "metadata": {
        "id": "JRZ54NplwTFU",
        "colab_type": "code",
        "colab": {}
      },
      "source": [
        "import pandas as pd\n",
        "import matplotlib.pyplot as plt"
      ],
      "execution_count": 0,
      "outputs": []
    },
    {
      "cell_type": "markdown",
      "metadata": {
        "id": "xVxn01amwTFX",
        "colab_type": "text"
      },
      "source": [
        "### 2. Import the dataset"
      ]
    },
    {
      "cell_type": "code",
      "metadata": {
        "id": "K3NEGw5SwTFX",
        "colab_type": "code",
        "outputId": "4dc3b4d3-e1e1-48b8-d1ec-e8a72ebf25af",
        "colab": {
          "base_uri": "https://localhost:8080/",
          "height": 421
        }
      },
      "source": [
        "url = 'https://pynative.com/wp-content/uploads/2019/01/company_sales_data.csv'\n",
        "    \n",
        "sales = pd.read_csv(url)\n",
        "sales"
      ],
      "execution_count": 2,
      "outputs": [
        {
          "output_type": "execute_result",
          "data": {
            "text/html": [
              "<div>\n",
              "<style scoped>\n",
              "    .dataframe tbody tr th:only-of-type {\n",
              "        vertical-align: middle;\n",
              "    }\n",
              "\n",
              "    .dataframe tbody tr th {\n",
              "        vertical-align: top;\n",
              "    }\n",
              "\n",
              "    .dataframe thead th {\n",
              "        text-align: right;\n",
              "    }\n",
              "</style>\n",
              "<table border=\"1\" class=\"dataframe\">\n",
              "  <thead>\n",
              "    <tr style=\"text-align: right;\">\n",
              "      <th></th>\n",
              "      <th>month_number</th>\n",
              "      <th>facecream</th>\n",
              "      <th>facewash</th>\n",
              "      <th>toothpaste</th>\n",
              "      <th>bathingsoap</th>\n",
              "      <th>shampoo</th>\n",
              "      <th>moisturizer</th>\n",
              "      <th>total_units</th>\n",
              "      <th>total_profit</th>\n",
              "    </tr>\n",
              "  </thead>\n",
              "  <tbody>\n",
              "    <tr>\n",
              "      <th>0</th>\n",
              "      <td>1</td>\n",
              "      <td>2500</td>\n",
              "      <td>1500</td>\n",
              "      <td>5200</td>\n",
              "      <td>9200</td>\n",
              "      <td>1200</td>\n",
              "      <td>1500</td>\n",
              "      <td>21100</td>\n",
              "      <td>211000</td>\n",
              "    </tr>\n",
              "    <tr>\n",
              "      <th>1</th>\n",
              "      <td>2</td>\n",
              "      <td>2630</td>\n",
              "      <td>1200</td>\n",
              "      <td>5100</td>\n",
              "      <td>6100</td>\n",
              "      <td>2100</td>\n",
              "      <td>1200</td>\n",
              "      <td>18330</td>\n",
              "      <td>183300</td>\n",
              "    </tr>\n",
              "    <tr>\n",
              "      <th>2</th>\n",
              "      <td>3</td>\n",
              "      <td>2140</td>\n",
              "      <td>1340</td>\n",
              "      <td>4550</td>\n",
              "      <td>9550</td>\n",
              "      <td>3550</td>\n",
              "      <td>1340</td>\n",
              "      <td>22470</td>\n",
              "      <td>224700</td>\n",
              "    </tr>\n",
              "    <tr>\n",
              "      <th>3</th>\n",
              "      <td>4</td>\n",
              "      <td>3400</td>\n",
              "      <td>1130</td>\n",
              "      <td>5870</td>\n",
              "      <td>8870</td>\n",
              "      <td>1870</td>\n",
              "      <td>1130</td>\n",
              "      <td>22270</td>\n",
              "      <td>222700</td>\n",
              "    </tr>\n",
              "    <tr>\n",
              "      <th>4</th>\n",
              "      <td>5</td>\n",
              "      <td>3600</td>\n",
              "      <td>1740</td>\n",
              "      <td>4560</td>\n",
              "      <td>7760</td>\n",
              "      <td>1560</td>\n",
              "      <td>1740</td>\n",
              "      <td>20960</td>\n",
              "      <td>209600</td>\n",
              "    </tr>\n",
              "    <tr>\n",
              "      <th>5</th>\n",
              "      <td>6</td>\n",
              "      <td>2760</td>\n",
              "      <td>1555</td>\n",
              "      <td>4890</td>\n",
              "      <td>7490</td>\n",
              "      <td>1890</td>\n",
              "      <td>1555</td>\n",
              "      <td>20140</td>\n",
              "      <td>201400</td>\n",
              "    </tr>\n",
              "    <tr>\n",
              "      <th>6</th>\n",
              "      <td>7</td>\n",
              "      <td>2980</td>\n",
              "      <td>1120</td>\n",
              "      <td>4780</td>\n",
              "      <td>8980</td>\n",
              "      <td>1780</td>\n",
              "      <td>1120</td>\n",
              "      <td>29550</td>\n",
              "      <td>295500</td>\n",
              "    </tr>\n",
              "    <tr>\n",
              "      <th>7</th>\n",
              "      <td>8</td>\n",
              "      <td>3700</td>\n",
              "      <td>1400</td>\n",
              "      <td>5860</td>\n",
              "      <td>9960</td>\n",
              "      <td>2860</td>\n",
              "      <td>1400</td>\n",
              "      <td>36140</td>\n",
              "      <td>361400</td>\n",
              "    </tr>\n",
              "    <tr>\n",
              "      <th>8</th>\n",
              "      <td>9</td>\n",
              "      <td>3540</td>\n",
              "      <td>1780</td>\n",
              "      <td>6100</td>\n",
              "      <td>8100</td>\n",
              "      <td>2100</td>\n",
              "      <td>1780</td>\n",
              "      <td>23400</td>\n",
              "      <td>234000</td>\n",
              "    </tr>\n",
              "    <tr>\n",
              "      <th>9</th>\n",
              "      <td>10</td>\n",
              "      <td>1990</td>\n",
              "      <td>1890</td>\n",
              "      <td>8300</td>\n",
              "      <td>10300</td>\n",
              "      <td>2300</td>\n",
              "      <td>1890</td>\n",
              "      <td>26670</td>\n",
              "      <td>266700</td>\n",
              "    </tr>\n",
              "    <tr>\n",
              "      <th>10</th>\n",
              "      <td>11</td>\n",
              "      <td>2340</td>\n",
              "      <td>2100</td>\n",
              "      <td>7300</td>\n",
              "      <td>13300</td>\n",
              "      <td>2400</td>\n",
              "      <td>2100</td>\n",
              "      <td>41280</td>\n",
              "      <td>412800</td>\n",
              "    </tr>\n",
              "    <tr>\n",
              "      <th>11</th>\n",
              "      <td>12</td>\n",
              "      <td>2900</td>\n",
              "      <td>1760</td>\n",
              "      <td>7400</td>\n",
              "      <td>14400</td>\n",
              "      <td>1800</td>\n",
              "      <td>1760</td>\n",
              "      <td>30020</td>\n",
              "      <td>300200</td>\n",
              "    </tr>\n",
              "  </tbody>\n",
              "</table>\n",
              "</div>"
            ],
            "text/plain": [
              "    month_number  facecream  facewash  ...  moisturizer  total_units  total_profit\n",
              "0              1       2500      1500  ...         1500        21100        211000\n",
              "1              2       2630      1200  ...         1200        18330        183300\n",
              "2              3       2140      1340  ...         1340        22470        224700\n",
              "3              4       3400      1130  ...         1130        22270        222700\n",
              "4              5       3600      1740  ...         1740        20960        209600\n",
              "5              6       2760      1555  ...         1555        20140        201400\n",
              "6              7       2980      1120  ...         1120        29550        295500\n",
              "7              8       3700      1400  ...         1400        36140        361400\n",
              "8              9       3540      1780  ...         1780        23400        234000\n",
              "9             10       1990      1890  ...         1890        26670        266700\n",
              "10            11       2340      2100  ...         2100        41280        412800\n",
              "11            12       2900      1760  ...         1760        30020        300200\n",
              "\n",
              "[12 rows x 9 columns]"
            ]
          },
          "metadata": {
            "tags": []
          },
          "execution_count": 2
        }
      ]
    },
    {
      "cell_type": "markdown",
      "metadata": {
        "id": "ASSIUdmTwTFb",
        "colab_type": "text"
      },
      "source": [
        "### 3. Read Total profit of all months and show it using a line plot<br>\n",
        "Total profit data provided for each month. Generated line plot must include the following properties:<br>\n",
        "X label name = Month Number<br>\n",
        "Y label name = Total profit<br>\n",
        "The line plot graph should look like this.<br>\n",
        "![Image](https://pynative.com/wp-content/uploads/2019/01/matplotlib_and_pandas_exercise_1_plot_company_profit-768x512.png)"
      ]
    },
    {
      "cell_type": "code",
      "metadata": {
        "id": "ZQaAiALZwTFc",
        "colab_type": "code",
        "outputId": "10ce6ecc-a4a2-45ed-dfde-3b14fcd11abc",
        "colab": {
          "base_uri": "https://localhost:8080/",
          "height": 312
        }
      },
      "source": [
        "month_ = sales.loc[:,\"month_number\"].tolist()\n",
        "total_profit = sales.loc[:,\"total_profit\"].tolist()\n",
        "plt.plot(month_,total_profit)\n",
        "plt.title('Company profit per month')\n",
        "plt.ylabel('Profit')\n",
        "plt.xlabel('Month Number')"
      ],
      "execution_count": 7,
      "outputs": [
        {
          "output_type": "execute_result",
          "data": {
            "text/plain": [
              "Text(0.5, 0, 'Month Number')"
            ]
          },
          "metadata": {
            "tags": []
          },
          "execution_count": 7
        },
        {
          "output_type": "display_data",
          "data": {
            "image/png": "[encoded data removed]",
            "text/plain": [
              "<Figure size 432x288 with 1 Axes>"
            ]
          },
          "metadata": {
            "tags": []
          }
        }
      ]
    },
    {
      "cell_type": "markdown",
      "metadata": {
        "id": "VMs2NpA4wTFe",
        "colab_type": "text"
      },
      "source": [
        "### 4. Get Total profit of all months and show line plot with the following Style properties<br>\n",
        "Generated line plot must include following Style properties: <br>\n",
        "\n",
        "Line Style dotted and Line color should be red<br>\n",
        "Show legend at the lower right location.<br>\n",
        "X label name = Month Number<br>\n",
        "Y label name = Sold units number<br>\n",
        "Add a circle marker.<br>\n",
        "Line marker color as read<br>\n",
        "Line width should be 3<br>\n",
        "The line plot graph should look like this.<br>\n",
        "![Image](https://pynative.com/wp-content/uploads/2019/01/matplotlib_and_pandas_exercise_2_plot_style_properties-768x512.png)"
      ]
    },
    {
      "cell_type": "code",
      "metadata": {
        "id": "9UO1fn8AwTFf",
        "colab_type": "code",
        "colab": {
          "base_uri": "https://localhost:8080/",
          "height": 312
        },
        "outputId": "f0b77b08-f1fe-447b-87b9-7854fe568d69"
      },
      "source": [
        "plt.plot(month_,total_profit,color='red', linestyle='dashed',marker='o',linewidth = 3, label='Profit data of last year')\n",
        "plt.title('Company profit per month')\n",
        "plt.ylabel('Profit in Total')\n",
        "plt.xlabel('Month Number')\n",
        "plt.legend(loc='lower right')\n"
      ],
      "execution_count": 24,
      "outputs": [
        {
          "output_type": "execute_result",
          "data": {
            "text/plain": [
              "<matplotlib.legend.Legend at 0x7f7e85c68160>"
            ]
          },
          "metadata": {
            "tags": []
          },
          "execution_count": 24
        },
        {
          "output_type": "display_data",
          "data": {
            "image/png": "[encoded data removed]",
            "text/plain": [
              "<Figure size 432x288 with 1 Axes>"
            ]
          },
          "metadata": {
            "tags": []
          }
        }
      ]
    },
    {
      "cell_type": "markdown",
      "metadata": {
        "id": "Mmgfzrs1wTFh",
        "colab_type": "text"
      },
      "source": [
        "### 5. Read all product sales data and show it  using a multiline plot<br>\n",
        "Display the number of units sold per month for each product using multiline plots. (i.e., Separate Plotline for each product for each product).<br>\n",
        "The graph should look like this.<br>\n",
        "![Image](https://pynative.com/wp-content/uploads/2019/01/matplotlib_and_pandas_exercise_3_multiline_plots-768x512.png)"
      ]
    },
    {
      "cell_type": "code",
      "metadata": {
        "id": "5b-MWJDPwTFh",
        "colab_type": "code",
        "colab": {
          "base_uri": "https://localhost:8080/",
          "height": 300
        },
        "outputId": "a04c5ce4-e70e-41cb-aadc-c04ed98d4103"
      },
      "source": [
        "prd_list = sales.columns.values.tolist()[1:-2]\n",
        "for prod in prd_list:\n",
        "  product = sales.loc[:,prod].tolist()\n",
        "  plt.plot(month_,product,marker='o',linewidth = 3, label= prod + ' Sales Data')\n",
        "#facewash_ = sales.loc[:,\"facewash\"].tolist()\n",
        "#facecream_ = sales.loc[:,\"facecream\"].tolist()\n",
        "#toothpaste_ = sales.loc[:,\"toothpaste\"].tolist()\n",
        "#bathingsoap_ = sales.loc[:,\"bathingsoap\"].tolist()\n",
        "#shampoo_ = sales.loc[:,\"shampoo\"].tolist()\n",
        "#moisturizer_ = sales.loc[:,\"moisturizer\"].tolist()\n",
        "\n",
        "#plot each product\n",
        "#plt.plot(month_,facewash_,marker='o',linewidth = 3, label='facewash Sales Data')\n",
        "#plt.plot(month_,facecream_,marker='o',linewidth = 3, label='FaceCream Sales Data')\n",
        "#plt.plot(month_,toothpaste_,marker='o',linewidth = 3, label='Toothpaste Sales Data')\n",
        "#plt.plot(month_,bathingsoap_,marker='o',linewidth = 3, label='BathingSoap Sales Data')\n",
        "#plt.plot(month_,shampoo_,marker='o',linewidth = 3, label='Shampoo Sales Data')\n",
        "#plt.plot(month_,moisturizer_,marker='o',linewidth = 3, label='Moisturizer Sales Data')\n",
        "plt.ylabel('Sales Unit')\n",
        "plt.xlabel('Month Number')\n",
        "plt.legend(loc='upper left')"
      ],
      "execution_count": 51,
      "outputs": [
        {
          "output_type": "execute_result",
          "data": {
            "text/plain": [
              "<matplotlib.legend.Legend at 0x7f7e854d9b38>"
            ]
          },
          "metadata": {
            "tags": []
          },
          "execution_count": 51
        },
        {
          "output_type": "display_data",
          "data": {
            "image/png": "[encoded data removed]",
            "text/plain": [
              "<Figure size 432x288 with 1 Axes>"
            ]
          },
          "metadata": {
            "tags": []
          }
        }
      ]
    },
    {
      "cell_type": "markdown",
      "metadata": {
        "id": "7EwJBXhIwTFk",
        "colab_type": "text"
      },
      "source": [
        "### 6. Read toothpaste sales data of each month and show it using a scatter plot<br>\n",
        "Also, add a grid in the plot. grid line style should “–“.<br>\n",
        "The scatter plot should look like this.<br>\n",
        "![Image](https://pynative.com/wp-content/uploads/2019/01/matplotlib_and_pandas_exercise_4_show_scatter_plot-768x512.png)"
      ]
    },
    {
      "cell_type": "code",
      "metadata": {
        "id": "Q7cR8CalwTFk",
        "colab_type": "code",
        "colab": {
          "base_uri": "https://localhost:8080/",
          "height": 286
        },
        "outputId": "c8ec3df9-87b1-45e7-8423-9aa81588832c"
      },
      "source": [
        "toothpaste = sales.loc[:,\"toothpaste\"].tolist()\n",
        "plt.scatter(month_,toothpaste,label ='Tooth paste Sales Data')\n",
        "plt.grid(True,linestyle= '-')\n",
        "plt.legend(loc='upper left')"
      ],
      "execution_count": 64,
      "outputs": [
        {
          "output_type": "execute_result",
          "data": {
            "text/plain": [
              "<matplotlib.legend.Legend at 0x7f7e852b1a90>"
            ]
          },
          "metadata": {
            "tags": []
          },
          "execution_count": 64
        },
        {
          "output_type": "display_data",
          "data": {
            "image/png": "[encoded data removed]",
            "text/plain": [
              "<Figure size 432x288 with 1 Axes>"
            ]
          },
          "metadata": {
            "tags": []
          }
        }
      ]
    },
    {
      "cell_type": "markdown",
      "metadata": {
        "id": "WYHZPedEwTFm",
        "colab_type": "text"
      },
      "source": [
        "### 7. Read face cream and facewash product sales data and show it using the bar chart<br>\n",
        "Bar chart should display the number of units sold per month for each product. Add a separate bar for each product in the same chart.<br>\n",
        "The bar chart should look like this.<br>\n",
        "![Image](https://pynative.com/wp-content/uploads/2019/01/matplotlib_panadas_exercise_5_show_bar_chart-768x512.png)"
      ]
    },
    {
      "cell_type": "code",
      "metadata": {
        "id": "aUycvbxGwTFm",
        "colab_type": "code",
        "colab": {}
      },
      "source": [
        ""
      ],
      "execution_count": 0,
      "outputs": []
    },
    {
      "cell_type": "markdown",
      "metadata": {
        "id": "9KC1qstfwTFp",
        "colab_type": "text"
      },
      "source": [
        "### 8. Read sales data of bathing soap of all months and show it using a bar chart. Save this plot to your hard disk<br>\n",
        "The bar chart should look like this.<br>\n",
        "![Image](https://pynative.com/wp-content/uploads/2019/01/matplotlib_pandas_exercise_6_save_plot_to_hard_disk-768x512.png)"
      ]
    },
    {
      "cell_type": "code",
      "metadata": {
        "id": "trbRCcrZwTFp",
        "colab_type": "code",
        "colab": {}
      },
      "source": [
        ""
      ],
      "execution_count": 0,
      "outputs": []
    },
    {
      "cell_type": "markdown",
      "metadata": {
        "id": "hnw-tiq3wTFr",
        "colab_type": "text"
      },
      "source": [
        "### 9. Read the total profit of each month and show it using the histogram to see most common profit ranges <br>\n",
        "The histogram should look like this.<br>\n",
        "![Image](https://pynative.com/wp-content/uploads/2019/01/matplotlib_panadas_exercise_7_histogram-768x512.png)"
      ]
    },
    {
      "cell_type": "code",
      "metadata": {
        "id": "nRNKZkbxwTFs",
        "colab_type": "code",
        "colab": {}
      },
      "source": [
        ""
      ],
      "execution_count": 0,
      "outputs": []
    },
    {
      "cell_type": "markdown",
      "metadata": {
        "id": "FxYrOQArwTFt",
        "colab_type": "text"
      },
      "source": [
        "### 10. Calculate total sale data for last year for each product and show it using a Pie chart<br>\n",
        "Note: In Pie chart display Number of units sold per year for each product in percentage.<br>\n",
        "The Pie chart should look like this.<br>\n",
        "![Image](https://pynative.com/wp-content/uploads/2019/01/matplotlib_pandas_exerise_8_show_pie_chart-768x512.png)"
      ]
    },
    {
      "cell_type": "code",
      "metadata": {
        "id": "u6BYvgszwTFu",
        "colab_type": "code",
        "colab": {}
      },
      "source": [
        ""
      ],
      "execution_count": 0,
      "outputs": []
    },
    {
      "cell_type": "markdown",
      "metadata": {
        "id": "HDrsSczmwTFv",
        "colab_type": "text"
      },
      "source": [
        "### 11. Read Bathing soap facewash of all months and display it using the Subplot<br>\n",
        "The Subplot should look like this<br>\n",
        "![Image](https://pynative.com/wp-content/uploads/2019/01/matplotlib_pandas_exercise_9_show_sub_plot-768x512.png)"
      ]
    },
    {
      "cell_type": "code",
      "metadata": {
        "id": "rHbWZYrEwTFw",
        "colab_type": "code",
        "colab": {}
      },
      "source": [
        ""
      ],
      "execution_count": 0,
      "outputs": []
    },
    {
      "cell_type": "markdown",
      "metadata": {
        "id": "oAntoXs8wTFy",
        "colab_type": "text"
      },
      "source": [
        "### 12. Read all product sales data and show it using the stack plot><br>\n",
        "The Stack plot should look like this.<br>\n",
        "![Image](https://pynative.com/wp-content/uploads/2019/01/matplotbib_pandas_exercise10_show_stack_plot-768x512.png)"
      ]
    },
    {
      "cell_type": "code",
      "metadata": {
        "id": "Phrst-LxwTFy",
        "colab_type": "code",
        "colab": {}
      },
      "source": [
        ""
      ],
      "execution_count": 0,
      "outputs": []
    },
    {
      "cell_type": "code",
      "metadata": {
        "id": "JJdTbAkLwTF1",
        "colab_type": "code",
        "colab": {}
      },
      "source": [
        ""
      ],
      "execution_count": 0,
      "outputs": []
    }
  ]
}