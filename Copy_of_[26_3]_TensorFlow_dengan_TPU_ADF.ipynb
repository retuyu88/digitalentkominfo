{
  "nbformat": 4,
  "nbformat_minor": 0,
  "metadata": {
    "colab": {
      "name": "Copy of [26 3] TensorFlow dengan TPU - ADF",
      "version": "0.3.2",
      "provenance": [],
      "collapsed_sections": [],
      "toc_visible": true,
      "include_colab_link": true
    },
    "kernelspec": {
      "name": "python3",
      "display_name": "Python 3"
    },
    "accelerator": "TPU"
  },
  "cells": [
    {
      "cell_type": "markdown",
      "metadata": {
        "id": "view-in-github",
        "colab_type": "text"
      },
      "source": [
        "<a href=\"https://colab.research.google.com/github/retuyu88/digitalentkominfo/blob/master/Copy_of_%5B26_3%5D_TensorFlow_dengan_TPU_ADF.ipynb\" target=\"_parent\"><img src=\"https://colab.research.google.com/assets/colab-badge.svg\" alt=\"Open In Colab\"/></a>"
      ]
    },
    {
      "cell_type": "markdown",
      "metadata": {
        "id": "EfwbLGN0zdro",
        "colab_type": "text"
      },
      "source": [
        "<img src = \"https://i.imgur.com/UjutVJd.jpg\" align = \"center\">"
      ]
    },
    {
      "cell_type": "markdown",
      "metadata": {
        "colab_type": "text",
        "id": "zslQDTi947o2"
      },
      "source": [
        "# TensorFlow dengan TPU\n",
        "\n",
        "Kali ini kita akan mengecek kemampuan TensorFlow jika dijalankan dengan akselerasi TPU.\n",
        "\n",
        "Untuk itu, pastikan bahwa Google Colab ini menggunakan akselerasi Runtime **TPU**.\n",
        "* Pilih menu Runtime\n",
        "* Change Runtime Type\n",
        "* Pilih **TPU**\n",
        "\n",
        "<img src = \"https://i.ibb.co/6t5CCyL/tpu.png\" align = \"center\">\n"
      ]
    },
    {
      "cell_type": "markdown",
      "metadata": {
        "id": "AH1a6uuo22pA",
        "colab_type": "text"
      },
      "source": [
        "\n",
        "## Pengecekan Library\n",
        "\n",
        "Sekali lagi, mari kita cek instalasi TensorFlow dan Keras"
      ]
    },
    {
      "cell_type": "code",
      "metadata": {
        "id": "JFCjOy_Noxi6",
        "colab_type": "code",
        "colab": {
          "base_uri": "https://localhost:8080/",
          "height": 51
        },
        "outputId": "083ba723-18a1-49ef-eb94-bc787ec41137"
      },
      "source": [
        "import tensorflow as tf\n",
        "print(tf.__version__)\n",
        "print(tf.keras.__version__)"
      ],
      "execution_count": 1,
      "outputs": [
        {
          "output_type": "stream",
          "text": [
            "1.14.0\n",
            "2.2.4-tf\n"
          ],
          "name": "stdout"
        }
      ]
    },
    {
      "cell_type": "code",
      "metadata": {
        "id": "3KVyF8czoxf2",
        "colab_type": "code",
        "colab": {
          "base_uri": "https://localhost:8080/",
          "height": 51
        },
        "outputId": "f6bc7a4c-1fde-43de-d534-fa1a3f7300a7"
      },
      "source": [
        "import keras\n",
        "keras.__version__"
      ],
      "execution_count": 2,
      "outputs": [
        {
          "output_type": "stream",
          "text": [
            "Using TensorFlow backend.\n"
          ],
          "name": "stderr"
        },
        {
          "output_type": "execute_result",
          "data": {
            "text/plain": [
              "'2.2.4'"
            ]
          },
          "metadata": {
            "tags": []
          },
          "execution_count": 2
        }
      ]
    },
    {
      "cell_type": "markdown",
      "metadata": {
        "colab_type": "text",
        "id": "jJrkwfgc7d1o"
      },
      "source": [
        "## Pengecekan GPU\n",
        "Berikutnya, mari kita cek kemampuan TensorFlow dalam memanfaatkan kemampuan GPU\n",
        "\n",
        "Karena Google Colab sudah kita set menggunakan akselerasi TPU, maka device GPU tidak lagi bisa kita gunakan"
      ]
    },
    {
      "cell_type": "code",
      "metadata": {
        "id": "_4a2I2ZKpE4q",
        "colab_type": "code",
        "colab": {
          "base_uri": "https://localhost:8080/",
          "height": 34
        },
        "outputId": "120624e5-c868-4c0b-9aa6-82065b772b52"
      },
      "source": [
        "print('GPU name:', tf.test.gpu_device_name())"
      ],
      "execution_count": 3,
      "outputs": [
        {
          "output_type": "stream",
          "text": [
            "GPU name: \n"
          ],
          "name": "stdout"
        }
      ]
    },
    {
      "cell_type": "markdown",
      "metadata": {
        "colab_type": "text",
        "id": "dQuGP1Dv5wk1"
      },
      "source": [
        "## Pengecekan TPU\n",
        "\n",
        "Kemudian, mari kita cek kemampuan TensorFlow dalam memanfaatkan kemampuan TPU \n",
        "\n",
        "Karena Google Colab ini kita set dengan akselerasi TPU, maka nama dan jumlah device yang diberikan akan tertampi"
      ]
    },
    {
      "cell_type": "code",
      "metadata": {
        "id": "C3wzT-jVoxXd",
        "colab_type": "code",
        "colab": {
          "base_uri": "https://localhost:8080/",
          "height": 238
        },
        "outputId": "7a16e9b0-bfa3-401c-9053-75a84061f931"
      },
      "source": [
        "import os\n",
        "import pprint\n",
        "import tensorflow as tf\n",
        "\n",
        "if 'COLAB_TPU_ADDR' not in os.environ:\n",
        "  print('ERROR: Not connected to a TPU runtime; please see the first cell in this notebook for instructions!')\n",
        "else:\n",
        "  tpu_address = 'grpc://' + os.environ['COLAB_TPU_ADDR']\n",
        "  print ('TPU address is', tpu_address)\n",
        "\n",
        "  with tf.Session(tpu_address) as session:\n",
        "    devices = session.list_devices()\n",
        "    \n",
        "  print('TPU devices:')\n",
        "  pprint.pprint(devices)"
      ],
      "execution_count": 4,
      "outputs": [
        {
          "output_type": "stream",
          "text": [
            "TPU address is grpc://10.48.43.2:8470\n",
            "TPU devices:\n",
            "[_DeviceAttributes(/job:tpu_worker/replica:0/task:0/device:CPU:0, CPU, -1, 4361477511126539627),\n",
            " _DeviceAttributes(/job:tpu_worker/replica:0/task:0/device:XLA_CPU:0, XLA_CPU, 17179869184, 16664257338021085502),\n",
            " _DeviceAttributes(/job:tpu_worker/replica:0/task:0/device:TPU:0, TPU, 17179869184, 14706666575299204974),\n",
            " _DeviceAttributes(/job:tpu_worker/replica:0/task:0/device:TPU:1, TPU, 17179869184, 10673233711504101602),\n",
            " _DeviceAttributes(/job:tpu_worker/replica:0/task:0/device:TPU:2, TPU, 17179869184, 4320409414066120778),\n",
            " _DeviceAttributes(/job:tpu_worker/replica:0/task:0/device:TPU:3, TPU, 17179869184, 12031429207439053541),\n",
            " _DeviceAttributes(/job:tpu_worker/replica:0/task:0/device:TPU:4, TPU, 17179869184, 13731042377140655935),\n",
            " _DeviceAttributes(/job:tpu_worker/replica:0/task:0/device:TPU:5, TPU, 17179869184, 10325777939450944264),\n",
            " _DeviceAttributes(/job:tpu_worker/replica:0/task:0/device:TPU:6, TPU, 17179869184, 6368786065044099343),\n",
            " _DeviceAttributes(/job:tpu_worker/replica:0/task:0/device:TPU:7, TPU, 17179869184, 4205454189461309275),\n",
            " _DeviceAttributes(/job:tpu_worker/replica:0/task:0/device:TPU_SYSTEM:0, TPU_SYSTEM, 8589934592, 1055405130660421463)]\n"
          ],
          "name": "stdout"
        }
      ]
    },
    {
      "cell_type": "markdown",
      "metadata": {
        "colab_type": "text",
        "id": "p7CXyyfJ5-in"
      },
      "source": [
        "## Pelatihan Menggunakan TensorFlow\n",
        "\n",
        "Terakhir, mari kita lihat seberapa cepat kemampuan TensorFlow jika dijalankan di atas TPU"
      ]
    },
    {
      "cell_type": "code",
      "metadata": {
        "id": "hAsXrPTHoxRc",
        "colab_type": "code",
        "colab": {}
      },
      "source": [
        "import numpy as np\n",
        "import matplotlib.pyplot as plt\n",
        "%matplotlib inline\n",
        "import tensorflow as tf"
      ],
      "execution_count": 0,
      "outputs": []
    },
    {
      "cell_type": "markdown",
      "metadata": {
        "id": "JWdiYmt9X5N7",
        "colab_type": "text"
      },
      "source": [
        "Di sini akan kita gunakan Jaringan Saraf Tiruan sederhana sebanyak 3 layer untuk melatih dataset Cifar-10\n",
        "\n",
        "Jaringan dilatih selama 10 epoch dengan batch size 1000\n",
        "\n",
        "Kita akan lihat berapa lama waktu yang dibutuhkan untuk proses pelatihan"
      ]
    },
    {
      "cell_type": "code",
      "metadata": {
        "id": "zbwP7s5tipIX",
        "colab_type": "code",
        "colab": {}
      },
      "source": [
        "from tensorflow.keras.models import Sequential\n",
        "from tensorflow.keras.layers import Flatten\n",
        "from tensorflow.keras.layers import Dense\n",
        "from keras.utils import to_categorical"
      ],
      "execution_count": 0,
      "outputs": []
    },
    {
      "cell_type": "code",
      "metadata": {
        "id": "TwBdX-7AoxOn",
        "colab_type": "code",
        "colab": {
          "base_uri": "https://localhost:8080/",
          "height": 51
        },
        "outputId": "acdfe237-0b3d-44d4-b66d-12e38f445325"
      },
      "source": [
        "(X_train, y_train), (X_test, y_test) = tf.keras.datasets.cifar10.load_data()\n",
        "classes = ['plane', 'car', 'bird', 'cat', 'deer', 'dog', 'frog', 'horse', 'ship', 'truck']"
      ],
      "execution_count": 7,
      "outputs": [
        {
          "output_type": "stream",
          "text": [
            "Downloading data from https://www.cs.toronto.edu/~kriz/cifar-10-python.tar.gz\n",
            "170500096/170498071 [==============================] - 2s 0us/step\n"
          ],
          "name": "stdout"
        }
      ]
    },
    {
      "cell_type": "code",
      "metadata": {
        "id": "Thou65mtjye4",
        "colab_type": "code",
        "colab": {}
      },
      "source": [
        "X_train = X_train.astype('float32')\n",
        "X_test = X_test.astype('float32')\n",
        "\n",
        "mean_image = np.mean(X_train, axis = 0)\n",
        "X_train -= mean_image\n",
        "X_test -= mean_image\n",
        "\n",
        "y_train_hot = to_categorical(y_train)\n",
        "y_test_hot = to_categorical(y_test)"
      ],
      "execution_count": 0,
      "outputs": []
    },
    {
      "cell_type": "code",
      "metadata": {
        "id": "nSBRgYZgNbIY",
        "colab_type": "code",
        "colab": {
          "base_uri": "https://localhost:8080/",
          "height": 241
        },
        "outputId": "b20611a1-0271-4a00-8ff2-47d9ff07019a"
      },
      "source": [
        "import os\n",
        "import time\n",
        "\n",
        "\n",
        "resolver = tf.contrib.cluster_resolver.TPUClusterResolver('grpc://' + os.environ['COLAB_TPU_ADDR'])\n",
        "tf.contrib.distribute.initialize_tpu_system(resolver)\n",
        "strategy = tf.contrib.distribute.TPUStrategy(resolver)\n",
        "\n",
        "with strategy.scope():\n",
        "  model = Sequential()\n",
        "  model.add(Flatten(input_shape=(32,32,3)))\n",
        "  model.add(Dense(500, activation='sigmoid'))\n",
        "  model.add(Dense(10, activation='softmax'))\n",
        "  model.compile(loss='categorical_crossentropy',  optimizer='sgd', metrics=['accuracy'])\n",
        "\n"
      ],
      "execution_count": 9,
      "outputs": [
        {
          "output_type": "stream",
          "text": [
            "WARNING: Logging before flag parsing goes to stderr.\n",
            "W0805 01:45:31.568508 140416748312448 lazy_loader.py:50] \n",
            "The TensorFlow contrib module will not be included in TensorFlow 2.0.\n",
            "For more information, please see:\n",
            "  * https://github.com/tensorflow/community/blob/master/rfcs/20180907-contrib-sunset.md\n",
            "  * https://github.com/tensorflow/addons\n",
            "  * https://github.com/tensorflow/io (for I/O related ops)\n",
            "If you depend on functionality not listed there, please file an issue.\n",
            "\n",
            "W0805 01:45:37.909815 140416748312448 deprecation.py:506] From /usr/local/lib/python3.6/dist-packages/tensorflow/python/ops/init_ops.py:1251: calling VarianceScaling.__init__ (from tensorflow.python.ops.init_ops) with dtype is deprecated and will be removed in a future version.\n",
            "Instructions for updating:\n",
            "Call initializer instance with the dtype argument instead of passing it to the constructor\n"
          ],
          "name": "stderr"
        }
      ]
    },
    {
      "cell_type": "code",
      "metadata": {
        "id": "wmtLxIXMOyLw",
        "colab_type": "code",
        "colab": {
          "base_uri": "https://localhost:8080/",
          "height": 408
        },
        "outputId": "22f51fd0-3391-4c84-e978-11726a62010a"
      },
      "source": [
        "num_epochs = 10\n",
        "batch_size = 1000\n",
        "\n",
        "tic = time.time()\n",
        "model.fit(X_train, y_train_hot, epochs=num_epochs, batch_size=batch_size, verbose=2)\n",
        "toc = time.time()\n",
        "print('\\n\\ntraining speed =', toc-tic,'seconds')"
      ],
      "execution_count": 11,
      "outputs": [
        {
          "output_type": "stream",
          "text": [
            "Epoch 1/10\n",
            "50/50 - 3s - loss: 1.6328 - acc: 0.4454\n",
            "Epoch 2/10\n",
            "50/50 - 1s - loss: 1.6174 - acc: 0.4545\n",
            "Epoch 3/10\n",
            "50/50 - 1s - loss: 1.6006 - acc: 0.4609\n",
            "Epoch 4/10\n",
            "50/50 - 1s - loss: 1.5863 - acc: 0.4670\n",
            "Epoch 5/10\n",
            "50/50 - 1s - loss: 1.5721 - acc: 0.4742\n",
            "Epoch 6/10\n",
            "50/50 - 1s - loss: 1.5578 - acc: 0.4785\n",
            "Epoch 7/10\n",
            "50/50 - 1s - loss: 1.5454 - acc: 0.4854\n",
            "Epoch 8/10\n",
            "50/50 - 1s - loss: 1.5328 - acc: 0.4912\n",
            "Epoch 9/10\n",
            "50/50 - 1s - loss: 1.5209 - acc: 0.4973\n",
            "Epoch 10/10\n",
            "50/50 - 1s - loss: 1.5106 - acc: 0.5021\n",
            "\n",
            "\n",
            "training speed = 33.039337396621704 seconds\n"
          ],
          "name": "stdout"
        }
      ]
    },
    {
      "cell_type": "markdown",
      "metadata": {
        "id": "wjBUg9S94V_T",
        "colab_type": "text"
      },
      "source": [
        "## Kesimpulan\n",
        "\n",
        "Dapat dilihat bahwa pelatihan TensorFlow yang berjalan di atas **TPU** juga hanya membutuhkan waktu berkisar **1 detik per epoch** pada dataset Cifar-10 dengan ukuran **batch 1000**\n",
        "\n",
        "Namun bisa dilihat bahwa total waktu pelatihan lebih lama\n",
        "\n",
        "Hal ini dikarenakan proses untuk mempersiapkan data pada device TPU membutuhkan waktu sedikit lebih lama daripada GPU\n",
        "\n",
        "Hanya jika kita eskalasi data hingga **jutaan data**, kemampuan dan perbandingan TPU dengan GPU  baru bisa terlihat"
      ]
    },
    {
      "cell_type": "markdown",
      "metadata": {
        "id": "uB_ojCQ6zmKS",
        "colab_type": "text"
      },
      "source": [
        "<p>Copyright &copy; 2019 <a href=https://www.linkedin.com/in/andityaarifianto/>ADF</a> </p>"
      ]
    }
  ]
}