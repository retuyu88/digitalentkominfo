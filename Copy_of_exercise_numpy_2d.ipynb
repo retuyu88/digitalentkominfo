{
  "nbformat": 4,
  "nbformat_minor": 0,
  "metadata": {
    "colab": {
      "name": "Copy of exercise_numpy_2d.ipynb",
      "version": "0.3.2",
      "provenance": [],
      "include_colab_link": true
    },
    "language_info": {
      "codemirror_mode": {
        "name": "ipython",
        "version": 3
      },
      "file_extension": ".py",
      "mimetype": "text/x-python",
      "name": "python",
      "nbconvert_exporter": "python",
      "pygments_lexer": "ipython3",
      "version": "3.6.8"
    },
    "kernelspec": {
      "display_name": "Python 3",
      "language": "python",
      "name": "python3"
    }
  },
  "cells": [
    {
      "cell_type": "markdown",
      "metadata": {
        "id": "view-in-github",
        "colab_type": "text"
      },
      "source": [
        "<a href=\"https://colab.research.google.com/github/retuyu88/digitalentkominfo/blob/master/Copy_of_exercise_numpy_2d.ipynb\" target=\"_parent\"><img src=\"https://colab.research.google.com/assets/colab-badge.svg\" alt=\"Open In Colab\"/></a>"
      ]
    },
    {
      "cell_type": "markdown",
      "metadata": {
        "id": "iPp5NrcPvLaf",
        "colab_type": "text"
      },
      "source": [
        "# Exercise of Numpy Array"
      ]
    },
    {
      "cell_type": "markdown",
      "metadata": {
        "id": "vIbT25yQvLag",
        "colab_type": "text"
      },
      "source": [
        "Question 1: Create a 4X2 integer array and Prints its attributes\n",
        "a. The shape of an array.\n",
        "b. Array dimensions."
      ]
    },
    {
      "cell_type": "code",
      "metadata": {
        "id": "cFV_Zh46vLag",
        "colab_type": "code",
        "outputId": "4b2d8cd2-4de5-43e3-a938-edd2afa649ee",
        "colab": {
          "base_uri": "https://localhost:8080/",
          "height": 119
        }
      },
      "source": [
        "import numpy as np\n",
        "matrix = np.zeros((4,2),dtype=np.int)\n",
        "print(matrix)\n",
        "print('shape of array',matrix.shape)\n",
        "print('dimension',matrix.ndim)"
      ],
      "execution_count": 30,
      "outputs": [
        {
          "output_type": "stream",
          "text": [
            "[[0 0]\n",
            " [0 0]\n",
            " [0 0]\n",
            " [0 0]]\n",
            "shape of array (4, 2)\n",
            "dimension 2\n"
          ],
          "name": "stdout"
        }
      ]
    },
    {
      "cell_type": "markdown",
      "metadata": {
        "id": "NUrRhS0kvLal",
        "colab_type": "text"
      },
      "source": [
        "Question 2: Create a 5X2 integer array from a range between 100 to 200 such that the difference between each element is 10"
      ]
    },
    {
      "cell_type": "code",
      "metadata": {
        "id": "Dj7SYcx9vLal",
        "colab_type": "code",
        "outputId": "93b47cc5-7e71-4b9f-9943-cf35b48a46b6",
        "colab": {
          "base_uri": "https://localhost:8080/",
          "height": 102
        }
      },
      "source": [
        "import numpy as np\n",
        "#matrix = np.zeros((5,2), dtype= np.int)\n",
        "#matrix.arange(100,200,10)\n",
        "sampleArray = np.arange(100, 200, 10)\n",
        "sampleArray = sampleArray.reshape(5,2)\n",
        "sampleArray"
      ],
      "execution_count": 32,
      "outputs": [
        {
          "output_type": "execute_result",
          "data": {
            "text/plain": [
              "array([[100, 110],\n",
              "       [120, 130],\n",
              "       [140, 150],\n",
              "       [160, 170],\n",
              "       [180, 190]])"
            ]
          },
          "metadata": {
            "tags": []
          },
          "execution_count": 32
        }
      ]
    },
    {
      "cell_type": "markdown",
      "metadata": {
        "id": "ownoxcD5vLao",
        "colab_type": "text"
      },
      "source": [
        "Question 3: Following is the provided numPy array. return array of items in the third column from all rows"
      ]
    },
    {
      "cell_type": "code",
      "metadata": {
        "id": "p4qUEnFQvLap",
        "colab_type": "code",
        "outputId": "7a4ed235-d537-4864-aa31-f4330f31dc0d",
        "colab": {
          "base_uri": "https://localhost:8080/",
          "height": 85
        }
      },
      "source": [
        "sampleArray = np.array([[11 ,22, 33], [44, 55, 66], [77, 88, 99]])\n",
        "\n",
        "print(sampleArray)\n",
        "print(sampleArray[:,2])\n"
      ],
      "execution_count": 18,
      "outputs": [
        {
          "output_type": "stream",
          "text": [
            "[[11 22 33]\n",
            " [44 55 66]\n",
            " [77 88 99]]\n",
            "[33 66 99]\n"
          ],
          "name": "stdout"
        }
      ]
    },
    {
      "cell_type": "markdown",
      "metadata": {
        "id": "np3cHVolvLar",
        "colab_type": "text"
      },
      "source": [
        "Question 4: Following is the given numpy array return array of odd rows and even columns"
      ]
    },
    {
      "cell_type": "code",
      "metadata": {
        "id": "QMvXldeivLas",
        "colab_type": "code",
        "outputId": "3ffe92f6-deaf-4983-eb45-c718173c3bf5",
        "colab": {}
      },
      "source": [
        "sampleArray = np.array([[3 ,6, 9, 12], \n",
        "                        [15 ,18, 21, 24], \n",
        "                        [27 ,30, 33, 36], \n",
        "                        [39 ,42, 45, 48], \n",
        "                        [51 ,54, 57, 60]])\n",
        "\n",
        "#print(sampleArray)\n",
        "print(sampleArray[::2,1::2])"
      ],
      "execution_count": 0,
      "outputs": [
        {
          "output_type": "stream",
          "text": [
            "[[ 6 12]\n",
            " [30 36]\n",
            " [54 60]]\n"
          ],
          "name": "stdout"
        }
      ]
    },
    {
      "cell_type": "markdown",
      "metadata": {
        "id": "UhOYwnP3vLau",
        "colab_type": "text"
      },
      "source": [
        "Question 5: Add the following two NumPy arrays and Modify a result array by calculating the square root of each element"
      ]
    },
    {
      "cell_type": "code",
      "metadata": {
        "id": "0C80lECVvLav",
        "colab_type": "code",
        "outputId": "d59f2071-4fb6-485c-dbad-fc5a89fdce3e",
        "colab": {
          "base_uri": "https://localhost:8080/",
          "height": 102
        }
      },
      "source": [
        "arrayOne = np.array([[5, 6, 9], [21 ,18, 27]])\n",
        "arrayTwo = np.array([[15 ,33, 24], [4 ,7, 1]])\n",
        "\n",
        "arrayThree = arrayOne * arrayTwo\n",
        "print(arrayThree)\n",
        "arrayThree = arrayThree**2\n",
        "print(arrayThree)\n",
        "a = arrayThree.shape\n",
        "type(arrayThree.shape)\n",
        "a"
      ],
      "execution_count": 27,
      "outputs": [
        {
          "output_type": "stream",
          "text": [
            "[[ 75 198 216]\n",
            " [ 84 126  27]]\n",
            "[[ 5625 39204 46656]\n",
            " [ 7056 15876   729]]\n"
          ],
          "name": "stdout"
        },
        {
          "output_type": "execute_result",
          "data": {
            "text/plain": [
              "(2, 3)"
            ]
          },
          "metadata": {
            "tags": []
          },
          "execution_count": 27
        }
      ]
    },
    {
      "cell_type": "code",
      "metadata": {
        "id": "ZlUfL7GivLax",
        "colab_type": "code",
        "outputId": "acb03dd2-ec05-4e08-eb92-1925dcc0e129",
        "colab": {
          "base_uri": "https://localhost:8080/",
          "height": 34
        }
      },
      "source": [
        "75**2"
      ],
      "execution_count": 19,
      "outputs": [
        {
          "output_type": "execute_result",
          "data": {
            "text/plain": [
              "5625"
            ]
          },
          "metadata": {
            "tags": []
          },
          "execution_count": 19
        }
      ]
    },
    {
      "cell_type": "code",
      "metadata": {
        "id": "oMrroWS0vLa0",
        "colab_type": "code",
        "colab": {}
      },
      "source": [
        ""
      ],
      "execution_count": 0,
      "outputs": []
    }
  ]
}