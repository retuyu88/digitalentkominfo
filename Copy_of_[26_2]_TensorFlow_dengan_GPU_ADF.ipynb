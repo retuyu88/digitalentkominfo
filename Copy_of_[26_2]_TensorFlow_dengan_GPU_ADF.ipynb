{
  "nbformat": 4,
  "nbformat_minor": 0,
  "metadata": {
    "colab": {
      "name": "Copy of [26 2] TensorFlow dengan GPU - ADF",
      "version": "0.3.2",
      "provenance": [],
      "collapsed_sections": [],
      "toc_visible": true,
      "include_colab_link": true
    },
    "kernelspec": {
      "name": "python3",
      "display_name": "Python 3"
    },
    "accelerator": "GPU"
  },
  "cells": [
    {
      "cell_type": "markdown",
      "metadata": {
        "id": "view-in-github",
        "colab_type": "text"
      },
      "source": [
        "<a href=\"https://colab.research.google.com/github/retuyu88/digitalentkominfo/blob/master/Copy_of_%5B26_2%5D_TensorFlow_dengan_GPU_ADF.ipynb\" target=\"_parent\"><img src=\"https://colab.research.google.com/assets/colab-badge.svg\" alt=\"Open In Colab\"/></a>"
      ]
    },
    {
      "cell_type": "markdown",
      "metadata": {
        "id": "EfwbLGN0zdro",
        "colab_type": "text"
      },
      "source": [
        "<img src = \"https://i.imgur.com/UjutVJd.jpg\" align = \"center\">"
      ]
    },
    {
      "cell_type": "markdown",
      "metadata": {
        "colab_type": "text",
        "id": "zslQDTi947o2"
      },
      "source": [
        "# TensorFlow dengan GPU\n",
        "\n",
        "Kali ini kita akan mengecek kemampuan TensorFlow jika dijalankan dengan akselerasi GPU.\n",
        "\n",
        "Untuk itu, pastikan bahwa Google Colab ini menggunakan akselerasi Runtime **GPU**.\n",
        "* Pilih menu Runtime\n",
        "* Change Runtime Type\n",
        "* Pilih **GPU**\n",
        "\n",
        "<img src = \"https://i.ibb.co/QX3Brf0/gpu.png\" align = \"center\">\n"
      ]
    },
    {
      "cell_type": "markdown",
      "metadata": {
        "id": "AH1a6uuo22pA",
        "colab_type": "text"
      },
      "source": [
        "\n",
        "## Pengecekan Library\n",
        "\n",
        "Sekali lagi, mari kita cek instalasi TensorFlow dan Keras, dan sebagai bonus, PyTorch"
      ]
    },
    {
      "cell_type": "code",
      "metadata": {
        "id": "JFCjOy_Noxi6",
        "colab_type": "code",
        "colab": {
          "base_uri": "https://localhost:8080/",
          "height": 51
        },
        "outputId": "c0a542e9-2912-4593-8eff-4a617ff6e732"
      },
      "source": [
        "import tensorflow as tf\n",
        "print(tf.__version__)\n",
        "print(tf.keras.__version__)"
      ],
      "execution_count": 1,
      "outputs": [
        {
          "output_type": "stream",
          "text": [
            "1.14.0\n",
            "2.2.4-tf\n"
          ],
          "name": "stdout"
        }
      ]
    },
    {
      "cell_type": "code",
      "metadata": {
        "id": "3KVyF8czoxf2",
        "colab_type": "code",
        "colab": {
          "base_uri": "https://localhost:8080/",
          "height": 51
        },
        "outputId": "f9fec41d-7949-4a70-e010-f4fe83b16efe"
      },
      "source": [
        "import keras\n",
        "keras.__version__"
      ],
      "execution_count": 2,
      "outputs": [
        {
          "output_type": "stream",
          "text": [
            "Using TensorFlow backend.\n"
          ],
          "name": "stderr"
        },
        {
          "output_type": "execute_result",
          "data": {
            "text/plain": [
              "'2.2.4'"
            ]
          },
          "metadata": {
            "tags": []
          },
          "execution_count": 2
        }
      ]
    },
    {
      "cell_type": "code",
      "metadata": {
        "id": "WZA9uv5BoxdD",
        "colab_type": "code",
        "colab": {
          "base_uri": "https://localhost:8080/",
          "height": 34
        },
        "outputId": "4cd913ce-8d73-4440-c0d8-863605bd8398"
      },
      "source": [
        "import torch\n",
        "torch.__version__"
      ],
      "execution_count": 3,
      "outputs": [
        {
          "output_type": "execute_result",
          "data": {
            "text/plain": [
              "'1.1.0'"
            ]
          },
          "metadata": {
            "tags": []
          },
          "execution_count": 3
        }
      ]
    },
    {
      "cell_type": "markdown",
      "metadata": {
        "colab_type": "text",
        "id": "9twMB1Ja5bJC"
      },
      "source": [
        "## Pengecekan GPU\n",
        "Berikutnya, mari kita cek kemampuan TensorFlow dan PyTorch dalam memanfaatkan kemampuan GPU\n",
        "\n",
        "Karena Google Colab sudah kita set menggunakan akselerasi GPU, maka nama dan jumlah device yang diberikan akan tertampil"
      ]
    },
    {
      "cell_type": "code",
      "metadata": {
        "id": "_4a2I2ZKpE4q",
        "colab_type": "code",
        "colab": {
          "base_uri": "https://localhost:8080/",
          "height": 34
        },
        "outputId": "780ef1e6-b018-438c-9d4e-3c2683b9dca6"
      },
      "source": [
        "print('GPU name:', tf.test.gpu_device_name())"
      ],
      "execution_count": 4,
      "outputs": [
        {
          "output_type": "stream",
          "text": [
            "GPU name: /device:GPU:0\n"
          ],
          "name": "stdout"
        }
      ]
    },
    {
      "cell_type": "code",
      "metadata": {
        "id": "4XeTg2E9oxaD",
        "colab_type": "code",
        "colab": {
          "base_uri": "https://localhost:8080/",
          "height": 51
        },
        "outputId": "0385f4c9-b68e-48b4-e68c-120a6949dc23"
      },
      "source": [
        "print('Using GPU:',torch.cuda.is_available())\n",
        "if torch.cuda.is_available():\n",
        "  print('GPU name:',torch.cuda.get_device_name(0))\n"
      ],
      "execution_count": 5,
      "outputs": [
        {
          "output_type": "stream",
          "text": [
            "Using GPU: True\n",
            "GPU name: Tesla T4\n"
          ],
          "name": "stdout"
        }
      ]
    },
    {
      "cell_type": "markdown",
      "metadata": {
        "colab_type": "text",
        "id": "dQuGP1Dv5wk1"
      },
      "source": [
        "## Pengecekan TPU\n",
        "\n",
        "Kemudian, mari kita cek kemampuan TensorFlow dalam memanfaatkan kemampuan TPU yang eksklusif untuk TensorFlow\n",
        "\n",
        "**Karena Google Colab ini kita set dengan akselerasi GPU, maka tidak akan ada akselerasi TPU yang bisa digunakan**"
      ]
    },
    {
      "cell_type": "code",
      "metadata": {
        "id": "C3wzT-jVoxXd",
        "colab_type": "code",
        "colab": {
          "base_uri": "https://localhost:8080/",
          "height": 34
        },
        "outputId": "35c125be-2b75-4d58-de5e-9049c8ad05a2"
      },
      "source": [
        "import os\n",
        "import pprint\n",
        "import tensorflow as tf\n",
        "\n",
        "if 'COLAB_TPU_ADDR' not in os.environ:\n",
        "  print('ERROR: Not connected to a TPU runtime; please see the first cell in this notebook for instructions!')\n",
        "else:\n",
        "  tpu_address = 'grpc://' + os.environ['COLAB_TPU_ADDR']\n",
        "  print ('TPU address is', tpu_address)\n",
        "\n",
        "  with tf.Session(tpu_address) as session:\n",
        "    devices = session.list_devices()\n",
        "    \n",
        "  print('TPU devices:')\n",
        "  pprint.pprint(devices)"
      ],
      "execution_count": 6,
      "outputs": [
        {
          "output_type": "stream",
          "text": [
            "ERROR: Not connected to a TPU runtime; please see the first cell in this notebook for instructions!\n"
          ],
          "name": "stdout"
        }
      ]
    },
    {
      "cell_type": "markdown",
      "metadata": {
        "colab_type": "text",
        "id": "p7CXyyfJ5-in"
      },
      "source": [
        "## Pelatihan Menggunakan TensorFlow\n",
        "\n",
        "Terakhir, mari kita lihat seberapa cepat kemampuan TensorFlow jika dijalankan di atas GPU"
      ]
    },
    {
      "cell_type": "code",
      "metadata": {
        "id": "hAsXrPTHoxRc",
        "colab_type": "code",
        "colab": {}
      },
      "source": [
        "import numpy as np\n",
        "import matplotlib.pyplot as plt\n",
        "%matplotlib inline\n",
        "import tensorflow as tf"
      ],
      "execution_count": 0,
      "outputs": []
    },
    {
      "cell_type": "markdown",
      "metadata": {
        "id": "JWdiYmt9X5N7",
        "colab_type": "text"
      },
      "source": [
        "Di sini akan kita gunakan Jaringan Saraf Tiruan sederhana sebanyak 3 layer untuk melatih dataset Cifar-10\n",
        "\n",
        "Jaringan dilatih selama 10 epoch dengan batch size 1000\n",
        "\n",
        "Kita akan lihat berapa lama waktu yang dibutuhkan untuk proses pelatihan"
      ]
    },
    {
      "cell_type": "code",
      "metadata": {
        "id": "zbwP7s5tipIX",
        "colab_type": "code",
        "colab": {}
      },
      "source": [
        "from tensorflow.keras.models import Sequential\n",
        "from tensorflow.keras.layers import Flatten\n",
        "from tensorflow.keras.layers import Dense\n",
        "from keras.utils import to_categorical"
      ],
      "execution_count": 0,
      "outputs": []
    },
    {
      "cell_type": "code",
      "metadata": {
        "id": "TwBdX-7AoxOn",
        "colab_type": "code",
        "colab": {
          "base_uri": "https://localhost:8080/",
          "height": 51
        },
        "outputId": "134c22c6-a690-4e08-8aa7-5553efcc5374"
      },
      "source": [
        "(X_train, y_train), (X_test, y_test) = tf.keras.datasets.cifar10.load_data()\n",
        "classes = ['plane', 'car', 'bird', 'cat', 'deer', 'dog', 'frog', 'horse', 'ship', 'truck']"
      ],
      "execution_count": 9,
      "outputs": [
        {
          "output_type": "stream",
          "text": [
            "Downloading data from https://www.cs.toronto.edu/~kriz/cifar-10-python.tar.gz\n",
            "170500096/170498071 [==============================] - 2s 0us/step\n"
          ],
          "name": "stdout"
        }
      ]
    },
    {
      "cell_type": "code",
      "metadata": {
        "id": "Thou65mtjye4",
        "colab_type": "code",
        "colab": {}
      },
      "source": [
        "X_train = X_train.astype('float32')\n",
        "X_test = X_test.astype('float32')\n",
        "\n",
        "mean_image = np.mean(X_train, axis = 0)\n",
        "X_train -= mean_image\n",
        "X_test -= mean_image\n",
        "\n",
        "y_train_hot = to_categorical(y_train)\n",
        "y_test_hot = to_categorical(y_test)"
      ],
      "execution_count": 0,
      "outputs": []
    },
    {
      "cell_type": "code",
      "metadata": {
        "id": "2RaUR-Efi-kZ",
        "colab_type": "code",
        "colab": {}
      },
      "source": [
        "model = Sequential()\n",
        "model.add(Flatten(input_shape=(32,32,3)))\n",
        "model.add(Dense(500, activation='sigmoid'))\n",
        "model.add(Dense(10, activation='softmax'))\n",
        "model.compile(loss='categorical_crossentropy',  optimizer='sgd', metrics=['accuracy'])"
      ],
      "execution_count": 0,
      "outputs": []
    },
    {
      "cell_type": "code",
      "metadata": {
        "id": "YTMMAyn2jKDm",
        "colab_type": "code",
        "colab": {
          "base_uri": "https://localhost:8080/",
          "height": 408
        },
        "outputId": "2a9b019c-09da-4b3a-b037-2f53e694d05a"
      },
      "source": [
        "import time\n",
        "\n",
        "\n",
        "num_epochs = 10\n",
        "batch_size = 1000\n",
        "\n",
        "tic = time.time()\n",
        "model.fit(X_train, y_train_hot, epochs=num_epochs, batch_size=batch_size, verbose=2)\n",
        "toc = time.time()\n",
        "print('\\n\\ntraining speed =', toc-tic,'seconds')"
      ],
      "execution_count": 13,
      "outputs": [
        {
          "output_type": "stream",
          "text": [
            "Epoch 1/10\n",
            "50000/50000 - 2s - loss: 2.1443 - acc: 0.2329\n",
            "Epoch 2/10\n",
            "50000/50000 - 1s - loss: 1.9243 - acc: 0.3175\n",
            "Epoch 3/10\n",
            "50000/50000 - 1s - loss: 1.8517 - acc: 0.3495\n",
            "Epoch 4/10\n",
            "50000/50000 - 1s - loss: 1.8036 - acc: 0.3687\n",
            "Epoch 5/10\n",
            "50000/50000 - 1s - loss: 1.7671 - acc: 0.3871\n",
            "Epoch 6/10\n",
            "50000/50000 - 1s - loss: 1.7368 - acc: 0.4011\n",
            "Epoch 7/10\n",
            "50000/50000 - 1s - loss: 1.7121 - acc: 0.4103\n",
            "Epoch 8/10\n",
            "50000/50000 - 1s - loss: 1.6883 - acc: 0.4218\n",
            "Epoch 9/10\n",
            "50000/50000 - 1s - loss: 1.6674 - acc: 0.4314\n",
            "Epoch 10/10\n",
            "50000/50000 - 1s - loss: 1.6500 - acc: 0.4391\n",
            "\n",
            "\n",
            "training speed = 11.597899675369263 seconds\n"
          ],
          "name": "stdout"
        }
      ]
    },
    {
      "cell_type": "code",
      "metadata": {
        "id": "UWby1QQhkeL-",
        "colab_type": "code",
        "colab": {
          "base_uri": "https://localhost:8080/",
          "height": 51
        },
        "outputId": "ad5ae2a1-f589-4eca-b9c0-41a841a4b5ff"
      },
      "source": [
        "print(model.evaluate(X_test, y_test_hot))"
      ],
      "execution_count": 14,
      "outputs": [
        {
          "output_type": "stream",
          "text": [
            "10000/10000 [==============================] - 1s 70us/sample - loss: 1.7869 - acc: 0.3762\n",
            "[1.7869012275695801, 0.3762]\n"
          ],
          "name": "stdout"
        }
      ]
    },
    {
      "cell_type": "markdown",
      "metadata": {
        "id": "wjBUg9S94V_T",
        "colab_type": "text"
      },
      "source": [
        "## Kesimpulan\n",
        "\n",
        "Dapat dilihat bahwa pelatihan TensorFlow yang berjalan di atas **GPU** membutuhkan waktu hanya berkisar **1 detik per epoch** pada dataset Cifar-10 dengan ukuran **batch 1000**\n",
        "\n",
        "Penggunaan GPU dapat sangat mempercepat proses pelatihan\n",
        "\n",
        "Selanjutnya mari kita lihat perbedaannya jika menggunakan akselerasi TPU"
      ]
    },
    {
      "cell_type": "markdown",
      "metadata": {
        "id": "uB_ojCQ6zmKS",
        "colab_type": "text"
      },
      "source": [
        "<p>Copyright &copy; 2019 <a href=https://www.linkedin.com/in/andityaarifianto/>ADF</a> </p>"
      ]
    }
  ]
}