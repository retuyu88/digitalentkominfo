{
  "nbformat": 4,
  "nbformat_minor": 0,
  "metadata": {
    "colab": {
      "name": "Copy of [26 1] TensorFlow dengan CPU - ADF",
      "version": "0.3.2",
      "provenance": [],
      "collapsed_sections": [],
      "toc_visible": true,
      "include_colab_link": true
    },
    "kernelspec": {
      "name": "python3",
      "display_name": "Python 3"
    }
  },
  "cells": [
    {
      "cell_type": "markdown",
      "metadata": {
        "id": "view-in-github",
        "colab_type": "text"
      },
      "source": [
        "<a href=\"https://colab.research.google.com/github/retuyu88/digitalentkominfo/blob/master/Copy_of_%5B26_1%5D_TensorFlow_dengan_CPU_ADF.ipynb\" target=\"_parent\"><img src=\"https://colab.research.google.com/assets/colab-badge.svg\" alt=\"Open In Colab\"/></a>"
      ]
    },
    {
      "cell_type": "markdown",
      "metadata": {
        "id": "EfwbLGN0zdro",
        "colab_type": "text"
      },
      "source": [
        "<img src = \"https://i.imgur.com/UjutVJd.jpg\" align = \"center\">"
      ]
    },
    {
      "cell_type": "markdown",
      "metadata": {
        "id": "7SBjtNnRnsMq",
        "colab_type": "text"
      },
      "source": [
        "# TensorFlow dengan CPU\n",
        "\n",
        "Kali ini kita akan mengecek kemampuan TensorFlow jika dijalankan dengan akselerasi CPU.\n",
        "\n",
        "Untuk itu, pastikan bahwa Google Colab ini **tidak** menggunakan akselerasi Runtime.\n",
        "* Pilih menu Runtime\n",
        "* Change Runtime Type\n",
        "* Pilih **None**\n",
        "\n",
        "<img src = \"https://i.ibb.co/qnLhwLQ/none.png\" align = \"center\">\n"
      ]
    },
    {
      "cell_type": "markdown",
      "metadata": {
        "id": "AH1a6uuo22pA",
        "colab_type": "text"
      },
      "source": [
        "\n",
        "## Pengecekan Library\n",
        "\n",
        "Sekarang mari kita cek instalasi TensorFlow dan Keras, dan sebagai bonus, PyTorch"
      ]
    },
    {
      "cell_type": "code",
      "metadata": {
        "id": "JFCjOy_Noxi6",
        "colab_type": "code",
        "colab": {
          "base_uri": "https://localhost:8080/",
          "height": 51
        },
        "outputId": "bd6e6563-eda5-4f91-9800-de35ce9cb60e"
      },
      "source": [
        "import tensorflow as tf\n",
        "print(tf.__version__)\n",
        "print(tf.keras.__version__)"
      ],
      "execution_count": 1,
      "outputs": [
        {
          "output_type": "stream",
          "text": [
            "1.14.0\n",
            "2.2.4-tf\n"
          ],
          "name": "stdout"
        }
      ]
    },
    {
      "cell_type": "code",
      "metadata": {
        "id": "3KVyF8czoxf2",
        "colab_type": "code",
        "colab": {
          "base_uri": "https://localhost:8080/",
          "height": 51
        },
        "outputId": "4e18d99b-1c41-4624-8593-18e549dede92"
      },
      "source": [
        "import keras\n",
        "keras.__version__"
      ],
      "execution_count": 2,
      "outputs": [
        {
          "output_type": "stream",
          "text": [
            "Using TensorFlow backend.\n"
          ],
          "name": "stderr"
        },
        {
          "output_type": "execute_result",
          "data": {
            "text/plain": [
              "'2.2.4'"
            ]
          },
          "metadata": {
            "tags": []
          },
          "execution_count": 2
        }
      ]
    },
    {
      "cell_type": "code",
      "metadata": {
        "id": "WZA9uv5BoxdD",
        "colab_type": "code",
        "colab": {
          "base_uri": "https://localhost:8080/",
          "height": 34
        },
        "outputId": "ea88f08e-ed9f-4fc2-8f6e-c983c48cd0dc"
      },
      "source": [
        "import torch\n",
        "torch.__version__"
      ],
      "execution_count": 3,
      "outputs": [
        {
          "output_type": "execute_result",
          "data": {
            "text/plain": [
              "'1.1.0'"
            ]
          },
          "metadata": {
            "tags": []
          },
          "execution_count": 3
        }
      ]
    },
    {
      "cell_type": "markdown",
      "metadata": {
        "id": "3XY9l5ODpJp5",
        "colab_type": "text"
      },
      "source": [
        "## Pengecekan GPU\n",
        "Berikutnya, mari kita cek kemampuan TensorFlow dan PyTorch dalam memanfaatkan kemampuan GPU\n",
        "\n",
        "**Karena Google Colab ini kita set tanpa akselerasi, maka tidak akan ada nama GPU yang tertampil**"
      ]
    },
    {
      "cell_type": "code",
      "metadata": {
        "id": "_4a2I2ZKpE4q",
        "colab_type": "code",
        "colab": {
          "base_uri": "https://localhost:8080/",
          "height": 34
        },
        "outputId": "a748e2dc-a9b2-411d-de09-fad3254b00b1"
      },
      "source": [
        "print('GPU name:', tf.test.gpu_device_name())"
      ],
      "execution_count": 4,
      "outputs": [
        {
          "output_type": "stream",
          "text": [
            "GPU name: \n"
          ],
          "name": "stdout"
        }
      ]
    },
    {
      "cell_type": "code",
      "metadata": {
        "id": "4XeTg2E9oxaD",
        "colab_type": "code",
        "colab": {
          "base_uri": "https://localhost:8080/",
          "height": 34
        },
        "outputId": "d4df17dc-8477-40bd-a761-be536ef61192"
      },
      "source": [
        "print('Using GPU?',torch.cuda.is_available())\n",
        "if torch.cuda.is_available():\n",
        "  print('GPU name:',torch.cuda.get_device_name(0))\n"
      ],
      "execution_count": 5,
      "outputs": [
        {
          "output_type": "stream",
          "text": [
            "Using GPU? False\n"
          ],
          "name": "stdout"
        }
      ]
    },
    {
      "cell_type": "markdown",
      "metadata": {
        "id": "afwrUonUphEu",
        "colab_type": "text"
      },
      "source": [
        "## Pengecekan TPU\n",
        "\n",
        "Kemudian, mari kita cek kemampuan TensorFlow dalam memanfaatkan kemampuan TPU yang eksklusif untuk TensorFlow\n",
        "\n",
        "**Karena Google Colab ini kita set tanpa akselerasi, maka tidak akan ada akselerasi TPU yang bisa digunakan**"
      ]
    },
    {
      "cell_type": "code",
      "metadata": {
        "id": "C3wzT-jVoxXd",
        "colab_type": "code",
        "colab": {
          "base_uri": "https://localhost:8080/",
          "height": 34
        },
        "outputId": "7d1a221a-7d18-4fca-f6d1-54c4e9ea5163"
      },
      "source": [
        "import os\n",
        "import pprint\n",
        "import tensorflow as tf\n",
        "\n",
        "if 'COLAB_TPU_ADDR' not in os.environ:\n",
        "  print('ERROR: Not connected to a TPU runtime; please see the first cell in this notebook for instructions!')\n",
        "else:\n",
        "  tpu_address = 'grpc://' + os.environ['COLAB_TPU_ADDR']\n",
        "  print ('TPU address is', tpu_address)\n",
        "\n",
        "  with tf.Session(tpu_address) as session:\n",
        "    devices = session.list_devices()\n",
        "    \n",
        "  print('TPU devices:')\n",
        "  pprint.pprint(devices)"
      ],
      "execution_count": 6,
      "outputs": [
        {
          "output_type": "stream",
          "text": [
            "ERROR: Not connected to a TPU runtime; please see the first cell in this notebook for instructions!\n"
          ],
          "name": "stdout"
        }
      ]
    },
    {
      "cell_type": "markdown",
      "metadata": {
        "id": "fNIfgK0sMm9V",
        "colab_type": "text"
      },
      "source": [
        "## Pelatihan Menggunakan TensorFlow\n",
        "\n",
        "Terakhir, mari kita lihat seberapa cepat kemampuan TensorFlow jika dijalankan di atas CPU"
      ]
    },
    {
      "cell_type": "code",
      "metadata": {
        "id": "hAsXrPTHoxRc",
        "colab_type": "code",
        "colab": {}
      },
      "source": [
        "import numpy as np\n",
        "import matplotlib.pyplot as plt\n",
        "%matplotlib inline\n",
        "import tensorflow as tf"
      ],
      "execution_count": 0,
      "outputs": []
    },
    {
      "cell_type": "markdown",
      "metadata": {
        "id": "JWdiYmt9X5N7",
        "colab_type": "text"
      },
      "source": [
        "Di sini akan kita gunakan Jaringan Saraf Tiruan sederhana sebanyak 3 layer untuk melatih dataset Cifar-10\n",
        "\n",
        "Jaringan dilatih selama 10 epoch dengan batch size 1000\n",
        "\n",
        "Kita akan lihat berapa lama waktu yang dibutuhkan untuk proses pelatihan"
      ]
    },
    {
      "cell_type": "code",
      "metadata": {
        "id": "zbwP7s5tipIX",
        "colab_type": "code",
        "colab": {}
      },
      "source": [
        "from tensorflow.keras.models import Sequential\n",
        "from tensorflow.keras.layers import Flatten\n",
        "from tensorflow.keras.layers import Dense\n",
        "from keras.utils import to_categorical"
      ],
      "execution_count": 0,
      "outputs": []
    },
    {
      "cell_type": "code",
      "metadata": {
        "id": "TwBdX-7AoxOn",
        "colab_type": "code",
        "colab": {
          "base_uri": "https://localhost:8080/",
          "height": 51
        },
        "outputId": "8df4f8da-c5ef-4e59-8a44-e47fabac71c5"
      },
      "source": [
        "(X_train, y_train), (X_test, y_test) = tf.keras.datasets.cifar10.load_data()\n",
        "classes = ['plane', 'car', 'bird', 'cat', 'deer', 'dog', 'frog', 'horse', 'ship', 'truck']"
      ],
      "execution_count": 9,
      "outputs": [
        {
          "output_type": "stream",
          "text": [
            "Downloading data from https://www.cs.toronto.edu/~kriz/cifar-10-python.tar.gz\n",
            "170500096/170498071 [==============================] - 2s 0us/step\n"
          ],
          "name": "stdout"
        }
      ]
    },
    {
      "cell_type": "code",
      "metadata": {
        "id": "Thou65mtjye4",
        "colab_type": "code",
        "colab": {}
      },
      "source": [
        "X_train = X_train.astype('float32')\n",
        "X_test = X_test.astype('float32')\n",
        "\n",
        "mean_image = np.mean(X_train, axis = 0)\n",
        "X_train -= mean_image\n",
        "X_test -= mean_image\n",
        "\n",
        "y_train_hot = to_categorical(y_train)\n",
        "y_test_hot = to_categorical(y_test)"
      ],
      "execution_count": 0,
      "outputs": []
    },
    {
      "cell_type": "code",
      "metadata": {
        "id": "2RaUR-Efi-kZ",
        "colab_type": "code",
        "colab": {
          "base_uri": "https://localhost:8080/",
          "height": 105
        },
        "outputId": "553006ac-4502-48be-b702-b0f73e64daea"
      },
      "source": [
        "model = Sequential()\n",
        "model.add(Flatten(input_shape=(32,32,3)))\n",
        "model.add(Dense(500, activation='sigmoid'))\n",
        "model.add(Dense(10, activation='softmax'))\n",
        "model.compile(loss='categorical_crossentropy',  optimizer='sgd', metrics=['accuracy'])"
      ],
      "execution_count": 11,
      "outputs": [
        {
          "output_type": "stream",
          "text": [
            "WARNING: Logging before flag parsing goes to stderr.\n",
            "W0805 01:39:03.082137 140655064852352 deprecation.py:506] From /usr/local/lib/python3.6/dist-packages/tensorflow/python/ops/init_ops.py:1251: calling VarianceScaling.__init__ (from tensorflow.python.ops.init_ops) with dtype is deprecated and will be removed in a future version.\n",
            "Instructions for updating:\n",
            "Call initializer instance with the dtype argument instead of passing it to the constructor\n"
          ],
          "name": "stderr"
        }
      ]
    },
    {
      "cell_type": "code",
      "metadata": {
        "id": "YTMMAyn2jKDm",
        "colab_type": "code",
        "colab": {
          "base_uri": "https://localhost:8080/",
          "height": 408
        },
        "outputId": "c064f3a3-a7f3-4238-9397-65abdc67b69f"
      },
      "source": [
        "import time\n",
        "\n",
        "\n",
        "num_epochs = 10\n",
        "batch_size = 1000\n",
        "\n",
        "tic = time.time()\n",
        "model.fit(X_train, y_train_hot, epochs=num_epochs, batch_size=batch_size, verbose=2)\n",
        "toc = time.time()\n",
        "print('\\n\\ntraining speed =', toc-tic,'seconds')"
      ],
      "execution_count": 12,
      "outputs": [
        {
          "output_type": "stream",
          "text": [
            "Epoch 1/10\n",
            "50000/50000 - 6s - loss: 2.1664 - acc: 0.2219\n",
            "Epoch 2/10\n",
            "50000/50000 - 6s - loss: 1.9409 - acc: 0.3109\n",
            "Epoch 3/10\n",
            "50000/50000 - 6s - loss: 1.8639 - acc: 0.3469\n",
            "Epoch 4/10\n",
            "50000/50000 - 6s - loss: 1.8145 - acc: 0.3681\n",
            "Epoch 5/10\n",
            "50000/50000 - 6s - loss: 1.7776 - acc: 0.3840\n",
            "Epoch 6/10\n",
            "50000/50000 - 6s - loss: 1.7467 - acc: 0.3967\n",
            "Epoch 7/10\n",
            "50000/50000 - 6s - loss: 1.7209 - acc: 0.4071\n",
            "Epoch 8/10\n",
            "50000/50000 - 6s - loss: 1.6982 - acc: 0.4176\n",
            "Epoch 9/10\n",
            "50000/50000 - 6s - loss: 1.6775 - acc: 0.4269\n",
            "Epoch 10/10\n",
            "50000/50000 - 6s - loss: 1.6584 - acc: 0.4339\n",
            "\n",
            "\n",
            "training speed = 61.74038863182068 seconds\n"
          ],
          "name": "stdout"
        }
      ]
    },
    {
      "cell_type": "code",
      "metadata": {
        "id": "UWby1QQhkeL-",
        "colab_type": "code",
        "colab": {
          "base_uri": "https://localhost:8080/",
          "height": 51
        },
        "outputId": "3e3aa17c-d642-4ce3-fce8-cece05542927"
      },
      "source": [
        "print(model.evaluate(X_test, y_test_hot))"
      ],
      "execution_count": 14,
      "outputs": [
        {
          "output_type": "stream",
          "text": [
            "10000/10000 [==============================] - 1s 138us/sample - loss: 1.7845 - acc: 0.3792\n",
            "[1.784515599822998, 0.3792]\n"
          ],
          "name": "stdout"
        }
      ]
    },
    {
      "cell_type": "markdown",
      "metadata": {
        "id": "wjBUg9S94V_T",
        "colab_type": "text"
      },
      "source": [
        "## Kesimpulan\n",
        "\n",
        "Dapat dilihat bahwa pelatihan TensorFlow yang berjalan di atas **CPU** membutuhkan waktu sekitar **7 detik per epoch** pada dataset Cifar-10 dengan ukuran **batch 1000**\n",
        "\n",
        "Selanjutnya mari kita lihat perbedaannya jika menggunakan akselerasi GPU dan TPU"
      ]
    },
    {
      "cell_type": "markdown",
      "metadata": {
        "id": "uB_ojCQ6zmKS",
        "colab_type": "text"
      },
      "source": [
        "<p>Copyright &copy; 2019 <a href=https://www.linkedin.com/in/andityaarifianto/>ADF</a> </p>"
      ]
    }
  ]
}