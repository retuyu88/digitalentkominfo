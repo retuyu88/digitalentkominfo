{
  "nbformat": 4,
  "nbformat_minor": 0,
  "metadata": {
    "colab": {
      "name": "Copy of [31 4] Transfer Learning CIFAR-10 - ADF",
      "version": "0.3.2",
      "provenance": [],
      "collapsed_sections": [],
      "toc_visible": true,
      "include_colab_link": true
    },
    "kernelspec": {
      "name": "python3",
      "display_name": "Python 3"
    },
    "accelerator": "GPU"
  },
  "cells": [
    {
      "cell_type": "markdown",
      "metadata": {
        "id": "view-in-github",
        "colab_type": "text"
      },
      "source": [
        "<a href=\"https://colab.research.google.com/github/retuyu88/digitalentkominfo/blob/master/Copy_of_%5B31_4%5D_Transfer_Learning_CIFAR_10_ADF.ipynb\" target=\"_parent\"><img src=\"https://colab.research.google.com/assets/colab-badge.svg\" alt=\"Open In Colab\"/></a>"
      ]
    },
    {
      "cell_type": "markdown",
      "metadata": {
        "id": "EfwbLGN0zdro",
        "colab_type": "text"
      },
      "source": [
        "<img src = \"https://i.imgur.com/UjutVJd.jpg\" align = \"center\">"
      ]
    },
    {
      "cell_type": "markdown",
      "metadata": {
        "colab_type": "text",
        "id": "X3rE7ne2YdkP"
      },
      "source": [
        "# Transfer Learning\n",
        "Di sini kita akan mencoba melatih VGG16 untuk mengklasifikasikan dataset CIFAR-10\n",
        "\n",
        "Kema yang akan kita coba antara lain:\n",
        "* Melatih VGG16 dari awal (bobot random)\n",
        "* Melatih VGG16 dari awal dengan Data Augmentasi\n",
        "* Melatih keseluruhan pretrained VGG16 (sudah dilatih menggunakan ImageNet)\n",
        "* Melatih hanya Layer FC dari pretrained VGG16\n",
        "* Melatih beberapa layer dari pretrained VGG16\n",
        "\n"
      ]
    },
    {
      "cell_type": "code",
      "metadata": {
        "colab_type": "code",
        "id": "uPBaOetUYdkN",
        "colab": {}
      },
      "source": [
        "import numpy as np\n",
        "import matplotlib.pyplot as plt\n",
        "import tensorflow as tf\n",
        "%matplotlib inline\n",
        "\n",
        "np.set_printoptions(precision=7)\n",
        "\n",
        "from tensorflow.keras.models import Sequential\n",
        "from tensorflow.keras.layers import Flatten\n",
        "from tensorflow.keras.layers import Dense\n",
        "from tensorflow.keras.layers import Activation\n",
        "from tensorflow.keras.layers import GlobalAveragePooling2D\n",
        "from tensorflow.keras import Model\n",
        "from tensorflow.keras.layers import Input\n",
        "\n",
        "from tensorflow.keras.utils import to_categorical\n",
        "from tensorflow.keras import backend as K\n",
        "\n",
        "from tensorflow.keras.applications.vgg16 import VGG16\n",
        "from tensorflow.keras.applications.vgg16 import preprocess_input\n",
        "from tensorflow.keras.preprocessing import image\n"
      ],
      "execution_count": 0,
      "outputs": []
    },
    {
      "cell_type": "markdown",
      "metadata": {
        "colab_type": "text",
        "id": "UIzMk5IuYdkN"
      },
      "source": [
        "# CIFAR-10 Dataset"
      ]
    },
    {
      "cell_type": "markdown",
      "metadata": {
        "colab_type": "text",
        "id": "cyGQ0E5DYdkL"
      },
      "source": [
        "## Load CIFAR-10 Dataset"
      ]
    },
    {
      "cell_type": "code",
      "metadata": {
        "colab_type": "code",
        "id": "_KTLHd3LYdkI",
        "colab": {
          "base_uri": "https://localhost:8080/",
          "height": 187
        },
        "outputId": "cdea442b-37ff-45ef-eda9-b69c371254fe"
      },
      "source": [
        "from tensorflow.keras.datasets import cifar10\n",
        "\n",
        "(X_train, y_train), (X_test, y_test) = cifar10.load_data()\n",
        "\n",
        "print('X_train.shape =',X_train.shape)\n",
        "print('y_train.shape =',y_train.shape)\n",
        "print('X_test.shape  =',X_test.shape)\n",
        "print('y_test.shape  =',y_test.shape)\n",
        "\n",
        "X_val = X_train[-10000:,:]\n",
        "y_val = y_train[-10000:]\n",
        "X_train = X_train[:-10000, :]\n",
        "y_train = y_train[:-10000]\n",
        "\n",
        "print('X_val.shape   =',X_val.shape)\n",
        "print('y_val.shape   =',y_val.shape)\n",
        "print('X_train.shape =',X_train.shape)\n",
        "print('y_train.shape =',y_train.shape)"
      ],
      "execution_count": 2,
      "outputs": [
        {
          "output_type": "stream",
          "text": [
            "Downloading data from https://www.cs.toronto.edu/~kriz/cifar-10-python.tar.gz\n",
            "170500096/170498071 [==============================] - 2s 0us/step\n",
            "X_train.shape = (50000, 32, 32, 3)\n",
            "y_train.shape = (50000, 1)\n",
            "X_test.shape  = (10000, 32, 32, 3)\n",
            "y_test.shape  = (10000, 1)\n",
            "X_val.shape   = (10000, 32, 32, 3)\n",
            "y_val.shape   = (10000, 1)\n",
            "X_train.shape = (40000, 32, 32, 3)\n",
            "y_train.shape = (40000, 1)\n"
          ],
          "name": "stdout"
        }
      ]
    },
    {
      "cell_type": "markdown",
      "metadata": {
        "colab_type": "text",
        "id": "WlrNxIfYYdkI"
      },
      "source": [
        "## Normalize Images"
      ]
    },
    {
      "cell_type": "code",
      "metadata": {
        "colab_type": "code",
        "id": "uM1DpkksYdkG",
        "colab": {
          "base_uri": "https://localhost:8080/",
          "height": 68
        },
        "outputId": "43627fb0-8866-4271-a84f-3b3b9750983c"
      },
      "source": [
        "X_train = X_train.astype('float32')\n",
        "X_val = X_val.astype('float32')\n",
        "X_test = X_test.astype('float32')\n",
        "\n",
        "mean_image = np.mean(X_train, axis = 0)\n",
        "X_train -= mean_image\n",
        "X_val -= mean_image\n",
        "X_test -= mean_image\n",
        "\n",
        "y_train_hot = to_categorical(y_train)\n",
        "y_val_hot = to_categorical(y_val)\n",
        "y_test_hot = to_categorical(y_test)\n",
        "\n",
        "print('y_train_hot.shape =',y_train_hot.shape)\n",
        "print('y_val_hot.shape   =',y_val_hot.shape)\n",
        "print('y_test_hot.shape  =',y_test_hot.shape)"
      ],
      "execution_count": 3,
      "outputs": [
        {
          "output_type": "stream",
          "text": [
            "y_train_hot.shape = (40000, 10)\n",
            "y_val_hot.shape   = (10000, 10)\n",
            "y_test_hot.shape  = (10000, 10)\n"
          ],
          "name": "stdout"
        }
      ]
    },
    {
      "cell_type": "markdown",
      "metadata": {
        "colab_type": "text",
        "id": "pKghE730YdkF"
      },
      "source": [
        "## Define Input-output shape"
      ]
    },
    {
      "cell_type": "code",
      "metadata": {
        "colab_type": "code",
        "id": "JPFI8K1vYdkD",
        "colab": {}
      },
      "source": [
        "input_shape = X_train.shape[1:]\n",
        "num_class = 10\n",
        "\n",
        "batch_size = 512\n",
        "epochs = 10\n",
        "opt = tf.keras.optimizers.Adam(lr=0.0001, decay=1e-6)"
      ],
      "execution_count": 0,
      "outputs": []
    },
    {
      "cell_type": "markdown",
      "metadata": {
        "colab_type": "text",
        "id": "whpRpWJ3YdkC"
      },
      "source": [
        "# Custom VGG16 for Cifar-10\n",
        "\n",
        "Untuk kasus ini, kita akan gunakan arsitektur VGG16 dengan input berukuran (32, 32, 3) sesuai inpuut data Cifar-10\n",
        "\n",
        "Untuk kepala output, setelah MaxPool terakhir, kita akan gunakan tambahkan 3 layer:\n",
        "* `Global Average Pooling`\n",
        "* `Dense(1024, 'relu')`\n",
        "* `Dense(10, 'softmax')`\n",
        "\n",
        "<br>\n",
        "\n",
        "Penambahan layer `GlobalAveragePooling2D` bisa digantikan dengan menambahkan parameter `pooling='avg'` pada saat mengunduh model VGG16 dengan `include_top=False`"
      ]
    },
    {
      "cell_type": "markdown",
      "metadata": {
        "colab_type": "text",
        "id": "3xxz6lsdYdkB"
      },
      "source": [
        "# Train VGG16 from Scratch"
      ]
    },
    {
      "cell_type": "code",
      "metadata": {
        "colab_type": "code",
        "id": "vSIZ4au9Ydj_",
        "colab": {
          "base_uri": "https://localhost:8080/",
          "height": 989
        },
        "outputId": "f2a71850-4df0-4091-cb60-14482b8e0a74"
      },
      "source": [
        "model = VGG16(weights=None, include_top=False, input_shape=input_shape, pooling='avg')\n",
        "\n",
        "x = model.output\n",
        "x = Dense(1024, activation='relu')(x)\n",
        "predictions = Dense(num_class, activation='softmax')(x)\n",
        "\n",
        "myModel_scratch = Model(inputs=model.input, outputs=predictions, name='VGG Scratch')\n",
        "myModel_scratch.summary()"
      ],
      "execution_count": 6,
      "outputs": [
        {
          "output_type": "stream",
          "text": [
            "WARNING: Logging before flag parsing goes to stderr.\n",
            "W0812 03:01:52.903552 139920271107968 deprecation.py:506] From /usr/local/lib/python3.6/dist-packages/tensorflow/python/ops/init_ops.py:1251: calling VarianceScaling.__init__ (from tensorflow.python.ops.init_ops) with dtype is deprecated and will be removed in a future version.\n",
            "Instructions for updating:\n",
            "Call initializer instance with the dtype argument instead of passing it to the constructor\n"
          ],
          "name": "stderr"
        },
        {
          "output_type": "stream",
          "text": [
            "Model: \"VGG Scratch\"\n",
            "_________________________________________________________________\n",
            "Layer (type)                 Output Shape              Param #   \n",
            "=================================================================\n",
            "input_1 (InputLayer)         [(None, 32, 32, 3)]       0         \n",
            "_________________________________________________________________\n",
            "block1_conv1 (Conv2D)        (None, 32, 32, 64)        1792      \n",
            "_________________________________________________________________\n",
            "block1_conv2 (Conv2D)        (None, 32, 32, 64)        36928     \n",
            "_________________________________________________________________\n",
            "block1_pool (MaxPooling2D)   (None, 16, 16, 64)        0         \n",
            "_________________________________________________________________\n",
            "block2_conv1 (Conv2D)        (None, 16, 16, 128)       73856     \n",
            "_________________________________________________________________\n",
            "block2_conv2 (Conv2D)        (None, 16, 16, 128)       147584    \n",
            "_________________________________________________________________\n",
            "block2_pool (MaxPooling2D)   (None, 8, 8, 128)         0         \n",
            "_________________________________________________________________\n",
            "block3_conv1 (Conv2D)        (None, 8, 8, 256)         295168    \n",
            "_________________________________________________________________\n",
            "block3_conv2 (Conv2D)        (None, 8, 8, 256)         590080    \n",
            "_________________________________________________________________\n",
            "block3_conv3 (Conv2D)        (None, 8, 8, 256)         590080    \n",
            "_________________________________________________________________\n",
            "block3_pool (MaxPooling2D)   (None, 4, 4, 256)         0         \n",
            "_________________________________________________________________\n",
            "block4_conv1 (Conv2D)        (None, 4, 4, 512)         1180160   \n",
            "_________________________________________________________________\n",
            "block4_conv2 (Conv2D)        (None, 4, 4, 512)         2359808   \n",
            "_________________________________________________________________\n",
            "block4_conv3 (Conv2D)        (None, 4, 4, 512)         2359808   \n",
            "_________________________________________________________________\n",
            "block4_pool (MaxPooling2D)   (None, 2, 2, 512)         0         \n",
            "_________________________________________________________________\n",
            "block5_conv1 (Conv2D)        (None, 2, 2, 512)         2359808   \n",
            "_________________________________________________________________\n",
            "block5_conv2 (Conv2D)        (None, 2, 2, 512)         2359808   \n",
            "_________________________________________________________________\n",
            "block5_conv3 (Conv2D)        (None, 2, 2, 512)         2359808   \n",
            "_________________________________________________________________\n",
            "block5_pool (MaxPooling2D)   (None, 1, 1, 512)         0         \n",
            "_________________________________________________________________\n",
            "global_average_pooling2d (Gl (None, 512)               0         \n",
            "_________________________________________________________________\n",
            "dense (Dense)                (None, 1024)              525312    \n",
            "_________________________________________________________________\n",
            "dense_1 (Dense)              (None, 10)                10250     \n",
            "=================================================================\n",
            "Total params: 15,250,250\n",
            "Trainable params: 15,250,250\n",
            "Non-trainable params: 0\n",
            "_________________________________________________________________\n"
          ],
          "name": "stdout"
        }
      ]
    },
    {
      "cell_type": "markdown",
      "metadata": {
        "colab_type": "text",
        "id": "G-IJRpHZYdj-"
      },
      "source": [
        "Sekarang mari kita latih model pertama kita CIFAR-10"
      ]
    },
    {
      "cell_type": "code",
      "metadata": {
        "colab_type": "code",
        "id": "yemMFAh3Ydj8",
        "colab": {}
      },
      "source": [
        "myModel_scratch.compile(loss='categorical_crossentropy',\n",
        "                        optimizer=opt, metrics=['accuracy'])"
      ],
      "execution_count": 0,
      "outputs": []
    },
    {
      "cell_type": "code",
      "metadata": {
        "colab_type": "code",
        "id": "AAYMugV5Ydj5",
        "colab": {
          "base_uri": "https://localhost:8080/",
          "height": 374
        },
        "outputId": "781e9fcf-9069-47ea-819d-b83b42559c05"
      },
      "source": [
        "hist_scratch = myModel_scratch.fit(X_train, y_train_hot,\n",
        "                    batch_size=batch_size,\n",
        "                    epochs=epochs,\n",
        "                    validation_data=(X_val, y_val_hot),\n",
        "                    shuffle=True)"
      ],
      "execution_count": 8,
      "outputs": [
        {
          "output_type": "stream",
          "text": [
            "Train on 40000 samples, validate on 10000 samples\n",
            "Epoch 1/10\n",
            "40000/40000 [==============================] - 27s 670us/sample - loss: 1.8352 - acc: 0.3185 - val_loss: 1.6236 - val_acc: 0.3994\n",
            "Epoch 2/10\n",
            "40000/40000 [==============================] - 16s 389us/sample - loss: 1.4627 - acc: 0.4667 - val_loss: 1.3607 - val_acc: 0.5080\n",
            "Epoch 3/10\n",
            "40000/40000 [==============================] - 16s 394us/sample - loss: 1.2737 - acc: 0.5389 - val_loss: 1.2692 - val_acc: 0.5498\n",
            "Epoch 4/10\n",
            "40000/40000 [==============================] - 16s 399us/sample - loss: 1.1374 - acc: 0.5904 - val_loss: 1.2059 - val_acc: 0.5839\n",
            "Epoch 5/10\n",
            "40000/40000 [==============================] - 16s 400us/sample - loss: 0.9959 - acc: 0.6467 - val_loss: 1.0695 - val_acc: 0.6217\n",
            "Epoch 6/10\n",
            "40000/40000 [==============================] - 16s 396us/sample - loss: 0.8648 - acc: 0.6912 - val_loss: 0.9709 - val_acc: 0.6604\n",
            "Epoch 7/10\n",
            "40000/40000 [==============================] - 16s 394us/sample - loss: 0.7442 - acc: 0.7368 - val_loss: 1.0530 - val_acc: 0.6464\n",
            "Epoch 8/10\n",
            "40000/40000 [==============================] - 16s 394us/sample - loss: 0.6480 - acc: 0.7699 - val_loss: 1.1518 - val_acc: 0.6230\n",
            "Epoch 9/10\n",
            "40000/40000 [==============================] - 16s 395us/sample - loss: 0.5385 - acc: 0.8127 - val_loss: 1.1864 - val_acc: 0.6527\n",
            "Epoch 10/10\n",
            "40000/40000 [==============================] - 16s 396us/sample - loss: 0.4081 - acc: 0.8577 - val_loss: 1.0968 - val_acc: 0.6747\n"
          ],
          "name": "stdout"
        }
      ]
    },
    {
      "cell_type": "code",
      "metadata": {
        "colab_type": "code",
        "id": "Xtzx5gV-Ydj1",
        "colab": {
          "base_uri": "https://localhost:8080/",
          "height": 337
        },
        "outputId": "052672db-a411-4df1-e3c6-63a5dbc82b49"
      },
      "source": [
        "plt.rcParams['figure.figsize'] = [7, 5]\n",
        "\n",
        "plt.plot(hist_scratch.history['acc'], label='train')\n",
        "plt.plot(hist_scratch.history['val_acc'], label='val')\n",
        "plt.xlabel('Epoch')\n",
        "plt.ylabel('Accuracy')\n",
        "plt.legend()\n",
        "plt.show()"
      ],
      "execution_count": 9,
      "outputs": [
        {
          "output_type": "display_data",
          "data": {
            "image/png": "[encoded data removed]",
            "text/plain": [
              "<Figure size 504x360 with 1 Axes>"
            ]
          },
          "metadata": {
            "tags": []
          }
        }
      ]
    },
    {
      "cell_type": "code",
      "metadata": {
        "colab_type": "code",
        "id": "ttpa4PvsYdj0",
        "colab": {
          "base_uri": "https://localhost:8080/",
          "height": 34
        },
        "outputId": "5207920c-fd6a-4685-bee6-6a604fd2cd3e"
      },
      "source": [
        "scores_scratch = myModel_scratch.evaluate(X_test, y_test_hot, verbose=1)"
      ],
      "execution_count": 10,
      "outputs": [
        {
          "output_type": "stream",
          "text": [
            "10000/10000 [==============================] - 3s 331us/sample - loss: 1.1324 - acc: 0.6743\n"
          ],
          "name": "stdout"
        }
      ]
    },
    {
      "cell_type": "code",
      "metadata": {
        "colab_type": "code",
        "id": "GaKXtOmPYdjw",
        "colab": {
          "base_uri": "https://localhost:8080/",
          "height": 51
        },
        "outputId": "e73a2058-5415-4708-9736-7c608d2ff223"
      },
      "source": [
        "print('Test loss    :', scores_scratch[0])\n",
        "print('Test accuracy: %.2f%%' % (scores_scratch[1]*100))"
      ],
      "execution_count": 11,
      "outputs": [
        {
          "output_type": "stream",
          "text": [
            "Test loss    : 1.1323904458999634\n",
            "Test accuracy: 67.43%\n"
          ],
          "name": "stdout"
        }
      ]
    },
    {
      "cell_type": "markdown",
      "metadata": {
        "colab_type": "text",
        "id": "9uAEWdtsYdjw"
      },
      "source": [
        "Dapat dilihat, melatih VGG16 pada dataset CIFAR-10 membuat overfit"
      ]
    },
    {
      "cell_type": "markdown",
      "metadata": {
        "colab_type": "text",
        "id": "4S5hc83oYdjv"
      },
      "source": [
        "# Train VGG16 from Scratch with Data Autmentation"
      ]
    },
    {
      "cell_type": "code",
      "metadata": {
        "colab_type": "code",
        "id": "FXfrbiAXYdjs",
        "colab": {
          "base_uri": "https://localhost:8080/",
          "height": 901
        },
        "outputId": "84df7c88-2571-446d-b962-35665e98fb43"
      },
      "source": [
        "model = VGG16(weights=None, include_top=False, input_shape=input_shape, pooling='avg')\n",
        "\n",
        "x = model.output\n",
        "x = Dense(1024, activation='relu')(x)\n",
        "predictions = Dense(num_class, activation='softmax')(x)\n",
        "\n",
        "myModel_aug = Model(inputs=model.input, outputs=predictions, name='VGG Augmented')\n",
        "myModel_aug.summary()"
      ],
      "execution_count": 12,
      "outputs": [
        {
          "output_type": "stream",
          "text": [
            "Model: \"VGG Augmented\"\n",
            "_________________________________________________________________\n",
            "Layer (type)                 Output Shape              Param #   \n",
            "=================================================================\n",
            "input_2 (InputLayer)         [(None, 32, 32, 3)]       0         \n",
            "_________________________________________________________________\n",
            "block1_conv1 (Conv2D)        (None, 32, 32, 64)        1792      \n",
            "_________________________________________________________________\n",
            "block1_conv2 (Conv2D)        (None, 32, 32, 64)        36928     \n",
            "_________________________________________________________________\n",
            "block1_pool (MaxPooling2D)   (None, 16, 16, 64)        0         \n",
            "_________________________________________________________________\n",
            "block2_conv1 (Conv2D)        (None, 16, 16, 128)       73856     \n",
            "_________________________________________________________________\n",
            "block2_conv2 (Conv2D)        (None, 16, 16, 128)       147584    \n",
            "_________________________________________________________________\n",
            "block2_pool (MaxPooling2D)   (None, 8, 8, 128)         0         \n",
            "_________________________________________________________________\n",
            "block3_conv1 (Conv2D)        (None, 8, 8, 256)         295168    \n",
            "_________________________________________________________________\n",
            "block3_conv2 (Conv2D)        (None, 8, 8, 256)         590080    \n",
            "_________________________________________________________________\n",
            "block3_conv3 (Conv2D)        (None, 8, 8, 256)         590080    \n",
            "_________________________________________________________________\n",
            "block3_pool (MaxPooling2D)   (None, 4, 4, 256)         0         \n",
            "_________________________________________________________________\n",
            "block4_conv1 (Conv2D)        (None, 4, 4, 512)         1180160   \n",
            "_________________________________________________________________\n",
            "block4_conv2 (Conv2D)        (None, 4, 4, 512)         2359808   \n",
            "_________________________________________________________________\n",
            "block4_conv3 (Conv2D)        (None, 4, 4, 512)         2359808   \n",
            "_________________________________________________________________\n",
            "block4_pool (MaxPooling2D)   (None, 2, 2, 512)         0         \n",
            "_________________________________________________________________\n",
            "block5_conv1 (Conv2D)        (None, 2, 2, 512)         2359808   \n",
            "_________________________________________________________________\n",
            "block5_conv2 (Conv2D)        (None, 2, 2, 512)         2359808   \n",
            "_________________________________________________________________\n",
            "block5_conv3 (Conv2D)        (None, 2, 2, 512)         2359808   \n",
            "_________________________________________________________________\n",
            "block5_pool (MaxPooling2D)   (None, 1, 1, 512)         0         \n",
            "_________________________________________________________________\n",
            "global_average_pooling2d_1 ( (None, 512)               0         \n",
            "_________________________________________________________________\n",
            "dense_2 (Dense)              (None, 1024)              525312    \n",
            "_________________________________________________________________\n",
            "dense_3 (Dense)              (None, 10)                10250     \n",
            "=================================================================\n",
            "Total params: 15,250,250\n",
            "Trainable params: 15,250,250\n",
            "Non-trainable params: 0\n",
            "_________________________________________________________________\n"
          ],
          "name": "stdout"
        }
      ]
    },
    {
      "cell_type": "markdown",
      "metadata": {
        "colab_type": "text",
        "id": "8OyIZ6L-Ydjr"
      },
      "source": [
        "Define Data Autmentation schedule"
      ]
    },
    {
      "cell_type": "code",
      "metadata": {
        "colab_type": "code",
        "id": "K-_Gmx2dYdjp",
        "colab": {}
      },
      "source": [
        "from tensorflow.keras.preprocessing.image import ImageDataGenerator\n",
        "\n",
        "datagen = ImageDataGenerator(\n",
        "    width_shift_range=0.1,\n",
        "    height_shift_range=0.1,\n",
        "    horizontal_flip=True,\n",
        "    vertical_flip=False)"
      ],
      "execution_count": 0,
      "outputs": []
    },
    {
      "cell_type": "markdown",
      "metadata": {
        "colab_type": "text",
        "id": "rDaDuSXvYdjo"
      },
      "source": [
        "Perform Data Augmentation"
      ]
    },
    {
      "cell_type": "code",
      "metadata": {
        "colab_type": "code",
        "id": "fpcLT6UwYdjl",
        "colab": {}
      },
      "source": [
        "datagen.fit(X_train)"
      ],
      "execution_count": 0,
      "outputs": []
    },
    {
      "cell_type": "code",
      "metadata": {
        "scrolled": true,
        "colab_type": "code",
        "id": "wRUNC4fdYdji",
        "colab": {
          "base_uri": "https://localhost:8080/",
          "height": 357
        },
        "outputId": "de13d3f6-11b7-478f-978c-dcc65221a14a"
      },
      "source": [
        "myModel_aug.compile(loss='categorical_crossentropy',\n",
        "                        optimizer=opt, metrics=['accuracy'])\n",
        "\n",
        "hist_aug = myModel_aug.fit_generator(datagen.flow(X_train, y_train_hot,\n",
        "                                             batch_size=batch_size),\n",
        "                                epochs=epochs,\n",
        "                                validation_data=(X_val, y_val_hot))"
      ],
      "execution_count": 16,
      "outputs": [
        {
          "output_type": "stream",
          "text": [
            "Epoch 1/10\n",
            "79/79 [==============================] - 20s 258ms/step - loss: 2.0699 - acc: 0.2057 - val_loss: 1.7988 - val_acc: 0.3098\n",
            "Epoch 2/10\n",
            "79/79 [==============================] - 17s 221ms/step - loss: 1.6841 - acc: 0.3553 - val_loss: 1.5535 - val_acc: 0.4093\n",
            "Epoch 3/10\n",
            "79/79 [==============================] - 18s 223ms/step - loss: 1.4609 - acc: 0.4535 - val_loss: 1.4236 - val_acc: 0.4748\n",
            "Epoch 4/10\n",
            "79/79 [==============================] - 18s 224ms/step - loss: 1.2818 - acc: 0.5276 - val_loss: 1.1768 - val_acc: 0.5725\n",
            "Epoch 5/10\n",
            "79/79 [==============================] - 18s 222ms/step - loss: 1.1446 - acc: 0.5829 - val_loss: 1.0989 - val_acc: 0.6061\n",
            "Epoch 6/10\n",
            "79/79 [==============================] - 18s 225ms/step - loss: 1.0459 - acc: 0.6205 - val_loss: 1.0738 - val_acc: 0.6181\n",
            "Epoch 7/10\n",
            "79/79 [==============================] - 17s 221ms/step - loss: 0.9501 - acc: 0.6579 - val_loss: 0.9854 - val_acc: 0.6529\n",
            "Epoch 8/10\n",
            "79/79 [==============================] - 17s 220ms/step - loss: 0.8877 - acc: 0.6809 - val_loss: 0.9020 - val_acc: 0.6902\n",
            "Epoch 9/10\n",
            "79/79 [==============================] - 17s 221ms/step - loss: 0.8348 - acc: 0.7010 - val_loss: 0.8702 - val_acc: 0.6954\n",
            "Epoch 10/10\n",
            "79/79 [==============================] - 18s 223ms/step - loss: 0.7897 - acc: 0.7208 - val_loss: 0.7993 - val_acc: 0.7242\n"
          ],
          "name": "stdout"
        }
      ]
    },
    {
      "cell_type": "code",
      "metadata": {
        "colab_type": "code",
        "id": "jVQbBBAfYdjg",
        "colab": {
          "base_uri": "https://localhost:8080/",
          "height": 337
        },
        "outputId": "cbed0f2a-ed6a-49a1-fa82-cbca8a191231"
      },
      "source": [
        "plt.rcParams['figure.figsize'] = [7, 5]\n",
        "\n",
        "plt.plot(hist_aug.history['acc'], label='train')\n",
        "plt.plot(hist_aug.history['val_acc'], label='val')\n",
        "plt.xlabel('Epoch')\n",
        "plt.ylabel('Accuracy')\n",
        "plt.legend()\n",
        "plt.show()\n"
      ],
      "execution_count": 17,
      "outputs": [
        {
          "output_type": "display_data",
          "data": {
            "image/png": "[encoded data removed]",
            "text/plain": [
              "<Figure size 504x360 with 1 Axes>"
            ]
          },
          "metadata": {
            "tags": []
          }
        }
      ]
    },
    {
      "cell_type": "code",
      "metadata": {
        "colab_type": "code",
        "id": "f74vDZzUYdjd",
        "colab": {
          "base_uri": "https://localhost:8080/",
          "height": 337
        },
        "outputId": "7ebfbd1a-e02f-4e4f-abb5-ca066dee7953"
      },
      "source": [
        "plt.rcParams['figure.figsize'] = [15, 5]\n",
        "\n",
        "plt.subplot(1, 2, 1)\n",
        "plt.plot(hist_scratch.history['acc'], label='scratch')\n",
        "plt.plot(hist_aug.history['acc'], label='aug')\n",
        "plt.xlabel('Epoch')\n",
        "plt.ylabel('Train Acc')\n",
        "plt.legend()\n",
        "\n",
        "plt.subplot(1, 2, 2)\n",
        "plt.plot(hist_scratch.history['val_acc'], label='scratch')\n",
        "plt.plot(hist_aug.history['val_acc'], label='aug')\n",
        "plt.xlabel('Epoch')\n",
        "plt.ylabel('Val Acc')\n",
        "plt.legend()\n",
        "plt.show()\n",
        "\n"
      ],
      "execution_count": 18,
      "outputs": [
        {
          "output_type": "display_data",
          "data": {
            "image/png": "[encoded data removed]",
            "text/plain": [
              "<Figure size 1080x360 with 2 Axes>"
            ]
          },
          "metadata": {
            "tags": []
          }
        }
      ]
    },
    {
      "cell_type": "code",
      "metadata": {
        "colab_type": "code",
        "id": "mO7JUN-pYdja",
        "colab": {
          "base_uri": "https://localhost:8080/",
          "height": 34
        },
        "outputId": "ac2a51f8-776e-46ea-f021-035750f8c8e9"
      },
      "source": [
        "scores_aug = myModel_aug.evaluate(X_test, y_test_hot, verbose=1)"
      ],
      "execution_count": 19,
      "outputs": [
        {
          "output_type": "stream",
          "text": [
            "10000/10000 [==============================] - 3s 288us/sample - loss: 0.8218 - acc: 0.7164\n"
          ],
          "name": "stdout"
        }
      ]
    },
    {
      "cell_type": "code",
      "metadata": {
        "colab_type": "code",
        "id": "8NTWrF-8YdjW",
        "colab": {
          "base_uri": "https://localhost:8080/",
          "height": 51
        },
        "outputId": "c4bc262e-c5b0-4b25-971a-2a207b6a99ff"
      },
      "source": [
        "print('Test loss    :', scores_aug[0])\n",
        "print('Test accuracy: %.2f%%' % (scores_aug[1]*100))"
      ],
      "execution_count": 20,
      "outputs": [
        {
          "output_type": "stream",
          "text": [
            "Test loss    : 0.8217741228103638\n",
            "Test accuracy: 71.64%\n"
          ],
          "name": "stdout"
        }
      ]
    },
    {
      "cell_type": "markdown",
      "metadata": {
        "colab_type": "text",
        "id": "VWdXdRpeYdjV"
      },
      "source": [
        "Dapat dilihat, Augmentasi Data dapat memperkecil overfitting"
      ]
    },
    {
      "cell_type": "markdown",
      "metadata": {
        "colab_type": "text",
        "id": "jDQhKx4kYdjU"
      },
      "source": [
        "# Train ImageNet-pretrained VGG16\n",
        "\n",
        "Load model pretrained VGG without the top FC layer,\n",
        "\n",
        "this code below will download new model without the top FC Layer"
      ]
    },
    {
      "cell_type": "code",
      "metadata": {
        "colab_type": "code",
        "id": "_f5ysqBTYdjS",
        "colab": {
          "base_uri": "https://localhost:8080/",
          "height": 935
        },
        "outputId": "d12879be-ec95-4549-85e0-859d7101cc24"
      },
      "source": [
        "model = VGG16(weights='imagenet', include_top=False, input_shape=input_shape, pooling='avg')\n",
        "\n",
        "x = model.output\n",
        "x = Dense(1024, activation='relu')(x)\n",
        "predictions = Dense(num_class, activation='softmax')(x)\n",
        "\n",
        "myModel_imagenet = Model(inputs=model.input, outputs=predictions, name='VGG ImageNet')\n",
        "myModel_imagenet.summary()"
      ],
      "execution_count": 21,
      "outputs": [
        {
          "output_type": "stream",
          "text": [
            "Downloading data from https://github.com/fchollet/deep-learning-models/releases/download/v0.1/vgg16_weights_tf_dim_ordering_tf_kernels_notop.h5\n",
            "58892288/58889256 [==============================] - 1s 0us/step\n",
            "Model: \"VGG ImageNet\"\n",
            "_________________________________________________________________\n",
            "Layer (type)                 Output Shape              Param #   \n",
            "=================================================================\n",
            "input_3 (InputLayer)         [(None, 32, 32, 3)]       0         \n",
            "_________________________________________________________________\n",
            "block1_conv1 (Conv2D)        (None, 32, 32, 64)        1792      \n",
            "_________________________________________________________________\n",
            "block1_conv2 (Conv2D)        (None, 32, 32, 64)        36928     \n",
            "_________________________________________________________________\n",
            "block1_pool (MaxPooling2D)   (None, 16, 16, 64)        0         \n",
            "_________________________________________________________________\n",
            "block2_conv1 (Conv2D)        (None, 16, 16, 128)       73856     \n",
            "_________________________________________________________________\n",
            "block2_conv2 (Conv2D)        (None, 16, 16, 128)       147584    \n",
            "_________________________________________________________________\n",
            "block2_pool (MaxPooling2D)   (None, 8, 8, 128)         0         \n",
            "_________________________________________________________________\n",
            "block3_conv1 (Conv2D)        (None, 8, 8, 256)         295168    \n",
            "_________________________________________________________________\n",
            "block3_conv2 (Conv2D)        (None, 8, 8, 256)         590080    \n",
            "_________________________________________________________________\n",
            "block3_conv3 (Conv2D)        (None, 8, 8, 256)         590080    \n",
            "_________________________________________________________________\n",
            "block3_pool (MaxPooling2D)   (None, 4, 4, 256)         0         \n",
            "_________________________________________________________________\n",
            "block4_conv1 (Conv2D)        (None, 4, 4, 512)         1180160   \n",
            "_________________________________________________________________\n",
            "block4_conv2 (Conv2D)        (None, 4, 4, 512)         2359808   \n",
            "_________________________________________________________________\n",
            "block4_conv3 (Conv2D)        (None, 4, 4, 512)         2359808   \n",
            "_________________________________________________________________\n",
            "block4_pool (MaxPooling2D)   (None, 2, 2, 512)         0         \n",
            "_________________________________________________________________\n",
            "block5_conv1 (Conv2D)        (None, 2, 2, 512)         2359808   \n",
            "_________________________________________________________________\n",
            "block5_conv2 (Conv2D)        (None, 2, 2, 512)         2359808   \n",
            "_________________________________________________________________\n",
            "block5_conv3 (Conv2D)        (None, 2, 2, 512)         2359808   \n",
            "_________________________________________________________________\n",
            "block5_pool (MaxPooling2D)   (None, 1, 1, 512)         0         \n",
            "_________________________________________________________________\n",
            "global_average_pooling2d_2 ( (None, 512)               0         \n",
            "_________________________________________________________________\n",
            "dense_4 (Dense)              (None, 1024)              525312    \n",
            "_________________________________________________________________\n",
            "dense_5 (Dense)              (None, 10)                10250     \n",
            "=================================================================\n",
            "Total params: 15,250,250\n",
            "Trainable params: 15,250,250\n",
            "Non-trainable params: 0\n",
            "_________________________________________________________________\n"
          ],
          "name": "stdout"
        }
      ]
    },
    {
      "cell_type": "code",
      "metadata": {
        "colab_type": "code",
        "id": "72Xb4wPCYdjO",
        "colab": {}
      },
      "source": [
        "myModel_imagenet.compile(loss='categorical_crossentropy',\n",
        "                        optimizer=opt, metrics=['accuracy'])"
      ],
      "execution_count": 0,
      "outputs": []
    },
    {
      "cell_type": "code",
      "metadata": {
        "colab_type": "code",
        "id": "iYFu-2ZtYdjM",
        "colab": {
          "base_uri": "https://localhost:8080/",
          "height": 374
        },
        "outputId": "3de817cf-baa9-44b2-c542-0c777b58770f"
      },
      "source": [
        "hist_imagenet = myModel_imagenet.fit(X_train, y_train_hot,\n",
        "                    batch_size=batch_size,\n",
        "                    epochs=epochs,\n",
        "                    validation_data=(X_val, y_val_hot),\n",
        "                    shuffle=True)"
      ],
      "execution_count": 24,
      "outputs": [
        {
          "output_type": "stream",
          "text": [
            "Train on 40000 samples, validate on 10000 samples\n",
            "Epoch 1/10\n",
            "40000/40000 [==============================] - 15s 385us/sample - loss: 2.7003 - acc: 0.1023 - val_loss: 2.3026 - val_acc: 0.1022\n",
            "Epoch 2/10\n",
            "40000/40000 [==============================] - 15s 371us/sample - loss: 2.3026 - acc: 0.0994 - val_loss: 2.3026 - val_acc: 0.1022\n",
            "Epoch 3/10\n",
            "40000/40000 [==============================] - 15s 375us/sample - loss: 2.3026 - acc: 0.1005 - val_loss: 2.3027 - val_acc: 0.0952\n",
            "Epoch 4/10\n",
            "40000/40000 [==============================] - 15s 372us/sample - loss: 2.3026 - acc: 0.1013 - val_loss: 2.3027 - val_acc: 0.0977\n",
            "Epoch 5/10\n",
            "40000/40000 [==============================] - 15s 369us/sample - loss: 2.3026 - acc: 0.0995 - val_loss: 2.3027 - val_acc: 0.0952\n",
            "Epoch 6/10\n",
            "40000/40000 [==============================] - 15s 368us/sample - loss: 2.3026 - acc: 0.1000 - val_loss: 2.3027 - val_acc: 0.0952\n",
            "Epoch 7/10\n",
            "40000/40000 [==============================] - 15s 368us/sample - loss: 2.3026 - acc: 0.1012 - val_loss: 2.3027 - val_acc: 0.0952\n",
            "Epoch 8/10\n",
            "40000/40000 [==============================] - 15s 370us/sample - loss: 2.3026 - acc: 0.1012 - val_loss: 2.3027 - val_acc: 0.0952\n",
            "Epoch 9/10\n",
            "40000/40000 [==============================] - 15s 370us/sample - loss: 2.3026 - acc: 0.1012 - val_loss: 2.3027 - val_acc: 0.0952\n",
            "Epoch 10/10\n",
            "40000/40000 [==============================] - 15s 370us/sample - loss: 2.3026 - acc: 0.1012 - val_loss: 2.3027 - val_acc: 0.0952\n"
          ],
          "name": "stdout"
        }
      ]
    },
    {
      "cell_type": "code",
      "metadata": {
        "colab_type": "code",
        "id": "uMCMDH6dYdjJ",
        "colab": {
          "base_uri": "https://localhost:8080/",
          "height": 337
        },
        "outputId": "c75681f0-a72c-4646-f50b-5a8b1dabf70c"
      },
      "source": [
        "plt.rcParams['figure.figsize'] = [7, 5]\n",
        "\n",
        "plt.plot(hist_imagenet.history['acc'], label='train')\n",
        "plt.plot(hist_imagenet.history['val_acc'], label='val')\n",
        "plt.xlabel('Epoch')\n",
        "plt.ylabel('Accuracy')\n",
        "plt.legend()\n",
        "plt.show()\n"
      ],
      "execution_count": 25,
      "outputs": [
        {
          "output_type": "display_data",
          "data": {
            "image/png": "[encoded data removed]",
            "text/plain": [
              "<Figure size 504x360 with 1 Axes>"
            ]
          },
          "metadata": {
            "tags": []
          }
        }
      ]
    },
    {
      "cell_type": "code",
      "metadata": {
        "colab_type": "code",
        "id": "6KJIm7bIYdjH",
        "colab": {
          "base_uri": "https://localhost:8080/",
          "height": 337
        },
        "outputId": "5cbdbd59-f562-4cf7-f6bf-2b5559d37c13"
      },
      "source": [
        "plt.rcParams['figure.figsize'] = [15, 5]\n",
        "\n",
        "plt.subplot(1, 2, 1)\n",
        "plt.plot(hist_scratch.history['acc'], label='scratch')\n",
        "plt.plot(hist_aug.history['acc'], label='aug')\n",
        "plt.plot(hist_imagenet.history['acc'], label='imagenet')\n",
        "plt.xlabel('Epoch')\n",
        "plt.ylabel('Train Acc')\n",
        "plt.legend()\n",
        "\n",
        "plt.subplot(1, 2, 2)\n",
        "plt.plot(hist_scratch.history['val_acc'], label='scratch')\n",
        "plt.plot(hist_aug.history['val_acc'], label='aug')\n",
        "plt.plot(hist_imagenet.history['val_acc'], label='imagenet')\n",
        "plt.xlabel('Epoch')\n",
        "plt.ylabel('Val Acc')\n",
        "plt.legend()\n",
        "plt.show()\n",
        "\n"
      ],
      "execution_count": 26,
      "outputs": [
        {
          "output_type": "display_data",
          "data": {
            "image/png": "[encoded data removed]",
            "text/plain": [
              "<Figure size 1080x360 with 2 Axes>"
            ]
          },
          "metadata": {
            "tags": []
          }
        }
      ]
    },
    {
      "cell_type": "code",
      "metadata": {
        "colab_type": "code",
        "id": "iiZyQV_wYdjE",
        "colab": {
          "base_uri": "https://localhost:8080/",
          "height": 34
        },
        "outputId": "44561cad-b008-44a9-e33a-3d007d0a1b26"
      },
      "source": [
        "scores_imagenet = myModel_imagenet.evaluate(X_test, y_test_hot, verbose=1)"
      ],
      "execution_count": 27,
      "outputs": [
        {
          "output_type": "stream",
          "text": [
            "10000/10000 [==============================] - 3s 294us/sample - loss: 2.3026 - acc: 0.1000\n"
          ],
          "name": "stdout"
        }
      ]
    },
    {
      "cell_type": "code",
      "metadata": {
        "colab_type": "code",
        "id": "mud24m73YdjA",
        "colab": {
          "base_uri": "https://localhost:8080/",
          "height": 51
        },
        "outputId": "e5658cbc-018c-4395-f155-c74413629568"
      },
      "source": [
        "print('Test loss    :', scores_imagenet[0])\n",
        "print('Test accuracy: %.2f%%' % (scores_imagenet[1]*100))"
      ],
      "execution_count": 28,
      "outputs": [
        {
          "output_type": "stream",
          "text": [
            "Test loss    : 2.302595514678955\n",
            "Test accuracy: 10.00%\n"
          ],
          "name": "stdout"
        }
      ]
    },
    {
      "cell_type": "markdown",
      "metadata": {
        "colab_type": "text",
        "id": "JvYQuEqrYdjA"
      },
      "source": [
        "Penggunaan Pretrained Model membuat model belajar lebih cepat, dengan masih menjaga dari overfitting meskipun tanpa Augmentasi Data "
      ]
    },
    {
      "cell_type": "markdown",
      "metadata": {
        "colab_type": "text",
        "id": "hovDGlNzYdi-"
      },
      "source": [
        "# Train FC layer of ImageNet-pretrained VGG16\n",
        "\n",
        "Load model pretrained VGG without the top FC layer,"
      ]
    },
    {
      "cell_type": "code",
      "metadata": {
        "colab_type": "code",
        "id": "b4qO7Yy8Ydi6",
        "colab": {}
      },
      "source": [
        "model = VGG16(weights='imagenet', include_top=False, input_shape=input_shape, pooling='avg')"
      ],
      "execution_count": 0,
      "outputs": []
    },
    {
      "cell_type": "markdown",
      "metadata": {
        "colab_type": "text",
        "id": "o4I1Yh_rYdi6"
      },
      "source": [
        "Let's freeze the pretrained model so it won't be changed during training"
      ]
    },
    {
      "cell_type": "code",
      "metadata": {
        "colab_type": "code",
        "id": "0iMGx8uXYdi3",
        "colab": {}
      },
      "source": [
        "for layer in model.layers:\n",
        "    layer.trainable = False    "
      ],
      "execution_count": 0,
      "outputs": []
    },
    {
      "cell_type": "markdown",
      "metadata": {
        "colab_type": "text",
        "id": "jEUcKTCGYdi2"
      },
      "source": [
        "Add new layers"
      ]
    },
    {
      "cell_type": "code",
      "metadata": {
        "colab_type": "code",
        "id": "pt9KtIlvYdiy",
        "colab": {
          "base_uri": "https://localhost:8080/",
          "height": 901
        },
        "outputId": "762edbcb-f995-4322-8e7b-34df954345c7"
      },
      "source": [
        "x = model.output\n",
        "x = Dense(1024, activation='relu')(x)\n",
        "predictions = Dense(num_class, activation='softmax')(x)\n",
        "\n",
        "myModel_fc = Model(inputs=model.input, outputs=predictions, name='VGG FC')\n",
        "myModel_fc.summary()"
      ],
      "execution_count": 31,
      "outputs": [
        {
          "output_type": "stream",
          "text": [
            "Model: \"VGG FC\"\n",
            "_________________________________________________________________\n",
            "Layer (type)                 Output Shape              Param #   \n",
            "=================================================================\n",
            "input_4 (InputLayer)         [(None, 32, 32, 3)]       0         \n",
            "_________________________________________________________________\n",
            "block1_conv1 (Conv2D)        (None, 32, 32, 64)        1792      \n",
            "_________________________________________________________________\n",
            "block1_conv2 (Conv2D)        (None, 32, 32, 64)        36928     \n",
            "_________________________________________________________________\n",
            "block1_pool (MaxPooling2D)   (None, 16, 16, 64)        0         \n",
            "_________________________________________________________________\n",
            "block2_conv1 (Conv2D)        (None, 16, 16, 128)       73856     \n",
            "_________________________________________________________________\n",
            "block2_conv2 (Conv2D)        (None, 16, 16, 128)       147584    \n",
            "_________________________________________________________________\n",
            "block2_pool (MaxPooling2D)   (None, 8, 8, 128)         0         \n",
            "_________________________________________________________________\n",
            "block3_conv1 (Conv2D)        (None, 8, 8, 256)         295168    \n",
            "_________________________________________________________________\n",
            "block3_conv2 (Conv2D)        (None, 8, 8, 256)         590080    \n",
            "_________________________________________________________________\n",
            "block3_conv3 (Conv2D)        (None, 8, 8, 256)         590080    \n",
            "_________________________________________________________________\n",
            "block3_pool (MaxPooling2D)   (None, 4, 4, 256)         0         \n",
            "_________________________________________________________________\n",
            "block4_conv1 (Conv2D)        (None, 4, 4, 512)         1180160   \n",
            "_________________________________________________________________\n",
            "block4_conv2 (Conv2D)        (None, 4, 4, 512)         2359808   \n",
            "_________________________________________________________________\n",
            "block4_conv3 (Conv2D)        (None, 4, 4, 512)         2359808   \n",
            "_________________________________________________________________\n",
            "block4_pool (MaxPooling2D)   (None, 2, 2, 512)         0         \n",
            "_________________________________________________________________\n",
            "block5_conv1 (Conv2D)        (None, 2, 2, 512)         2359808   \n",
            "_________________________________________________________________\n",
            "block5_conv2 (Conv2D)        (None, 2, 2, 512)         2359808   \n",
            "_________________________________________________________________\n",
            "block5_conv3 (Conv2D)        (None, 2, 2, 512)         2359808   \n",
            "_________________________________________________________________\n",
            "block5_pool (MaxPooling2D)   (None, 1, 1, 512)         0         \n",
            "_________________________________________________________________\n",
            "global_average_pooling2d_3 ( (None, 512)               0         \n",
            "_________________________________________________________________\n",
            "dense_6 (Dense)              (None, 1024)              525312    \n",
            "_________________________________________________________________\n",
            "dense_7 (Dense)              (None, 10)                10250     \n",
            "=================================================================\n",
            "Total params: 15,250,250\n",
            "Trainable params: 535,562\n",
            "Non-trainable params: 14,714,688\n",
            "_________________________________________________________________\n"
          ],
          "name": "stdout"
        }
      ]
    },
    {
      "cell_type": "code",
      "metadata": {
        "colab_type": "code",
        "id": "3T0kqQFSYdiv",
        "colab": {}
      },
      "source": [
        "myModel_fc.compile(loss='categorical_crossentropy',\n",
        "                        optimizer=opt, metrics=['accuracy'])"
      ],
      "execution_count": 0,
      "outputs": []
    },
    {
      "cell_type": "code",
      "metadata": {
        "colab_type": "code",
        "id": "ZozOUVihYdit",
        "colab": {
          "base_uri": "https://localhost:8080/",
          "height": 374
        },
        "outputId": "c6393c1a-45c5-453e-92e8-c766a44fdbd7"
      },
      "source": [
        "hist_fc = myModel_fc.fit(X_train, y_train_hot,\n",
        "                    batch_size=batch_size,\n",
        "                    epochs=epochs,\n",
        "                    validation_data=(X_val, y_val_hot),\n",
        "                    shuffle=True)"
      ],
      "execution_count": 33,
      "outputs": [
        {
          "output_type": "stream",
          "text": [
            "Train on 40000 samples, validate on 10000 samples\n",
            "Epoch 1/10\n",
            "40000/40000 [==============================] - 6s 161us/sample - loss: 3.4476 - acc: 0.5063 - val_loss: 2.1720 - val_acc: 0.5587\n",
            "Epoch 2/10\n",
            "40000/40000 [==============================] - 6s 151us/sample - loss: 1.5302 - acc: 0.6255 - val_loss: 1.8749 - val_acc: 0.5738\n",
            "Epoch 3/10\n",
            "40000/40000 [==============================] - 6s 152us/sample - loss: 1.1312 - acc: 0.6795 - val_loss: 1.7963 - val_acc: 0.5805\n",
            "Epoch 4/10\n",
            "40000/40000 [==============================] - 6s 152us/sample - loss: 0.9124 - acc: 0.7210 - val_loss: 1.7245 - val_acc: 0.5879\n",
            "Epoch 5/10\n",
            "40000/40000 [==============================] - 6s 154us/sample - loss: 0.7669 - acc: 0.7587 - val_loss: 1.6934 - val_acc: 0.5870\n",
            "Epoch 6/10\n",
            "40000/40000 [==============================] - 6s 153us/sample - loss: 0.6610 - acc: 0.7879 - val_loss: 1.6759 - val_acc: 0.5950\n",
            "Epoch 7/10\n",
            "40000/40000 [==============================] - 6s 153us/sample - loss: 0.5824 - acc: 0.8120 - val_loss: 1.6588 - val_acc: 0.5944\n",
            "Epoch 8/10\n",
            "40000/40000 [==============================] - 6s 153us/sample - loss: 0.5139 - acc: 0.8384 - val_loss: 1.6503 - val_acc: 0.5982\n",
            "Epoch 9/10\n",
            "40000/40000 [==============================] - 6s 152us/sample - loss: 0.4662 - acc: 0.8558 - val_loss: 1.6440 - val_acc: 0.5978\n",
            "Epoch 10/10\n",
            "40000/40000 [==============================] - 6s 152us/sample - loss: 0.4202 - acc: 0.8731 - val_loss: 1.6346 - val_acc: 0.6027\n"
          ],
          "name": "stdout"
        }
      ]
    },
    {
      "cell_type": "code",
      "metadata": {
        "colab_type": "code",
        "id": "PBFx5gJCYdio",
        "colab": {
          "base_uri": "https://localhost:8080/",
          "height": 337
        },
        "outputId": "30817f3c-3918-412d-d857-1386d2cdd819"
      },
      "source": [
        "plt.rcParams['figure.figsize'] = [7, 5]\n",
        "\n",
        "plt.plot(hist_fc.history['acc'], label='train')\n",
        "plt.plot(hist_fc.history['val_acc'], label='val')\n",
        "plt.xlabel('Epoch')\n",
        "plt.ylabel('Accuracy')\n",
        "plt.legend()\n",
        "plt.show()\n"
      ],
      "execution_count": 34,
      "outputs": [
        {
          "output_type": "display_data",
          "data": {
            "image/png": "[encoded data removed]",
            "text/plain": [
              "<Figure size 504x360 with 1 Axes>"
            ]
          },
          "metadata": {
            "tags": []
          }
        }
      ]
    },
    {
      "cell_type": "code",
      "metadata": {
        "colab_type": "code",
        "id": "Vv5ZYdkjYdil",
        "colab": {
          "base_uri": "https://localhost:8080/",
          "height": 337
        },
        "outputId": "779cc5c7-9a28-4bfc-a1b9-32c6d1ba1783"
      },
      "source": [
        "plt.rcParams['figure.figsize'] = [15, 5]\n",
        "\n",
        "plt.subplot(1, 2, 1)\n",
        "plt.plot(hist_scratch.history['acc'], label='scratch')\n",
        "plt.plot(hist_aug.history['acc'], label='aug')\n",
        "plt.plot(hist_imagenet.history['acc'], label='imagenet')\n",
        "plt.plot(hist_fc.history['acc'], label='fc')\n",
        "plt.xlabel('Epoch')\n",
        "plt.ylabel('Train Acc')\n",
        "plt.legend()\n",
        "\n",
        "plt.subplot(1, 2, 2)\n",
        "plt.plot(hist_scratch.history['val_acc'], label='scratch')\n",
        "plt.plot(hist_aug.history['val_acc'], label='aug')\n",
        "plt.plot(hist_imagenet.history['val_acc'], label='imagenet')\n",
        "plt.plot(hist_fc.history['val_acc'], label='fc')\n",
        "plt.xlabel('Epoch')\n",
        "plt.ylabel('Val Acc')\n",
        "plt.legend()\n",
        "plt.show()\n",
        "\n"
      ],
      "execution_count": 35,
      "outputs": [
        {
          "output_type": "display_data",
          "data": {
            "image/png": "[encoded data removed]",
            "text/plain": [
              "<Figure size 1080x360 with 2 Axes>"
            ]
          },
          "metadata": {
            "tags": []
          }
        }
      ]
    },
    {
      "cell_type": "code",
      "metadata": {
        "colab_type": "code",
        "id": "_CzuEpiEYdih",
        "colab": {
          "base_uri": "https://localhost:8080/",
          "height": 34
        },
        "outputId": "3578d752-e940-4658-b0f3-b1ba7cfc8fd7"
      },
      "source": [
        "scores_fc = myModel_fc.evaluate(X_test, y_test_hot, verbose=1)"
      ],
      "execution_count": 36,
      "outputs": [
        {
          "output_type": "stream",
          "text": [
            "10000/10000 [==============================] - 3s 301us/sample - loss: 1.6288 - acc: 0.6032\n"
          ],
          "name": "stdout"
        }
      ]
    },
    {
      "cell_type": "code",
      "metadata": {
        "colab_type": "code",
        "id": "e2H3x4bmYdic",
        "colab": {
          "base_uri": "https://localhost:8080/",
          "height": 51
        },
        "outputId": "2f9a6d81-370d-4d6c-ada5-9ace973192ae"
      },
      "source": [
        "print('Test loss    :', scores_fc[0])\n",
        "print('Test accuracy: %.2f%%' % (scores_fc[1]*100))"
      ],
      "execution_count": 37,
      "outputs": [
        {
          "output_type": "stream",
          "text": [
            "Test loss    : 1.6288275241851806\n",
            "Test accuracy: 60.32%\n"
          ],
          "name": "stdout"
        }
      ]
    },
    {
      "cell_type": "markdown",
      "metadata": {
        "colab_type": "text",
        "id": "UW40UOfeYdib"
      },
      "source": [
        "# Train Selected Layers"
      ]
    },
    {
      "cell_type": "markdown",
      "metadata": {
        "colab_type": "text",
        "id": "BJWgICRHYdia"
      },
      "source": [
        "we can also choose which layer to train and which layer to freeze\n",
        "\n",
        "First let's see the layer ID and name"
      ]
    },
    {
      "cell_type": "code",
      "metadata": {
        "colab_type": "code",
        "id": "s0MURdVHYdiW",
        "colab": {}
      },
      "source": [
        "model = VGG16(weights='imagenet', include_top=False, input_shape=input_shape, pooling='avg')\n",
        "\n",
        "x = model.output\n",
        "x = Dense(1024, activation='relu')(x)\n",
        "predictions = Dense(num_class, activation='softmax')(x)\n",
        "\n",
        "myModel_selected = Model(inputs=model.input, outputs=predictions, name='VGG Selected')"
      ],
      "execution_count": 0,
      "outputs": []
    },
    {
      "cell_type": "code",
      "metadata": {
        "colab_type": "code",
        "id": "yCO2rs5qYdiR",
        "colab": {
          "base_uri": "https://localhost:8080/",
          "height": 391
        },
        "outputId": "bbc3fd50-6470-4718-a4a7-3404dfa1f720"
      },
      "source": [
        "for i, layer in enumerate(myModel_selected.layers):\n",
        "    print(i, layer.name)"
      ],
      "execution_count": 39,
      "outputs": [
        {
          "output_type": "stream",
          "text": [
            "0 input_5\n",
            "1 block1_conv1\n",
            "2 block1_conv2\n",
            "3 block1_pool\n",
            "4 block2_conv1\n",
            "5 block2_conv2\n",
            "6 block2_pool\n",
            "7 block3_conv1\n",
            "8 block3_conv2\n",
            "9 block3_conv3\n",
            "10 block3_pool\n",
            "11 block4_conv1\n",
            "12 block4_conv2\n",
            "13 block4_conv3\n",
            "14 block4_pool\n",
            "15 block5_conv1\n",
            "16 block5_conv2\n",
            "17 block5_conv3\n",
            "18 block5_pool\n",
            "19 global_average_pooling2d_4\n",
            "20 dense_8\n",
            "21 dense_9\n"
          ],
          "name": "stdout"
        }
      ]
    },
    {
      "cell_type": "markdown",
      "metadata": {
        "colab_type": "text",
        "id": "dNZ_Uv_6YdiP"
      },
      "source": [
        "Choose which to freeze"
      ]
    },
    {
      "cell_type": "code",
      "metadata": {
        "colab_type": "code",
        "id": "bY50eZwQYdiM",
        "colab": {
          "base_uri": "https://localhost:8080/",
          "height": 901
        },
        "outputId": "7f3b61fe-9ba9-44bd-8af8-748dbe2ce7e5"
      },
      "source": [
        "for layer in myModel_selected.layers[:16]:\n",
        "    layer.trainable = False\n",
        "for layer in myModel_selected.layers[16:]:\n",
        "    layer.trainable = True\n",
        "    \n",
        "myModel_selected.summary()"
      ],
      "execution_count": 40,
      "outputs": [
        {
          "output_type": "stream",
          "text": [
            "Model: \"VGG Selected\"\n",
            "_________________________________________________________________\n",
            "Layer (type)                 Output Shape              Param #   \n",
            "=================================================================\n",
            "input_5 (InputLayer)         [(None, 32, 32, 3)]       0         \n",
            "_________________________________________________________________\n",
            "block1_conv1 (Conv2D)        (None, 32, 32, 64)        1792      \n",
            "_________________________________________________________________\n",
            "block1_conv2 (Conv2D)        (None, 32, 32, 64)        36928     \n",
            "_________________________________________________________________\n",
            "block1_pool (MaxPooling2D)   (None, 16, 16, 64)        0         \n",
            "_________________________________________________________________\n",
            "block2_conv1 (Conv2D)        (None, 16, 16, 128)       73856     \n",
            "_________________________________________________________________\n",
            "block2_conv2 (Conv2D)        (None, 16, 16, 128)       147584    \n",
            "_________________________________________________________________\n",
            "block2_pool (MaxPooling2D)   (None, 8, 8, 128)         0         \n",
            "_________________________________________________________________\n",
            "block3_conv1 (Conv2D)        (None, 8, 8, 256)         295168    \n",
            "_________________________________________________________________\n",
            "block3_conv2 (Conv2D)        (None, 8, 8, 256)         590080    \n",
            "_________________________________________________________________\n",
            "block3_conv3 (Conv2D)        (None, 8, 8, 256)         590080    \n",
            "_________________________________________________________________\n",
            "block3_pool (MaxPooling2D)   (None, 4, 4, 256)         0         \n",
            "_________________________________________________________________\n",
            "block4_conv1 (Conv2D)        (None, 4, 4, 512)         1180160   \n",
            "_________________________________________________________________\n",
            "block4_conv2 (Conv2D)        (None, 4, 4, 512)         2359808   \n",
            "_________________________________________________________________\n",
            "block4_conv3 (Conv2D)        (None, 4, 4, 512)         2359808   \n",
            "_________________________________________________________________\n",
            "block4_pool (MaxPooling2D)   (None, 2, 2, 512)         0         \n",
            "_________________________________________________________________\n",
            "block5_conv1 (Conv2D)        (None, 2, 2, 512)         2359808   \n",
            "_________________________________________________________________\n",
            "block5_conv2 (Conv2D)        (None, 2, 2, 512)         2359808   \n",
            "_________________________________________________________________\n",
            "block5_conv3 (Conv2D)        (None, 2, 2, 512)         2359808   \n",
            "_________________________________________________________________\n",
            "block5_pool (MaxPooling2D)   (None, 1, 1, 512)         0         \n",
            "_________________________________________________________________\n",
            "global_average_pooling2d_4 ( (None, 512)               0         \n",
            "_________________________________________________________________\n",
            "dense_8 (Dense)              (None, 1024)              525312    \n",
            "_________________________________________________________________\n",
            "dense_9 (Dense)              (None, 10)                10250     \n",
            "=================================================================\n",
            "Total params: 15,250,250\n",
            "Trainable params: 5,255,178\n",
            "Non-trainable params: 9,995,072\n",
            "_________________________________________________________________\n"
          ],
          "name": "stdout"
        }
      ]
    },
    {
      "cell_type": "code",
      "metadata": {
        "colab_type": "code",
        "id": "aZIgDoJlYdiJ",
        "colab": {}
      },
      "source": [
        "myModel_selected.compile(loss='categorical_crossentropy',\n",
        "                        optimizer=opt, metrics=['accuracy'])\n"
      ],
      "execution_count": 0,
      "outputs": []
    },
    {
      "cell_type": "code",
      "metadata": {
        "colab_type": "code",
        "id": "XFbclrw_YdiE",
        "colab": {
          "base_uri": "https://localhost:8080/",
          "height": 374
        },
        "outputId": "9229eb3a-8dec-417e-cdac-2002872c6a4b"
      },
      "source": [
        "hist_selected = myModel_selected.fit(X_train, y_train_hot,\n",
        "                    batch_size=batch_size,\n",
        "                    epochs=epochs,\n",
        "                    validation_data=(X_val, y_val_hot),\n",
        "                    shuffle=True)"
      ],
      "execution_count": 42,
      "outputs": [
        {
          "output_type": "stream",
          "text": [
            "Train on 40000 samples, validate on 10000 samples\n",
            "Epoch 1/10\n",
            "40000/40000 [==============================] - 8s 191us/sample - loss: 1.8719 - acc: 0.4001 - val_loss: 1.3216 - val_acc: 0.5041\n",
            "Epoch 2/10\n",
            "40000/40000 [==============================] - 7s 179us/sample - loss: 1.1529 - acc: 0.5687 - val_loss: 1.1043 - val_acc: 0.5939\n",
            "Epoch 3/10\n",
            "40000/40000 [==============================] - 7s 181us/sample - loss: 0.9734 - acc: 0.6464 - val_loss: 0.9706 - val_acc: 0.6580\n",
            "Epoch 4/10\n",
            "40000/40000 [==============================] - 7s 182us/sample - loss: 0.8611 - acc: 0.6928 - val_loss: 0.8933 - val_acc: 0.6912\n",
            "Epoch 5/10\n",
            "40000/40000 [==============================] - 7s 183us/sample - loss: 0.7770 - acc: 0.7251 - val_loss: 0.9070 - val_acc: 0.6904\n",
            "Epoch 6/10\n",
            "40000/40000 [==============================] - 7s 183us/sample - loss: 0.7219 - acc: 0.7469 - val_loss: 0.9094 - val_acc: 0.6916\n",
            "Epoch 7/10\n",
            "40000/40000 [==============================] - 7s 183us/sample - loss: 0.6537 - acc: 0.7707 - val_loss: 0.8253 - val_acc: 0.7253\n",
            "Epoch 8/10\n",
            "40000/40000 [==============================] - 7s 182us/sample - loss: 0.6054 - acc: 0.7876 - val_loss: 0.8697 - val_acc: 0.7115\n",
            "Epoch 9/10\n",
            "40000/40000 [==============================] - 7s 182us/sample - loss: 0.5471 - acc: 0.8092 - val_loss: 0.8717 - val_acc: 0.7210\n",
            "Epoch 10/10\n",
            "40000/40000 [==============================] - 7s 181us/sample - loss: 0.4953 - acc: 0.8270 - val_loss: 0.8752 - val_acc: 0.7269\n"
          ],
          "name": "stdout"
        }
      ]
    },
    {
      "cell_type": "code",
      "metadata": {
        "colab_type": "code",
        "id": "bV_xQPmAYdiA",
        "colab": {
          "base_uri": "https://localhost:8080/",
          "height": 337
        },
        "outputId": "20be4e14-fd9b-4d4d-d92e-c8d62c1deea9"
      },
      "source": [
        "plt.rcParams['figure.figsize'] = [7, 5]\n",
        "\n",
        "plt.plot(hist_selected.history['acc'], label='train')\n",
        "plt.plot(hist_selected.history['val_acc'], label='val')\n",
        "plt.xlabel('Epoch')\n",
        "plt.ylabel('Accuracy')\n",
        "plt.legend()\n",
        "plt.show()\n"
      ],
      "execution_count": 43,
      "outputs": [
        {
          "output_type": "display_data",
          "data": {
            "image/png": "[encoded data removed]",
            "text/plain": [
              "<Figure size 504x360 with 1 Axes>"
            ]
          },
          "metadata": {
            "tags": []
          }
        }
      ]
    },
    {
      "cell_type": "code",
      "metadata": {
        "colab_type": "code",
        "id": "EWcwWNfnYdh8",
        "colab": {
          "base_uri": "https://localhost:8080/",
          "height": 337
        },
        "outputId": "455871db-07b5-4d18-d339-dbddff0f8e09"
      },
      "source": [
        "plt.rcParams['figure.figsize'] = [15, 5]\n",
        "\n",
        "plt.subplot(1, 2, 1)\n",
        "plt.plot(hist_scratch.history['acc'], label='scratch')\n",
        "plt.plot(hist_aug.history['acc'], label='aug')\n",
        "plt.plot(hist_imagenet.history['acc'], label='imagenet')\n",
        "plt.plot(hist_fc.history['acc'], label='fc')\n",
        "plt.plot(hist_selected.history['acc'], label='selected')\n",
        "plt.xlabel('Epoch')\n",
        "plt.ylabel('Train Acc')\n",
        "plt.legend()\n",
        "\n",
        "plt.subplot(1, 2, 2)\n",
        "plt.plot(hist_scratch.history['val_acc'], label='scratch')\n",
        "plt.plot(hist_aug.history['val_acc'], label='aug')\n",
        "plt.plot(hist_imagenet.history['val_acc'], label='imagenet')\n",
        "plt.plot(hist_fc.history['val_acc'], label='fc')\n",
        "plt.plot(hist_selected.history['val_acc'], label='selected')\n",
        "plt.xlabel('Epoch')\n",
        "plt.ylabel('Val Acc')\n",
        "plt.legend()\n",
        "plt.show()\n",
        "\n"
      ],
      "execution_count": 44,
      "outputs": [
        {
          "output_type": "display_data",
          "data": {
            "image/png": "[encoded data removed]",
            "text/plain": [
              "<Figure size 1080x360 with 2 Axes>"
            ]
          },
          "metadata": {
            "tags": []
          }
        }
      ]
    },
    {
      "cell_type": "code",
      "metadata": {
        "colab_type": "code",
        "id": "jwRKXOLTYdh4",
        "colab": {
          "base_uri": "https://localhost:8080/",
          "height": 34
        },
        "outputId": "94156b5d-f1ba-4e9d-ad02-832acee68021"
      },
      "source": [
        "scores_selected = myModel_selected.evaluate(X_test, y_test_hot, verbose=1)"
      ],
      "execution_count": 45,
      "outputs": [
        {
          "output_type": "stream",
          "text": [
            "10000/10000 [==============================] - 3s 296us/sample - loss: 0.8725 - acc: 0.7235\n"
          ],
          "name": "stdout"
        }
      ]
    },
    {
      "cell_type": "code",
      "metadata": {
        "colab_type": "code",
        "id": "VANETR3yYdh0",
        "colab": {
          "base_uri": "https://localhost:8080/",
          "height": 51
        },
        "outputId": "3600545f-0bde-48f6-f2d9-7a46da970f00"
      },
      "source": [
        "print('Test loss    :', scores_selected[0])\n",
        "print('Test accuracy: %.2f%%' % (scores_selected[1]*100))"
      ],
      "execution_count": 46,
      "outputs": [
        {
          "output_type": "stream",
          "text": [
            "Test loss    : 0.8724772253036499\n",
            "Test accuracy: 72.35%\n"
          ],
          "name": "stdout"
        }
      ]
    },
    {
      "cell_type": "markdown",
      "metadata": {
        "colab_type": "text",
        "id": "huwvhAnSYdhx"
      },
      "source": [
        "# Train Cut Model"
      ]
    },
    {
      "cell_type": "code",
      "metadata": {
        "colab_type": "code",
        "id": "LxBUbkEQYdhs",
        "colab": {
          "base_uri": "https://localhost:8080/",
          "height": 357
        },
        "outputId": "72b27f63-7df7-4fdd-ca13-b47007b78cfe"
      },
      "source": [
        "model = VGG16(weights='imagenet', include_top=False, input_shape=input_shape, pooling='avg')\n",
        "\n",
        "for i, layer in enumerate(model.layers):\n",
        "    print(i, layer.name)"
      ],
      "execution_count": 47,
      "outputs": [
        {
          "output_type": "stream",
          "text": [
            "0 input_6\n",
            "1 block1_conv1\n",
            "2 block1_conv2\n",
            "3 block1_pool\n",
            "4 block2_conv1\n",
            "5 block2_conv2\n",
            "6 block2_pool\n",
            "7 block3_conv1\n",
            "8 block3_conv2\n",
            "9 block3_conv3\n",
            "10 block3_pool\n",
            "11 block4_conv1\n",
            "12 block4_conv2\n",
            "13 block4_conv3\n",
            "14 block4_pool\n",
            "15 block5_conv1\n",
            "16 block5_conv2\n",
            "17 block5_conv3\n",
            "18 block5_pool\n",
            "19 global_average_pooling2d_5\n"
          ],
          "name": "stdout"
        }
      ]
    },
    {
      "cell_type": "code",
      "metadata": {
        "colab_type": "code",
        "id": "zWvFS-1bYdho",
        "colab": {
          "base_uri": "https://localhost:8080/",
          "height": 731
        },
        "outputId": "28ae0e07-929b-41d0-d149-1ecc5f4a1383"
      },
      "source": [
        "# Extract the last layer from third block of vgg16 model\n",
        "last = model.get_layer('block4_conv3').output\n",
        "\n",
        "# model baru\n",
        "x = GlobalAveragePooling2D()(last)\n",
        "x = Dense(1024, activation='relu')(x)\n",
        "predictions = Dense(10, activation='softmax')(x)\n",
        "\n",
        "myModel_cut = Model(inputs=model.input, outputs=predictions, name='VGG Cut')\n",
        "myModel_cut.summary()"
      ],
      "execution_count": 48,
      "outputs": [
        {
          "output_type": "stream",
          "text": [
            "Model: \"VGG Cut\"\n",
            "_________________________________________________________________\n",
            "Layer (type)                 Output Shape              Param #   \n",
            "=================================================================\n",
            "input_6 (InputLayer)         [(None, 32, 32, 3)]       0         \n",
            "_________________________________________________________________\n",
            "block1_conv1 (Conv2D)        (None, 32, 32, 64)        1792      \n",
            "_________________________________________________________________\n",
            "block1_conv2 (Conv2D)        (None, 32, 32, 64)        36928     \n",
            "_________________________________________________________________\n",
            "block1_pool (MaxPooling2D)   (None, 16, 16, 64)        0         \n",
            "_________________________________________________________________\n",
            "block2_conv1 (Conv2D)        (None, 16, 16, 128)       73856     \n",
            "_________________________________________________________________\n",
            "block2_conv2 (Conv2D)        (None, 16, 16, 128)       147584    \n",
            "_________________________________________________________________\n",
            "block2_pool (MaxPooling2D)   (None, 8, 8, 128)         0         \n",
            "_________________________________________________________________\n",
            "block3_conv1 (Conv2D)        (None, 8, 8, 256)         295168    \n",
            "_________________________________________________________________\n",
            "block3_conv2 (Conv2D)        (None, 8, 8, 256)         590080    \n",
            "_________________________________________________________________\n",
            "block3_conv3 (Conv2D)        (None, 8, 8, 256)         590080    \n",
            "_________________________________________________________________\n",
            "block3_pool (MaxPooling2D)   (None, 4, 4, 256)         0         \n",
            "_________________________________________________________________\n",
            "block4_conv1 (Conv2D)        (None, 4, 4, 512)         1180160   \n",
            "_________________________________________________________________\n",
            "block4_conv2 (Conv2D)        (None, 4, 4, 512)         2359808   \n",
            "_________________________________________________________________\n",
            "block4_conv3 (Conv2D)        (None, 4, 4, 512)         2359808   \n",
            "_________________________________________________________________\n",
            "global_average_pooling2d_6 ( (None, 512)               0         \n",
            "_________________________________________________________________\n",
            "dense_10 (Dense)             (None, 1024)              525312    \n",
            "_________________________________________________________________\n",
            "dense_11 (Dense)             (None, 10)                10250     \n",
            "=================================================================\n",
            "Total params: 8,170,826\n",
            "Trainable params: 8,170,826\n",
            "Non-trainable params: 0\n",
            "_________________________________________________________________\n"
          ],
          "name": "stdout"
        }
      ]
    },
    {
      "cell_type": "code",
      "metadata": {
        "colab_type": "code",
        "id": "BYFnVVPWYdhj",
        "colab": {}
      },
      "source": [
        "myModel_cut.compile(loss='categorical_crossentropy',\n",
        "                        optimizer=opt, metrics=['accuracy'])\n"
      ],
      "execution_count": 0,
      "outputs": []
    },
    {
      "cell_type": "code",
      "metadata": {
        "colab_type": "code",
        "id": "AUw7KS51Ydhf",
        "colab": {
          "base_uri": "https://localhost:8080/",
          "height": 374
        },
        "outputId": "1ff06e06-1789-4eaf-d0e4-18f59c0da511"
      },
      "source": [
        "hist_cut = myModel_cut.fit(X_train, y_train_hot,\n",
        "                    batch_size=batch_size,\n",
        "                    epochs=epochs,\n",
        "                    validation_data=(X_val, y_val_hot),\n",
        "                    shuffle=True)"
      ],
      "execution_count": 50,
      "outputs": [
        {
          "output_type": "stream",
          "text": [
            "Train on 40000 samples, validate on 10000 samples\n",
            "Epoch 1/10\n",
            "40000/40000 [==============================] - 13s 327us/sample - loss: 7.3826 - acc: 0.1332 - val_loss: 2.2512 - val_acc: 0.1449\n",
            "Epoch 2/10\n",
            "40000/40000 [==============================] - 13s 313us/sample - loss: 1.9137 - acc: 0.2731 - val_loss: 1.8255 - val_acc: 0.3077\n",
            "Epoch 3/10\n",
            "40000/40000 [==============================] - 13s 316us/sample - loss: 1.6315 - acc: 0.3907 - val_loss: 1.5353 - val_acc: 0.4310\n",
            "Epoch 4/10\n",
            "40000/40000 [==============================] - 13s 314us/sample - loss: 1.4594 - acc: 0.4570 - val_loss: 1.5322 - val_acc: 0.4366\n",
            "Epoch 5/10\n",
            "40000/40000 [==============================] - 13s 315us/sample - loss: 1.3332 - acc: 0.5095 - val_loss: 1.3179 - val_acc: 0.5315\n",
            "Epoch 6/10\n",
            "40000/40000 [==============================] - 13s 314us/sample - loss: 1.2160 - acc: 0.5592 - val_loss: 1.1889 - val_acc: 0.5745\n",
            "Epoch 7/10\n",
            "40000/40000 [==============================] - 12s 311us/sample - loss: 1.1435 - acc: 0.5908 - val_loss: 1.1333 - val_acc: 0.6044\n",
            "Epoch 8/10\n",
            "40000/40000 [==============================] - 12s 311us/sample - loss: 1.0722 - acc: 0.6210 - val_loss: 1.0896 - val_acc: 0.6248\n",
            "Epoch 9/10\n",
            "40000/40000 [==============================] - 12s 312us/sample - loss: 1.0173 - acc: 0.6434 - val_loss: 1.0503 - val_acc: 0.6342\n",
            "Epoch 10/10\n",
            "40000/40000 [==============================] - 13s 313us/sample - loss: 0.9687 - acc: 0.6576 - val_loss: 1.0453 - val_acc: 0.6284\n"
          ],
          "name": "stdout"
        }
      ]
    },
    {
      "cell_type": "code",
      "metadata": {
        "colab_type": "code",
        "id": "mhm_rlkCYdhZ",
        "colab": {}
      },
      "source": [
        "plt.rcParams['figure.figsize'] = [7, 5]\n",
        "\n",
        "plt.plot(hist_cut.history['acc'], label='train')\n",
        "plt.plot(hist_cut.history['val_acc'], label='val')\n",
        "plt.xlabel('Epoch')\n",
        "plt.ylabel('Accuracy')\n",
        "plt.legend()\n",
        "plt.show()\n"
      ],
      "execution_count": 0,
      "outputs": []
    },
    {
      "cell_type": "code",
      "metadata": {
        "colab_type": "code",
        "id": "fZ2AclW_YdhV",
        "colab": {}
      },
      "source": [
        "plt.rcParams['figure.figsize'] = [15, 5]\n",
        "\n",
        "plt.subplot(1, 2, 1)\n",
        "plt.plot(hist_scratch.history['acc'], label='scratch')\n",
        "plt.plot(hist_aug.history['acc'], label='aug')\n",
        "plt.plot(hist_imagenet.history['acc'], label='imagenet')\n",
        "plt.plot(hist_fc.history['acc'], label='fc')\n",
        "plt.plot(hist_selected.history['acc'], label='selected')\n",
        "plt.plot(hist_cut.history['acc'], label='cut')\n",
        "plt.xlabel('Epoch')\n",
        "plt.ylabel('Train Acc')\n",
        "plt.legend()\n",
        "\n",
        "plt.subplot(1, 2, 2)\n",
        "plt.plot(hist_scratch.history['val_acc'], label='scratch')\n",
        "plt.plot(hist_aug.history['val_acc'], label='aug')\n",
        "plt.plot(hist_imagenet.history['val_acc'], label='imagenet')\n",
        "plt.plot(hist_fc.history['val_acc'], label='fc')\n",
        "plt.plot(hist_selected.history['val_acc'], label='selected')\n",
        "plt.plot(hist_cut.history['val_acc'], label='cut')\n",
        "plt.xlabel('Epoch')\n",
        "plt.ylabel('Val Acc')\n",
        "plt.legend()\n",
        "plt.show()\n",
        "\n"
      ],
      "execution_count": 0,
      "outputs": []
    },
    {
      "cell_type": "code",
      "metadata": {
        "colab_type": "code",
        "id": "I7CxuXXdYdhO",
        "colab": {}
      },
      "source": [
        "scores_cut = myModel_cut.evaluate(X_test, y_test_hot, verbose=1)"
      ],
      "execution_count": 0,
      "outputs": []
    },
    {
      "cell_type": "code",
      "metadata": {
        "colab_type": "code",
        "id": "A5NS0iV2YdhI",
        "colab": {}
      },
      "source": [
        "print('Test loss    :', scores_cut[0])\n",
        "print('Test accuracy: %.2f%%' % (scores_cut[1]*100))"
      ],
      "execution_count": 0,
      "outputs": []
    },
    {
      "cell_type": "markdown",
      "metadata": {
        "colab_type": "text",
        "id": "ly4LCUQTYdhE"
      },
      "source": [
        "# Overall Scores"
      ]
    },
    {
      "cell_type": "code",
      "metadata": {
        "colab_type": "code",
        "id": "4XLOw7yJYdgw",
        "colab": {}
      },
      "source": [
        "labels = ['scratch', 'augmented', 'imagenet','fc layer','selected','cut']\n",
        "y_pos = np.arange(len(labels))\n",
        "test_scores = [scores_scratch[1],scores_aug[1],scores_imagenet[1],scores_fc[1],scores_selected[1],scores_cut[1]]\n",
        "val_scores = [hist_scratch.history['val_acc'][-1],hist_aug.history['val_acc'][-1],\n",
        "              hist_imagenet.history['val_acc'][-1],hist_fc.history['val_acc'][-1],\n",
        "              hist_selected.history['val_acc'][-1],hist_cut.history['val_acc'][-1]]\n",
        "\n",
        "plt.bar(y_pos, val_scores, .4, color='g',alpha=0.5, label='val acc')\n",
        "plt.bar(y_pos+.41, test_scores, .4, color='b',alpha=0.5, label='test acc')\n",
        "plt.xticks(y_pos+.2, labels)\n",
        "plt.ylabel('Accuracy')\n",
        "plt.title('Overall Scores')\n",
        "plt.ylim((.5,.8))\n",
        "plt.legend()\n",
        "\n",
        "plt.show()"
      ],
      "execution_count": 0,
      "outputs": []
    },
    {
      "cell_type": "markdown",
      "metadata": {
        "id": "uB_ojCQ6zmKS",
        "colab_type": "text"
      },
      "source": [
        "<p>Copyright &copy; 2019 <a href=https://www.linkedin.com/in/andityaarifianto/>ADF</a> </p>"
      ]
    }
  ]
}