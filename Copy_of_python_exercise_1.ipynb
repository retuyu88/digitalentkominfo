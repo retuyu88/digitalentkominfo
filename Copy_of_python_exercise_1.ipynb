{
  "nbformat": 4,
  "nbformat_minor": 0,
  "metadata": {
    "colab": {
      "name": "Copy of python_exercise_1.ipynb",
      "version": "0.3.2",
      "provenance": [],
      "include_colab_link": true
    },
    "language_info": {
      "codemirror_mode": {
        "name": "ipython",
        "version": 3
      },
      "file_extension": ".py",
      "mimetype": "text/x-python",
      "name": "python",
      "nbconvert_exporter": "python",
      "pygments_lexer": "ipython3",
      "version": "3.6.8"
    },
    "kernelspec": {
      "display_name": "Python 3",
      "language": "python",
      "name": "python3"
    }
  },
  "cells": [
    {
      "cell_type": "markdown",
      "metadata": {
        "id": "view-in-github",
        "colab_type": "text"
      },
      "source": [
        "<a href=\"https://colab.research.google.com/github/retuyu88/digitalentkominfo/blob/master/Copy_of_python_exercise_1.ipynb\" target=\"_parent\"><img src=\"https://colab.research.google.com/assets/colab-badge.svg\" alt=\"Open In Colab\"/></a>"
      ]
    },
    {
      "cell_type": "markdown",
      "metadata": {
        "id": "wKo0cgQ088Fx",
        "colab_type": "text"
      },
      "source": [
        "1. Take a list, say for example this one:<br>\n",
        " a = [1, 1, 2, 3, 5, 8, 13, 21, 34, 55, 89]<br>\n",
        " write a program that prints out all the elements of the list that are less than 5"
      ]
    },
    {
      "cell_type": "code",
      "metadata": {
        "id": "YeklE-UO88Fy",
        "colab_type": "code",
        "colab": {
          "base_uri": "https://localhost:8080/",
          "height": 85
        },
        "outputId": "30517280-94cd-4b1c-efa3-5cb83320e4fe"
      },
      "source": [
        "a = [1, 1, 2, 3, 5, 8, 13, 21, 34, 55, 89]\n",
        "for i in a:\n",
        "  if i < 5:\n",
        "    print(i)"
      ],
      "execution_count": 9,
      "outputs": [
        {
          "output_type": "stream",
          "text": [
            "1\n",
            "1\n",
            "2\n",
            "3\n"
          ],
          "name": "stdout"
        }
      ]
    },
    {
      "cell_type": "markdown",
      "metadata": {
        "id": "oTPlWFuy88F0",
        "colab_type": "text"
      },
      "source": [
        "2. Print the following pattern<br>\n",
        "1 <br>\n",
        "2 2 <br>\n",
        "3 3 3 <br>\n",
        "4 4 4 4 <br>\n",
        "5 5 5 5 5<br>"
      ]
    },
    {
      "cell_type": "code",
      "metadata": {
        "id": "hDzQtrXm88F1",
        "colab_type": "code",
        "colab": {
          "base_uri": "https://localhost:8080/",
          "height": 119
        },
        "outputId": "5ba2b41f-349a-4dc3-b0f2-a502d917660d"
      },
      "source": [
        "j = 6\n",
        "for i in range(j):\n",
        "  for k in range(i):\n",
        "    print(i , end= \" \") \n",
        "  print(\"\") \n",
        " "
      ],
      "execution_count": 43,
      "outputs": [
        {
          "output_type": "stream",
          "text": [
            "\n",
            "1 \n",
            "2 2 \n",
            "3 3 3 \n",
            "4 4 4 4 \n",
            "5 5 5 5 5 \n"
          ],
          "name": "stdout"
        }
      ]
    },
    {
      "cell_type": "markdown",
      "metadata": {
        "id": "t8-oZ0mF88F3",
        "colab_type": "text"
      },
      "source": [
        "3. Write a Python program to display the first and last colors from the following list.<br>\n",
        "color_list = [\"Red\",\"Green\",\"White\" ,\"Black\"]"
      ]
    },
    {
      "cell_type": "code",
      "metadata": {
        "id": "_i8K-Bnt88F3",
        "colab_type": "code",
        "colab": {
          "base_uri": "https://localhost:8080/",
          "height": 34
        },
        "outputId": "8dbc178d-3379-4b08-df7f-5d3891e7d565"
      },
      "source": [
        "color_list = [\"Red\",\"Green\",\"White\" ,\"Black\"]\n",
        "print(color_list[0], color_list[3])"
      ],
      "execution_count": 11,
      "outputs": [
        {
          "output_type": "stream",
          "text": [
            "Red Black\n"
          ],
          "name": "stdout"
        }
      ]
    },
    {
      "cell_type": "markdown",
      "metadata": {
        "id": "lHnkyWG588F5",
        "colab_type": "text"
      },
      "source": [
        "4.  Write a Python program to calculate number of days between two dates.<br>\n",
        "Sample dates : (2014, 7, 2), (2014, 7, 11)"
      ]
    },
    {
      "cell_type": "code",
      "metadata": {
        "id": "MWWw8dDI88F5",
        "colab_type": "code",
        "colab": {
          "base_uri": "https://localhost:8080/",
          "height": 34
        },
        "outputId": "11d61dfa-95e0-4302-d36a-f90648ab54f6"
      },
      "source": [
        "def days(years,month,day):\n",
        "  total = years*365 + month*30 + day\n",
        "  return total\n",
        "\n",
        "diff_day = days(2014,7,11) - days(2014,7,2)\n",
        "diff_day"
      ],
      "execution_count": 12,
      "outputs": [
        {
          "output_type": "execute_result",
          "data": {
            "text/plain": [
              "9"
            ]
          },
          "metadata": {
            "tags": []
          },
          "execution_count": 12
        }
      ]
    },
    {
      "cell_type": "markdown",
      "metadata": {
        "id": "341vHhXL88F7",
        "colab_type": "text"
      },
      "source": [
        "5. Write a Python program to check whether a specified value is contained in a list [1, 5, 8, 3]"
      ]
    },
    {
      "cell_type": "code",
      "metadata": {
        "id": "1SKlv6Uz88F8",
        "colab_type": "code",
        "colab": {
          "base_uri": "https://localhost:8080/",
          "height": 34
        },
        "outputId": "2627e84f-4f13-43ff-876f-abcb50caa046"
      },
      "source": [
        "def if_con(list,value):\n",
        "  for i in list:\n",
        "    if (value == list[i]):\n",
        "      return 'EXIST'\n",
        "    else:\n",
        "      return 'not exist'\n",
        "\n",
        "list = [1,5,8,3]\n",
        "value = 214\n",
        "if_con(list,value)\n"
      ],
      "execution_count": 46,
      "outputs": [
        {
          "output_type": "execute_result",
          "data": {
            "text/plain": [
              "'not exist'"
            ]
          },
          "metadata": {
            "tags": []
          },
          "execution_count": 46
        }
      ]
    },
    {
      "cell_type": "markdown",
      "metadata": {
        "id": "0EQdFpZT88F-",
        "colab_type": "text"
      },
      "source": [
        "6. Write a Python program to solve (x + y) * (x + y). Go to the editor <br>\n",
        "Test Data : x = 4, y = 3 <br>\n",
        "Expected Output : (4 + 3) ^ 2) = 49"
      ]
    },
    {
      "cell_type": "code",
      "metadata": {
        "id": "--OakUx388F_",
        "colab_type": "code",
        "colab": {
          "base_uri": "https://localhost:8080/",
          "height": 34
        },
        "outputId": "6513c04a-9f19-4eea-8551-531e9b35994f"
      },
      "source": [
        "def pangkat(x,y):\n",
        "  pangkat = (x+y)**2\n",
        "  return pangkat\n",
        "\n",
        "x = 4\n",
        "y = 3\n",
        "pangkat(x,y)"
      ],
      "execution_count": 18,
      "outputs": [
        {
          "output_type": "execute_result",
          "data": {
            "text/plain": [
              "49"
            ]
          },
          "metadata": {
            "tags": []
          },
          "execution_count": 18
        }
      ]
    },
    {
      "cell_type": "markdown",
      "metadata": {
        "id": "aXfnH_fy88GA",
        "colab_type": "text"
      },
      "source": [
        "7. Write a Python program to compute the distance between the points (5,8) and (1,2)"
      ]
    },
    {
      "cell_type": "code",
      "metadata": {
        "id": "XZO9Dabe88GB",
        "colab_type": "code",
        "colab": {
          "base_uri": "https://localhost:8080/",
          "height": 34
        },
        "outputId": "3db6e932-dff2-46ec-eddd-dbe274e9861c"
      },
      "source": [
        "import math\n",
        "x1 = 5\n",
        "y1 = 8\n",
        "x2 = 1\n",
        "y2 = 2\n",
        "#phytagoras\n",
        "#panjang \n",
        "def jarak(x1,y1,x2,y2):\n",
        "  panjang = x1 - x2\n",
        "  tinggi = y1- y2\n",
        "  miring = math.sqrt((panjang**2) + (tinggi**2))\n",
        "  return miring\n",
        "\n",
        "jarak(x1,y1,x2,y2)"
      ],
      "execution_count": 47,
      "outputs": [
        {
          "output_type": "execute_result",
          "data": {
            "text/plain": [
              "7.211102550927978"
            ]
          },
          "metadata": {
            "tags": []
          },
          "execution_count": 47
        }
      ]
    }
  ]
}