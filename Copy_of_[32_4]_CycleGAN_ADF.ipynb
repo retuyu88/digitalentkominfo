{
  "nbformat": 4,
  "nbformat_minor": 0,
  "metadata": {
    "colab": {
      "name": "Copy of [32 4] CycleGAN - ADF",
      "version": "0.3.2",
      "provenance": [],
      "collapsed_sections": [],
      "toc_visible": true,
      "include_colab_link": true
    },
    "kernelspec": {
      "name": "python3",
      "display_name": "Python 3"
    },
    "accelerator": "GPU"
  },
  "cells": [
    {
      "cell_type": "markdown",
      "metadata": {
        "id": "view-in-github",
        "colab_type": "text"
      },
      "source": [
        "<a href=\"https://colab.research.google.com/github/retuyu88/digitalentkominfo/blob/master/Copy_of_%5B32_4%5D_CycleGAN_ADF.ipynb\" target=\"_parent\"><img src=\"https://colab.research.google.com/assets/colab-badge.svg\" alt=\"Open In Colab\"/></a>"
      ]
    },
    {
      "cell_type": "markdown",
      "metadata": {
        "id": "EfwbLGN0zdro",
        "colab_type": "text"
      },
      "source": [
        "<img src = \"https://i.imgur.com/UjutVJd.jpg\" align = \"center\">"
      ]
    },
    {
      "cell_type": "markdown",
      "metadata": {
        "id": "VYN5ArQBzvKJ",
        "colab_type": "text"
      },
      "source": [
        "# CycleGAN Models \n",
        "\n",
        "This notebook demonstrates unpaired image to image translation using conditional GAN's, as described in [Unpaired Image-to-Image Translation using Cycle-Consistent Adversarial Networks](https://arxiv.org/abs/1703.10593), also known as CycleGAN. The paper proposes a method that can capture the characteristics of one image domain and figure out how these characteristics could be translated into another image domain, all in the absence of any paired training examples. \n",
        "\n",
        "This notebook assumes you are familiar with Pix2Pix, which you can learn about in the [Pix2Pix tutorial](https://www.tensorflow.org/beta/tutorials/generative/pix2pix). The code for CycleGAN is similar, the main difference is an additional loss function, and the use of unpaired training data.\n",
        "\n",
        "CycleGAN uses a cycle consistency loss to enable training without the need for paired data. In other words, it can translate from one domain to another without a one-to-one mapping between the source and target domain. \n",
        "\n",
        "This opens up the possibility to do a lot of interesting tasks like photo-enhancement, image colorization, style transfer, etc. All you need is the source and the target dataset (which is simply a directory of images).\n",
        "\n",
        "![Output Image 1](https://www.tensorflow.org/beta/tutorials/generative/images/horse2zebra_1.png)\n",
        "![Output Image 2](https://www.tensorflow.org/beta/tutorials/generative/images/horse2zebra_2.png)"
      ]
    },
    {
      "cell_type": "markdown",
      "metadata": {
        "id": "KVpU8mlvOFt1",
        "colab_type": "text"
      },
      "source": [
        "## Import Module"
      ]
    },
    {
      "cell_type": "code",
      "metadata": {
        "id": "0ewSjtXhzwe9",
        "colab_type": "code",
        "colab": {}
      },
      "source": [
        "\n",
        "from tensorflow.keras.layers import Input, Dense, Reshape, Flatten, Dropout, Concatenate\n",
        "from tensorflow.keras.layers import BatchNormalization, Activation, ZeroPadding2D\n",
        "from tensorflow.keras.layers import LeakyReLU\n",
        "from tensorflow.keras.layers import UpSampling2D, Conv2D\n",
        "from tensorflow.keras.models import Sequential, Model\n",
        "from tensorflow.keras.optimizers import Adam\n",
        "from PIL import Image\n",
        "\n",
        "import datetime\n",
        "import matplotlib.pyplot as plt\n",
        "import sys\n",
        "import numpy as np\n",
        "import os"
      ],
      "execution_count": 0,
      "outputs": []
    },
    {
      "cell_type": "markdown",
      "metadata": {
        "id": "cHzRaQGbOOLp",
        "colab_type": "text"
      },
      "source": [
        "### Load Data Loader Helper Functions"
      ]
    },
    {
      "cell_type": "code",
      "metadata": {
        "id": "l9bzrC4D1b6S",
        "colab_type": "code",
        "colab": {}
      },
      "source": [
        "!wget 'https://raw.githubusercontent.com/adf-telkomuniv/FG_AI_Public/master/others/cyclegan_data_loader.py'\n",
        "\n",
        "from cyclegan_data_loader import DataLoader\n"
      ],
      "execution_count": 0,
      "outputs": []
    },
    {
      "cell_type": "code",
      "metadata": {
        "id": "-kNhMfUeWFK7",
        "colab_type": "code",
        "colab": {}
      },
      "source": [
        "from glob import glob\n",
        "import numpy as np\n",
        "import matplotlib.pyplot as plt\n",
        "import imageio\n",
        "from PIL import Image\n",
        "import cv2 as cv\n",
        "\n",
        "\n",
        "class DataLoader():\n",
        "  def __init__(self, dataset_name, img_res=(128, 128)):\n",
        "    self.dataset_name = dataset_name\n",
        "    self.img_res = img_res\n",
        "    \n",
        "    \n",
        "  def load_data(self, domain, batch_size=1, is_testing=False):\n",
        "    data_type = \"train%s\" % domain if not is_testing else \"test%s\" % domain\n",
        "    path = glob('./datasets/%s/%s/*' % (self.dataset_name, data_type))\n",
        "    \n",
        "    batch_images = np.random.choice(path, size=batch_size)\n",
        "    \n",
        "    imgs = []\n",
        "    for img_path in batch_images:\n",
        "        img = self.imread(img_path)\n",
        "        if not is_testing:\n",
        "          img = cv.resize(img, self.img_res, interpolation=cv.INTER_AREA)\n",
        "\n",
        "          if np.random.random() > 0.5:\n",
        "            img = np.fliplr(img)\n",
        "        else:\n",
        "          img = cv.resize(img, self.img_res, interpolation=cv.INTER_AREA)\n",
        "        imgs.append(img)\n",
        "\n",
        "    imgs = np.array(imgs)/127.5 - 1.\n",
        "\n",
        "    return imgs\n",
        "\n",
        "  def load_batch(self, batch_size=1, is_testing=False):\n",
        "      data_type = \"train\" if not is_testing else \"val\"\n",
        "      path_A = glob('./datasets/%s/%sA/*' % (self.dataset_name, data_type))\n",
        "      path_B = glob('./datasets/%s/%sB/*' % (self.dataset_name, data_type))\n",
        "\n",
        "      self.n_batches = int(min(len(path_A), len(path_B)) / batch_size)\n",
        "      total_samples = self.n_batches * batch_size\n",
        "\n",
        "      # Sample n_batches * batch_size from each path list so that model sees all\n",
        "      # samples from both domains\n",
        "      path_A = np.random.choice(path_A, total_samples, replace=False)\n",
        "      path_B = np.random.choice(path_B, total_samples, replace=False)\n",
        "\n",
        "      for i in range(self.n_batches-1):\n",
        "          batch_A = path_A[i*batch_size:(i+1)*batch_size]\n",
        "          batch_B = path_B[i*batch_size:(i+1)*batch_size]\n",
        "          imgs_A, imgs_B = [], []\n",
        "          for img_A, img_B in zip(batch_A, batch_B):\n",
        "              img_A = self.imread(img_A)\n",
        "              img_B = self.imread(img_B)\n",
        "\n",
        "              img_A = cv.resize(img_A, self.img_res, interpolation=cv.INTER_AREA)\n",
        "              img_B = cv.resize(img_B, self.img_res, interpolation=cv.INTER_AREA)\n",
        "\n",
        "              if not is_testing and np.random.random() > 0.5:\n",
        "                img_A = np.fliplr(img_A)\n",
        "                img_B = np.fliplr(img_B)\n",
        "\n",
        "              imgs_A.append(img_A)\n",
        "              imgs_B.append(img_B)\n",
        "\n",
        "          imgs_A = np.array(imgs_A)/127.5 - 1.\n",
        "          imgs_B = np.array(imgs_B)/127.5 - 1.\n",
        "\n",
        "          yield imgs_A, imgs_B\n",
        "\n",
        "  def load_img(self, path):\n",
        "      img = self.imread(path)\n",
        "      img = cv.resize(img, self.img_res, interpolation=cv.INTER_AREA)\n",
        "      img = img/127.5 - 1.\n",
        "      return img[np.newaxis, :, :, :]\n",
        "\n",
        "  def imread(self, path):\n",
        "    return imageio.imread(path).astype(np.float)"
      ],
      "execution_count": 0,
      "outputs": []
    },
    {
      "cell_type": "markdown",
      "metadata": {
        "id": "dwWSDOWqOpmM",
        "colab_type": "text"
      },
      "source": [
        "---\n",
        "## Load Dataset\n",
        "\n",
        "Choose one dataset"
      ]
    },
    {
      "cell_type": "markdown",
      "metadata": {
        "id": "bbwxh38rW9bH",
        "colab_type": "text"
      },
      "source": [
        "### (A) Apple-to-Orange Dataset"
      ]
    },
    {
      "cell_type": "code",
      "metadata": {
        "id": "c7CBLRCgW7Ua",
        "colab_type": "code",
        "colab": {}
      },
      "source": [
        "!mkdir datasets\n",
        "\n",
        "!wget -N 'https://people.eecs.berkeley.edu/~taesung_park/CycleGAN/datasets/apple2orange.zip' -O './datasets/apple2orange.zip'\n",
        "!mkdir './datasets/apple2orange/'\n",
        "!unzip -q './datasets/apple2orange.zip' -d ./datasets/\n",
        "!rm './datasets/apple2orange.zip'\n",
        "dataset_name = 'apple2orange'"
      ],
      "execution_count": 0,
      "outputs": []
    },
    {
      "cell_type": "markdown",
      "metadata": {
        "id": "2Ih9wxFcXCG5",
        "colab_type": "text"
      },
      "source": [
        "### (B) Horse-to-Zebra Dataset"
      ]
    },
    {
      "cell_type": "code",
      "metadata": {
        "id": "YuDujYUVOpAU",
        "colab_type": "code",
        "colab": {}
      },
      "source": [
        "# !mkdir datasets\n",
        "\n",
        "# !wget -N 'https://people.eecs.berkeley.edu/~taesung_park/CycleGAN/datasets/horse2zebra.zip' -O './datasets/horse2zebra.zip'\n",
        "# !mkdir './datasets/horse2zebra/'\n",
        "# !unzip -q './datasets/horse2zebra.zip' -d ./datasets/\n",
        "# !rm './datasets/horse2zebra.zip'\n",
        "# dataset_name = 'horse2zebra'"
      ],
      "execution_count": 0,
      "outputs": []
    },
    {
      "cell_type": "markdown",
      "metadata": {
        "id": "y45ffpEIOzcW",
        "colab_type": "text"
      },
      "source": [
        "### Show Example"
      ]
    },
    {
      "cell_type": "code",
      "metadata": {
        "colab_type": "code",
        "id": "4OLHMpsQ5aOv",
        "colab": {}
      },
      "source": [
        "inp = Image.open('./datasets/apple2orange/trainA/n07740461_10012.jpg')\n",
        "inp = np.array(inp).astype('float')\n",
        "re = Image.open('./datasets/apple2orange/trainB/n07749192_1008.jpg')\n",
        "re = np.array(re).astype('float')\n",
        "# casting to int for matplotlib to show the image\n",
        "\n",
        "plt.figure()\n",
        "plt.imshow(inp/255.0)\n",
        "plt.axis('off')\n",
        "plt.figure()\n",
        "plt.imshow(re/255.0)\n",
        "plt.axis('off')"
      ],
      "execution_count": 0,
      "outputs": []
    },
    {
      "cell_type": "markdown",
      "metadata": {
        "id": "y4YW7KvfPKun",
        "colab_type": "text"
      },
      "source": [
        "---\n",
        "## Build CycleGAN Model"
      ]
    },
    {
      "cell_type": "code",
      "metadata": {
        "id": "S_vtsl9u2S5V",
        "colab_type": "code",
        "colab": {}
      },
      "source": [
        "img_shape = (128, 128, 3)\n",
        "data_loader = DataLoader(dataset_name=dataset_name,\n",
        "                         img_res=(img_shape[0], img_shape[1]))\n",
        "\n",
        "# Calculate output shape of D (PatchGAN)\n",
        "patch = int(img_shape[0] / 2**4)\n",
        "disc_patch = (patch, patch, 1)\n",
        "\n",
        "# Number of filters in the first layer of G and D\n",
        "gf = 32\n",
        "df = 64\n",
        "\n",
        "# Loss weights\n",
        "lambda_cycle = 10.0                    # Cycle-consistency loss\n",
        "lambda_id = 0.1 * lambda_cycle    # Identity loss\n",
        "\n",
        "optimizer = Adam(0.0002, 0.5)"
      ],
      "execution_count": 0,
      "outputs": []
    },
    {
      "cell_type": "markdown",
      "metadata": {
        "id": "_BTn6qqOPPV4",
        "colab_type": "text"
      },
      "source": [
        "### Discriminator Model\n"
      ]
    },
    {
      "cell_type": "code",
      "metadata": {
        "id": "drV9J3Km3uwb",
        "colab_type": "code",
        "colab": {}
      },
      "source": [
        "\n",
        "def build_discriminator():\n",
        "\n",
        "    def d_layer(layer_input, filters, f_size=4, normalization=True):\n",
        "        \"\"\"Discriminator layer\"\"\"\n",
        "        d = Conv2D(filters, kernel_size=f_size, strides=2, padding='same')(layer_input)\n",
        "        d = LeakyReLU(alpha=0.2)(d)\n",
        "        if normalization:\n",
        "            d = BatchNormalization(renorm=True)(d)\n",
        "        return d\n",
        "\n",
        "    img = Input(shape=img_shape)\n",
        "\n",
        "    d1 = d_layer(img, df, normalization=False)\n",
        "    d2 = d_layer(d1, df*2)\n",
        "    d3 = d_layer(d2, df*4)\n",
        "    d4 = d_layer(d3, df*8)\n",
        "\n",
        "    validity = Conv2D(1, kernel_size=4, strides=1, padding='same')(d4)\n",
        "\n",
        "    return Model(img, validity)\n"
      ],
      "execution_count": 0,
      "outputs": []
    },
    {
      "cell_type": "code",
      "metadata": {
        "id": "D7EkI92O3uto",
        "colab_type": "code",
        "colab": {}
      },
      "source": [
        "# Build and compile the discriminators\n",
        "d_A = build_discriminator()\n",
        "d_B = build_discriminator()\n",
        "\n",
        "d_A.compile(loss='mse', optimizer=optimizer, metrics=['accuracy'])\n",
        "d_B.compile(loss='mse', optimizer=optimizer, metrics=['accuracy'])"
      ],
      "execution_count": 0,
      "outputs": []
    },
    {
      "cell_type": "markdown",
      "metadata": {
        "id": "9UCVKwMjPXKH",
        "colab_type": "text"
      },
      "source": [
        "### Generator Model\n"
      ]
    },
    {
      "cell_type": "code",
      "metadata": {
        "id": "dumaBQhmzwcK",
        "colab_type": "code",
        "colab": {}
      },
      "source": [
        "\n",
        "def build_generator():\n",
        "    \"\"\"U-Net Generator\"\"\"\n",
        "\n",
        "    def conv2d(layer_input, filters, f_size=4):\n",
        "        \"\"\"Layers used during downsampling\"\"\"\n",
        "        d = Conv2D(filters, kernel_size=f_size, strides=2, padding='same')(layer_input)\n",
        "        d = LeakyReLU(alpha=0.2)(d)\n",
        "        d = BatchNormalization(renorm=True)(d)\n",
        "        return d\n",
        "\n",
        "    def deconv2d(layer_input, skip_input, filters, f_size=4, dropout_rate=0):\n",
        "        \"\"\"Layers used during upsampling\"\"\"\n",
        "        u = UpSampling2D(size=2)(layer_input)\n",
        "        u = Conv2D(filters, kernel_size=f_size, strides=1, padding='same', activation='relu')(u)\n",
        "        if dropout_rate:\n",
        "            u = Dropout(dropout_rate)(u)\n",
        "        u = BatchNormalization(renorm=True)(u)\n",
        "        u = Concatenate()([u, skip_input])\n",
        "        return u\n",
        "\n",
        "    # Image input\n",
        "    d0 = Input(shape=img_shape)\n",
        "\n",
        "    # Downsampling\n",
        "    d1 = conv2d(d0, gf)\n",
        "    d2 = conv2d(d1, gf*2)\n",
        "    d3 = conv2d(d2, gf*4)\n",
        "    d4 = conv2d(d3, gf*8)\n",
        "\n",
        "    # Upsampling\n",
        "    u1 = deconv2d(d4, d3, gf*4)\n",
        "    u2 = deconv2d(u1, d2, gf*2)\n",
        "    u3 = deconv2d(u2, d1, gf)\n",
        "\n",
        "    u4 = UpSampling2D(size=2)(u3)\n",
        "    output_img = Conv2D(3, kernel_size=4, strides=1, padding='same', activation='tanh')(u4)\n",
        "\n",
        "    return Model(d0, output_img)"
      ],
      "execution_count": 0,
      "outputs": []
    },
    {
      "cell_type": "code",
      "metadata": {
        "id": "9OpPKJ_pzwXq",
        "colab_type": "code",
        "colab": {}
      },
      "source": [
        "# Build the generators\n",
        "g_AB = build_generator()\n",
        "g_BA = build_generator()"
      ],
      "execution_count": 0,
      "outputs": []
    },
    {
      "cell_type": "markdown",
      "metadata": {
        "id": "qdMX_HsZPuxL",
        "colab_type": "text"
      },
      "source": [
        "### Combine Models"
      ]
    },
    {
      "cell_type": "code",
      "metadata": {
        "id": "twOn-Fyubhzg",
        "colab_type": "code",
        "colab": {}
      },
      "source": [
        "# Input images from both domains\n",
        "img_A = Input(shape=img_shape)\n",
        "img_B = Input(shape=img_shape)\n",
        "\n",
        "# Translate images to the other domain\n",
        "fake_B = g_AB(img_A)\n",
        "fake_A = g_BA(img_B)\n",
        "# Translate images back to original domain\n",
        "reconstr_A = g_BA(fake_B)\n",
        "reconstr_B = g_AB(fake_A)\n",
        "# Identity mapping of images\n",
        "img_A_id = g_BA(img_A)\n",
        "img_B_id = g_AB(img_B)\n",
        "\n",
        "# For the combined model we will only train the generators\n",
        "d_A.trainable = False\n",
        "d_B.trainable = False\n",
        "\n",
        "# Discriminators determines validity of translated images\n",
        "valid_A = d_A(fake_A)\n",
        "valid_B = d_B(fake_B)"
      ],
      "execution_count": 0,
      "outputs": []
    },
    {
      "cell_type": "code",
      "metadata": {
        "id": "_mLKt-PZ4G1Y",
        "colab_type": "code",
        "colab": {}
      },
      "source": [
        "# Combined model trains generators to fool discriminators\n",
        "combined = Model(inputs=[img_A, img_B],\n",
        "                      outputs=[ valid_A, valid_B,\n",
        "                                reconstr_A, reconstr_B,\n",
        "                                img_A_id, img_B_id ])\n",
        "combined.compile(loss=['mse', 'mse',\n",
        "                            'mae', 'mae',\n",
        "                            'mae', 'mae'],\n",
        "                    loss_weights=[  1, 1,\n",
        "                                    lambda_cycle, lambda_cycle,\n",
        "                                    lambda_id, lambda_id ],\n",
        "                    optimizer=optimizer)"
      ],
      "execution_count": 0,
      "outputs": []
    },
    {
      "cell_type": "markdown",
      "metadata": {
        "id": "VKMl8zQyP6pB",
        "colab_type": "text"
      },
      "source": [
        "---\n",
        "## Training Model"
      ]
    },
    {
      "cell_type": "markdown",
      "metadata": {
        "id": "Tx5aOkGaP9L0",
        "colab_type": "text"
      },
      "source": [
        "### Sampling Helper Function"
      ]
    },
    {
      "cell_type": "code",
      "metadata": {
        "id": "1LrvgspDcjdl",
        "colab_type": "code",
        "colab": {}
      },
      "source": [
        "def sample_images(epoch, batch_i):\n",
        "    os.makedirs('images/%s' % dataset_name, exist_ok=True)\n",
        "    r, c = 2, 3\n",
        "\n",
        "    imgs_A = data_loader.load_data(domain=\"A\", batch_size=1, is_testing=True)\n",
        "    imgs_B = data_loader.load_data(domain=\"B\", batch_size=1, is_testing=True)\n",
        "\n",
        "    # Demo (for GIF)\n",
        "    #imgs_A = self.data_loader.load_img('datasets/apple2orange/testA/n07740461_1541.jpg')\n",
        "    #imgs_B = self.data_loader.load_img('datasets/apple2orange/testB/n07749192_4241.jpg')\n",
        "\n",
        "    # Translate images to the other domain\n",
        "    fake_B = g_AB.predict(imgs_A)\n",
        "    fake_A = g_BA.predict(imgs_B)\n",
        "    \n",
        "    # Translate back to original domain\n",
        "    reconstr_A = g_BA.predict(fake_B)\n",
        "    reconstr_B = g_AB.predict(fake_A)\n",
        "\n",
        "    gen_imgs = np.concatenate([imgs_A, fake_B, reconstr_A, imgs_B, fake_A, reconstr_B])\n",
        "\n",
        "    # Rescale images 0 - 1\n",
        "    gen_imgs = 0.5 * gen_imgs + 0.5\n",
        "\n",
        "    titles = ['Original', 'Translated', 'Reconstructed']\n",
        "    fig, axs = plt.subplots(r, c, figsize=(6,6))\n",
        "    cnt = 0\n",
        "    for i in range(r):\n",
        "        for j in range(c):\n",
        "            axs[i,j].imshow(gen_imgs[cnt])\n",
        "            axs[i, j].set_title(titles[j])\n",
        "            axs[i,j].axis('off')\n",
        "            cnt += 1\n",
        "    fig.savefig(\"images/%s/%d_%d.png\" % (dataset_name, epoch, batch_i))\n",
        "    plt.show()\n",
        "    plt.close()\n"
      ],
      "execution_count": 0,
      "outputs": []
    },
    {
      "cell_type": "markdown",
      "metadata": {
        "id": "yx9enD_rQBQu",
        "colab_type": "text"
      },
      "source": [
        "### Training Function"
      ]
    },
    {
      "cell_type": "code",
      "metadata": {
        "id": "HSCd5tOQ4Q9f",
        "colab_type": "code",
        "colab": {}
      },
      "source": [
        "def train(epochs, batch_size=1, print_every=50):\n",
        "\n",
        "    start_time = datetime.datetime.now()\n",
        "\n",
        "    # Adversarial loss ground truths\n",
        "    valid = np.ones((batch_size,) + disc_patch)\n",
        "    fake = np.zeros((batch_size,) + disc_patch)\n",
        "\n",
        "    for epoch in range(epochs):\n",
        "        for batch_i, (imgs_A, imgs_B) in enumerate(data_loader.load_batch(batch_size)):\n",
        "\n",
        "            # ----------------------\n",
        "            #  Train Discriminators\n",
        "            # ----------------------\n",
        "\n",
        "            # Translate images to opposite domain\n",
        "            fake_B = g_AB.predict(imgs_A)\n",
        "            fake_A = g_BA.predict(imgs_B)\n",
        "\n",
        "            # Train the discriminators (original images = real / translated = Fake)\n",
        "            dA_loss_real = d_A.train_on_batch(imgs_A, valid)\n",
        "            dA_loss_fake = d_A.train_on_batch(fake_A, fake)\n",
        "            dA_loss = 0.5 * np.add(dA_loss_real, dA_loss_fake)\n",
        "\n",
        "            dB_loss_real = d_B.train_on_batch(imgs_B, valid)\n",
        "            dB_loss_fake = d_B.train_on_batch(fake_B, fake)\n",
        "            dB_loss = 0.5 * np.add(dB_loss_real, dB_loss_fake)\n",
        "\n",
        "            # Total disciminator loss\n",
        "            d_loss = 0.5 * np.add(dA_loss, dB_loss)\n",
        "\n",
        "\n",
        "            # ------------------\n",
        "            #  Train Generators\n",
        "            # ------------------\n",
        "\n",
        "            # Train the generators\n",
        "            g_loss = combined.train_on_batch([imgs_A, imgs_B],\n",
        "                                                    [valid, valid,\n",
        "                                                    imgs_A, imgs_B,\n",
        "                                                    imgs_A, imgs_B])\n",
        "\n",
        "\n",
        "            # If at save interval => save generated image samples\n",
        "            if batch_i % print_every == 0:\n",
        "                sample_images(epoch, batch_i)\n",
        "                elapsed_time = datetime.datetime.now() - start_time\n",
        "\n",
        "                # Plot the progress\n",
        "                print (\"[Epoch %d/%d] [Batch %d/%d] [D loss: %f, acc: %3d%%] [G loss: %05f, adv: %05f, recon: %05f, id: %05f] time: %s \" \\\n",
        "                       % ( epoch, epochs, batch_i, data_loader.n_batches, d_loss[0], 100*d_loss[1], g_loss[0], np.mean(g_loss[1:3]),\n",
        "                          np.mean(g_loss[3:5]), np.mean(g_loss[5:6]), elapsed_time))\n"
      ],
      "execution_count": 0,
      "outputs": []
    },
    {
      "cell_type": "markdown",
      "metadata": {
        "id": "yMTzCE94QDsu",
        "colab_type": "text"
      },
      "source": [
        "### Train the Model"
      ]
    },
    {
      "cell_type": "code",
      "metadata": {
        "id": "M7olu7b44Q3u",
        "colab_type": "code",
        "colab": {}
      },
      "source": [
        "train(epochs=50, batch_size=32, print_every=100)"
      ],
      "execution_count": 0,
      "outputs": []
    },
    {
      "cell_type": "markdown",
      "metadata": {
        "id": "buRvZoWcQJV4",
        "colab_type": "text"
      },
      "source": [
        "---\n",
        "## Testing Model"
      ]
    },
    {
      "cell_type": "code",
      "metadata": {
        "id": "Y-lH-edwdfDO",
        "colab_type": "code",
        "colab": {}
      },
      "source": [
        "r, c = 2, 3\n",
        "\n",
        "imgs_A = data_loader.load_data(domain=\"A\", batch_size=1, is_testing=True)\n",
        "imgs_B = data_loader.load_data(domain=\"B\", batch_size=1, is_testing=True)\n",
        "\n",
        "# Demo (for GIF)\n",
        "#imgs_A = self.data_loader.load_img('datasets/apple2orange/testA/n07740461_1541.jpg')\n",
        "#imgs_B = self.data_loader.load_img('datasets/apple2orange/testB/n07749192_4241.jpg')\n",
        "\n",
        "# Translate images to the other domain\n",
        "fake_B = g_AB.predict(imgs_A)\n",
        "fake_A = g_BA.predict(imgs_B)\n",
        "\n",
        "# Translate back to original domain\n",
        "reconstr_A = g_BA.predict(fake_B)\n",
        "reconstr_B = g_AB.predict(fake_A)\n",
        "\n",
        "gen_imgs = np.concatenate([imgs_A, fake_B, reconstr_A, imgs_B, fake_A, reconstr_B])\n",
        "\n",
        "# Rescale images 0 - 1\n",
        "gen_imgs = 0.5 * gen_imgs + 0.5\n",
        "\n",
        "titles = ['Original', 'Translated', 'Reconstructed']\n",
        "fig, axs = plt.subplots(r, c, figsize=(10,10))\n",
        "cnt = 0\n",
        "for i in range(r):\n",
        "    for j in range(c):\n",
        "        axs[i,j].imshow(gen_imgs[cnt])\n",
        "        axs[i, j].set_title(titles[j])\n",
        "        axs[i,j].axis('off')\n",
        "        cnt += 1\n",
        "plt.show()\n",
        "plt.close()"
      ],
      "execution_count": 0,
      "outputs": []
    },
    {
      "cell_type": "markdown",
      "metadata": {
        "colab_type": "text",
        "id": "vG8JDVI-cPci"
      },
      "source": [
        "<p>Copyright &copy; 2019 <a href=https://www.linkedin.com/in/andityaarifianto/>ADF</a> </p>"
      ]
    }
  ]
}