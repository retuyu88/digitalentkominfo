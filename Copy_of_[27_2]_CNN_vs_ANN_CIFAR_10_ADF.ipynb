{
  "nbformat": 4,
  "nbformat_minor": 0,
  "metadata": {
    "colab": {
      "name": "Copy of [27 2] CNN vs ANN CIFAR-10 - ADF",
      "version": "0.3.2",
      "provenance": [],
      "collapsed_sections": [],
      "toc_visible": true,
      "include_colab_link": true
    },
    "kernelspec": {
      "name": "python3",
      "display_name": "Python 3"
    },
    "accelerator": "GPU"
  },
  "cells": [
    {
      "cell_type": "markdown",
      "metadata": {
        "id": "view-in-github",
        "colab_type": "text"
      },
      "source": [
        "<a href=\"https://colab.research.google.com/github/retuyu88/digitalentkominfo/blob/master/Copy_of_%5B27_2%5D_CNN_vs_ANN_CIFAR_10_ADF.ipynb\" target=\"_parent\"><img src=\"https://colab.research.google.com/assets/colab-badge.svg\" alt=\"Open In Colab\"/></a>"
      ]
    },
    {
      "cell_type": "markdown",
      "metadata": {
        "id": "EfwbLGN0zdro",
        "colab_type": "text"
      },
      "source": [
        "<img src = \"https://i.imgur.com/UjutVJd.jpg\" align = \"center\">"
      ]
    },
    {
      "cell_type": "markdown",
      "metadata": {
        "id": "Kdq4txp6In1H",
        "colab_type": "text"
      },
      "source": [
        "---\n",
        "# Dataset CIFAR-10\n",
        "\n",
        "\n",
        "Jangan lupa, pastikan Colab ini berjalan dengan GPU\n"
      ]
    },
    {
      "cell_type": "code",
      "metadata": {
        "id": "GrnacNg8In1K",
        "colab_type": "code",
        "colab": {}
      },
      "source": [
        "import numpy as np\n",
        "import matplotlib.pyplot as plt\n",
        "%matplotlib inline\n",
        "\n",
        "np.set_printoptions(precision=7)"
      ],
      "execution_count": 0,
      "outputs": []
    },
    {
      "cell_type": "markdown",
      "metadata": {
        "id": "tz9rpwvIIn1T",
        "colab_type": "text"
      },
      "source": [
        "---\n",
        "## Load Dataset CIFAR-10\n",
        "\n",
        "\n",
        "\n"
      ]
    },
    {
      "cell_type": "code",
      "metadata": {
        "id": "e9lcWKk9In1U",
        "colab_type": "code",
        "colab": {
          "base_uri": "https://localhost:8080/",
          "height": 119
        },
        "outputId": "6893ac68-4e4c-4b20-aeb4-041eaab64c65"
      },
      "source": [
        "import tensorflow as tf\n",
        "\n",
        "(X_train, y_train), (X_test, y_test) = tf.keras.datasets.cifar10.load_data()\n",
        "\n",
        "classes = ['plane', 'car', 'bird', 'cat', 'deer', 'dog', 'frog', 'horse', 'ship', 'truck']\n",
        "\n",
        "print('X_train.shape =',X_train.shape)\n",
        "print('y_train.shape =',y_train.shape)\n",
        "print('X_test.shape  =',X_test.shape)\n",
        "print('y_test.shape  =',y_test.shape)"
      ],
      "execution_count": 2,
      "outputs": [
        {
          "output_type": "stream",
          "text": [
            "Downloading data from https://www.cs.toronto.edu/~kriz/cifar-10-python.tar.gz\n",
            "170500096/170498071 [==============================] - 3s 0us/step\n",
            "X_train.shape = (50000, 32, 32, 3)\n",
            "y_train.shape = (50000, 1)\n",
            "X_test.shape  = (10000, 32, 32, 3)\n",
            "y_test.shape  = (10000, 1)\n"
          ],
          "name": "stdout"
        }
      ]
    },
    {
      "cell_type": "markdown",
      "metadata": {
        "id": "9rhC32AWIn1Z",
        "colab_type": "text"
      },
      "source": [
        "---\n",
        "## Visualisasi Data CIFAR-10\n"
      ]
    },
    {
      "cell_type": "code",
      "metadata": {
        "id": "Zk4QVV87In1b",
        "colab_type": "code",
        "colab": {
          "base_uri": "https://localhost:8080/",
          "height": 269
        },
        "outputId": "d5a97fb8-d758-4a4b-f9b3-8af0b13b6d9b"
      },
      "source": [
        "fig, ax = plt.subplots(2,10,figsize=(15,4.5))\n",
        "fig.subplots_adjust(hspace=0.1, wspace=0.1)\n",
        "for j in range(0,2):\n",
        "    for i in range(0, 10):\n",
        "        ax[j,i].imshow(X_train[i+j*10])\n",
        "        ax[j,i].set_title(classes[y_train[i+j*10,0]])\n",
        "        ax[j,i].axis('off')\n",
        "plt.show()"
      ],
      "execution_count": 3,
      "outputs": [
        {
          "output_type": "display_data",
          "data": {
            "image/png": "[encoded data removed]",
            "text/plain": [
              "<Figure size 1080x324 with 20 Axes>"
            ]
          },
          "metadata": {
            "tags": []
          }
        }
      ]
    },
    {
      "cell_type": "markdown",
      "metadata": {
        "id": "uhUO9G5MIn1g",
        "colab_type": "text"
      },
      "source": [
        "---\n",
        "## Bagi Data Validasi\n",
        "Ambil 10,000 data terakhir dari data latih menjadi data Validasi di dalam matrix `X_val` dan `y_val`"
      ]
    },
    {
      "cell_type": "code",
      "metadata": {
        "id": "oCSjAqPzIn1i",
        "colab_type": "code",
        "colab": {
          "base_uri": "https://localhost:8080/",
          "height": 85
        },
        "outputId": "7e5b73f0-28a1-4976-d324-bea3b60b54ed"
      },
      "source": [
        "X_val = X_train[-10000:,:]\n",
        "y_val = y_train[-10000:]\n",
        "\n",
        "X_train = X_train[:-10000, :]\n",
        "y_train = y_train[:-10000]\n",
        "\n",
        "print('X_val.shape   =',X_val.shape)\n",
        "print('y_val.shape   =',y_val.shape)\n",
        "print('X_train.shape =',X_train.shape)\n",
        "print('y_train.shape =',y_train.shape)"
      ],
      "execution_count": 4,
      "outputs": [
        {
          "output_type": "stream",
          "text": [
            "X_val.shape   = (10000, 32, 32, 3)\n",
            "y_val.shape   = (10000, 1)\n",
            "X_train.shape = (40000, 32, 32, 3)\n",
            "y_train.shape = (40000, 1)\n"
          ],
          "name": "stdout"
        }
      ]
    },
    {
      "cell_type": "markdown",
      "metadata": {
        "id": "ZonG85IOIn1o",
        "colab_type": "text"
      },
      "source": [
        "---\n",
        "## Normalizing Data"
      ]
    },
    {
      "cell_type": "code",
      "metadata": {
        "id": "yfEl2gZJIn1p",
        "colab_type": "code",
        "colab": {
          "base_uri": "https://localhost:8080/",
          "height": 68
        },
        "outputId": "3d5a7704-04e6-488f-d861-cf0cc727a579"
      },
      "source": [
        "X_train = X_train.astype('float32')\n",
        "X_val = X_val.astype('float32')\n",
        "X_test = X_test.astype('float32')\n",
        "\n",
        "mean_image = np.mean(X_train, axis = 0)\n",
        "X_train -= mean_image\n",
        "X_val -= mean_image\n",
        "X_test -= mean_image\n",
        "\n",
        "print('X_train.shape =',X_train.shape)\n",
        "print('X_val.shape   =',X_val.shape)\n",
        "print('X_test.shape  =',X_test.shape)\n"
      ],
      "execution_count": 5,
      "outputs": [
        {
          "output_type": "stream",
          "text": [
            "X_train.shape = (40000, 32, 32, 3)\n",
            "X_val.shape   = (10000, 32, 32, 3)\n",
            "X_test.shape  = (10000, 32, 32, 3)\n"
          ],
          "name": "stdout"
        }
      ]
    },
    {
      "cell_type": "markdown",
      "metadata": {
        "id": "rQohd54TIn1x",
        "colab_type": "text"
      },
      "source": [
        "---\n",
        "## One Hot Matrix\n",
        "\n"
      ]
    },
    {
      "cell_type": "markdown",
      "metadata": {
        "id": "kveJWXJYIn14",
        "colab_type": "text"
      },
      "source": [
        " Ubah vektor target `y_train`, `y_val`, dan `y_test` menjadi bentuk One-Hot Matrix"
      ]
    },
    {
      "cell_type": "code",
      "metadata": {
        "id": "neQU8KqDIn1_",
        "colab_type": "code",
        "colab": {
          "base_uri": "https://localhost:8080/",
          "height": 68
        },
        "outputId": "e22448f6-e368-4189-8be6-a340dd42fbd2"
      },
      "source": [
        "from tensorflow.keras.utils import to_categorical\n",
        "\n",
        "y_train_hot = to_categorical(y_train.ravel(), 10)\n",
        "y_val_hot = to_categorical(y_val.ravel(), 10)\n",
        "y_test_hot = to_categorical(y_test.ravel(), 10)\n",
        "\n",
        "print('y_train_hot.shape =',y_train_hot.shape)\n",
        "print('y_val_hot.shape   =',y_val_hot.shape)\n",
        "print('y_test_hot.shape  =',y_test_hot.shape)"
      ],
      "execution_count": 6,
      "outputs": [
        {
          "output_type": "stream",
          "text": [
            "y_train_hot.shape = (40000, 10)\n",
            "y_val_hot.shape   = (10000, 10)\n",
            "y_test_hot.shape  = (10000, 10)\n"
          ],
          "name": "stdout"
        }
      ]
    },
    {
      "cell_type": "markdown",
      "metadata": {
        "id": "OjqzwPUJIn4n",
        "colab_type": "text"
      },
      "source": [
        "---\n",
        "\n",
        "# Three-Layer Neural Network\n",
        "\n",
        "Berikutnya, mari kita bangun Jaringan Saraf Tiruan sedalam 3 layer untuk mengklasifikasikan dataset FMNIST ini\n"
      ]
    },
    {
      "cell_type": "markdown",
      "metadata": {
        "id": "34l5N13yIn5O",
        "colab_type": "text"
      },
      "source": [
        "---\n",
        "## Import Modul\n",
        "\n"
      ]
    },
    {
      "cell_type": "code",
      "metadata": {
        "id": "k98ABsZD_q5w",
        "colab_type": "code",
        "colab": {}
      },
      "source": [
        "from tensorflow.keras.models import Sequential\n",
        "from tensorflow.keras.layers import Flatten\n",
        "from tensorflow.keras.layers import Dense\n",
        "\n",
        "num_data    = X_train.shape[0]\n",
        "X_dim       = X_train.shape[1]\n",
        "num_classes = y_train_hot.shape[1]"
      ],
      "execution_count": 0,
      "outputs": []
    },
    {
      "cell_type": "markdown",
      "metadata": {
        "id": "wElcpSCg_q5v",
        "colab_type": "text"
      },
      "source": [
        "---\n",
        "## Model Neural Network\n"
      ]
    },
    {
      "cell_type": "code",
      "metadata": {
        "id": "R0xzjgWQ_q56",
        "colab_type": "code",
        "colab": {
          "base_uri": "https://localhost:8080/",
          "height": 377
        },
        "outputId": "e2d7e0ae-75a6-45c0-be2d-0d4f6b81dad4"
      },
      "source": [
        "# create model compact sequential\n",
        "\n",
        "model_ann = Sequential([\n",
        "  Flatten(input_shape=(32,32,3)),\n",
        "  Dense(500, activation=\"relu\"),\n",
        "  Dense(200, activation=\"relu\"),\n",
        "  Dense(num_classes, activation=\"softmax\")\n",
        "])\n",
        "\n",
        "model_ann.summary()"
      ],
      "execution_count": 8,
      "outputs": [
        {
          "output_type": "stream",
          "text": [
            "WARNING: Logging before flag parsing goes to stderr.\n",
            "W0806 02:14:25.792762 139961398556544 deprecation.py:506] From /usr/local/lib/python3.6/dist-packages/tensorflow/python/ops/init_ops.py:1251: calling VarianceScaling.__init__ (from tensorflow.python.ops.init_ops) with dtype is deprecated and will be removed in a future version.\n",
            "Instructions for updating:\n",
            "Call initializer instance with the dtype argument instead of passing it to the constructor\n"
          ],
          "name": "stderr"
        },
        {
          "output_type": "stream",
          "text": [
            "Model: \"sequential\"\n",
            "_________________________________________________________________\n",
            "Layer (type)                 Output Shape              Param #   \n",
            "=================================================================\n",
            "flatten (Flatten)            (None, 3072)              0         \n",
            "_________________________________________________________________\n",
            "dense (Dense)                (None, 500)               1536500   \n",
            "_________________________________________________________________\n",
            "dense_1 (Dense)              (None, 200)               100200    \n",
            "_________________________________________________________________\n",
            "dense_2 (Dense)              (None, 10)                2010      \n",
            "=================================================================\n",
            "Total params: 1,638,710\n",
            "Trainable params: 1,638,710\n",
            "Non-trainable params: 0\n",
            "_________________________________________________________________\n"
          ],
          "name": "stdout"
        }
      ]
    },
    {
      "cell_type": "markdown",
      "metadata": {
        "id": "pmDso_8jIn5V",
        "colab_type": "text"
      },
      "source": [
        "---\n",
        "## Melatih Model"
      ]
    },
    {
      "cell_type": "code",
      "metadata": {
        "id": "lR9WhzsFIn5V",
        "colab_type": "code",
        "colab": {
          "base_uri": "https://localhost:8080/",
          "height": 544
        },
        "outputId": "6b5b269c-9bbe-45aa-8482-e5eb6f2b30a7"
      },
      "source": [
        "# Compile model\n",
        "model_ann.compile(loss='categorical_crossentropy', \n",
        "              optimizer='adam', metrics=['accuracy'])\n",
        "\n",
        "\n",
        "num_epochs = 15\n",
        "batch_size = 1000\n",
        "\n",
        "hist_ann = model_ann.fit(X_train, y_train_hot, \n",
        "          validation_data=(X_val, y_val_hot),\n",
        "          epochs=num_epochs, batch_size=batch_size, \n",
        "          verbose=2)"
      ],
      "execution_count": 9,
      "outputs": [
        {
          "output_type": "stream",
          "text": [
            "Train on 40000 samples, validate on 10000 samples\n",
            "Epoch 1/15\n",
            "40000/40000 - 1s - loss: 61.9885 - acc: 0.2650 - val_loss: 19.5077 - val_acc: 0.3032\n",
            "Epoch 2/15\n",
            "40000/40000 - 1s - loss: 14.8004 - acc: 0.3178 - val_loss: 13.4037 - val_acc: 0.2932\n",
            "Epoch 3/15\n",
            "40000/40000 - 1s - loss: 6.4376 - acc: 0.2830 - val_loss: 3.4161 - val_acc: 0.1869\n",
            "Epoch 4/15\n",
            "40000/40000 - 1s - loss: 2.3924 - acc: 0.1743 - val_loss: 2.4481 - val_acc: 0.1425\n",
            "Epoch 5/15\n",
            "40000/40000 - 1s - loss: 2.1678 - acc: 0.1841 - val_loss: 2.4392 - val_acc: 0.1530\n",
            "Epoch 6/15\n",
            "40000/40000 - 1s - loss: 2.0802 - acc: 0.2152 - val_loss: 2.4377 - val_acc: 0.1821\n",
            "Epoch 7/15\n",
            "40000/40000 - 1s - loss: 2.0116 - acc: 0.2539 - val_loss: 2.4452 - val_acc: 0.2224\n",
            "Epoch 8/15\n",
            "40000/40000 - 1s - loss: 1.9492 - acc: 0.2786 - val_loss: 2.4354 - val_acc: 0.2347\n",
            "Epoch 9/15\n",
            "40000/40000 - 1s - loss: 1.8961 - acc: 0.2981 - val_loss: 2.4260 - val_acc: 0.2357\n",
            "Epoch 10/15\n",
            "40000/40000 - 1s - loss: 1.8425 - acc: 0.3127 - val_loss: 2.4388 - val_acc: 0.2580\n",
            "Epoch 11/15\n",
            "40000/40000 - 1s - loss: 1.7917 - acc: 0.3331 - val_loss: 2.4572 - val_acc: 0.2652\n",
            "Epoch 12/15\n",
            "40000/40000 - 1s - loss: 1.7372 - acc: 0.3513 - val_loss: 2.4305 - val_acc: 0.2697\n",
            "Epoch 13/15\n",
            "40000/40000 - 1s - loss: 1.6961 - acc: 0.3619 - val_loss: 2.4398 - val_acc: 0.2857\n",
            "Epoch 14/15\n",
            "40000/40000 - 1s - loss: 1.6519 - acc: 0.3777 - val_loss: 2.4536 - val_acc: 0.2804\n",
            "Epoch 15/15\n",
            "40000/40000 - 1s - loss: 1.6522 - acc: 0.3753 - val_loss: 2.4741 - val_acc: 0.2847\n"
          ],
          "name": "stdout"
        }
      ]
    },
    {
      "cell_type": "markdown",
      "metadata": {
        "id": "3ibLtwIAIn5V",
        "colab_type": "text"
      },
      "source": [
        "---\n",
        "## Evaluasi Model\n"
      ]
    },
    {
      "cell_type": "code",
      "metadata": {
        "id": "VTD6WFU2In5W",
        "colab_type": "code",
        "colab": {
          "base_uri": "https://localhost:8080/",
          "height": 68
        },
        "outputId": "522c6ef5-3c74-4bcc-bd9d-abf1b014c53d"
      },
      "source": [
        "scores_ann = model_ann.evaluate(X_test, y_test_hot, verbose=1)\n",
        "print(\"\\nModel Accuracy: %.2f%%\" % (scores_ann[1]*100))"
      ],
      "execution_count": 10,
      "outputs": [
        {
          "output_type": "stream",
          "text": [
            "10000/10000 [==============================] - 1s 75us/sample - loss: 2.4279 - acc: 0.2956\n",
            "\n",
            "Model Accuracy: 29.56%\n"
          ],
          "name": "stdout"
        }
      ]
    },
    {
      "cell_type": "markdown",
      "metadata": {
        "colab_type": "text",
        "id": "ld_C6JC4olXG"
      },
      "source": [
        "---\n",
        "\n",
        "# Three-Layer Convolutional Neural Network\n",
        "Sebagai perbandingan, mari kita bangun Convolutional Neural Network yang juga hanya 3 layer\n"
      ]
    },
    {
      "cell_type": "markdown",
      "metadata": {
        "colab_type": "text",
        "id": "eTtsOpepolXN"
      },
      "source": [
        "---\n",
        "## Import Modul\n",
        "\n"
      ]
    },
    {
      "cell_type": "code",
      "metadata": {
        "colab_type": "code",
        "id": "mYdhz2T2olXS",
        "colab": {}
      },
      "source": [
        "from tensorflow.keras.layers import Conv2D\n",
        "from tensorflow.keras.layers import MaxPooling2D"
      ],
      "execution_count": 0,
      "outputs": []
    },
    {
      "cell_type": "markdown",
      "metadata": {
        "colab_type": "text",
        "id": "D_BNctCnolXZ"
      },
      "source": [
        "---\n",
        "## Model Neural Network\n"
      ]
    },
    {
      "cell_type": "code",
      "metadata": {
        "colab_type": "code",
        "id": "n7uDuN9BolXc",
        "colab": {
          "base_uri": "https://localhost:8080/",
          "height": 391
        },
        "outputId": "5200441b-58c7-42bb-d422-494a55e44ed4"
      },
      "source": [
        "# create model compact sequential\n",
        "\n",
        "model_cnn = Sequential([\n",
        "  Conv2D(64,(5,5),input_shape=(32,32,3), padding='same', activation=\"relu\"),\n",
        "  MaxPooling2D(),\n",
        "  Conv2D(32,(5,5), padding='same', activation=\"relu\"),\n",
        "  MaxPooling2D(),\n",
        "  Flatten(),\n",
        "  Dense(100, activation=\"relu\"),\n",
        "  Dense(num_classes, activation=\"softmax\")\n",
        "])\n",
        "\n",
        "model_cnn.summary()"
      ],
      "execution_count": 14,
      "outputs": [
        {
          "output_type": "stream",
          "text": [
            "Model: \"sequential_1\"\n",
            "_________________________________________________________________\n",
            "Layer (type)                 Output Shape              Param #   \n",
            "=================================================================\n",
            "conv2d (Conv2D)              (None, 32, 32, 64)        4864      \n",
            "_________________________________________________________________\n",
            "max_pooling2d (MaxPooling2D) (None, 16, 16, 64)        0         \n",
            "_________________________________________________________________\n",
            "conv2d_1 (Conv2D)            (None, 16, 16, 32)        51232     \n",
            "_________________________________________________________________\n",
            "max_pooling2d_1 (MaxPooling2 (None, 8, 8, 32)          0         \n",
            "_________________________________________________________________\n",
            "flatten_1 (Flatten)          (None, 2048)              0         \n",
            "_________________________________________________________________\n",
            "dense_3 (Dense)              (None, 100)               204900    \n",
            "_________________________________________________________________\n",
            "dense_4 (Dense)              (None, 10)                1010      \n",
            "=================================================================\n",
            "Total params: 262,006\n",
            "Trainable params: 262,006\n",
            "Non-trainable params: 0\n",
            "_________________________________________________________________\n"
          ],
          "name": "stdout"
        }
      ]
    },
    {
      "cell_type": "markdown",
      "metadata": {
        "colab_type": "text",
        "id": "DNJmngIeolXm"
      },
      "source": [
        "---\n",
        "## Melatih Model"
      ]
    },
    {
      "cell_type": "code",
      "metadata": {
        "colab_type": "code",
        "id": "j7-hIlWEolXo",
        "colab": {
          "base_uri": "https://localhost:8080/",
          "height": 544
        },
        "outputId": "649e95e2-a716-423f-aa33-e15f2c7da5ac"
      },
      "source": [
        "# Compile model\n",
        "model_cnn.compile(loss='categorical_crossentropy', \n",
        "              optimizer='adam', metrics=['accuracy'])\n",
        "\n",
        "\n",
        "num_epochs = 15\n",
        "batch_size = 1000\n",
        "\n",
        "hist_cnn = model_cnn.fit(X_train, y_train_hot, \n",
        "          validation_data=(X_val, y_val_hot),\n",
        "          epochs=num_epochs, batch_size=batch_size, \n",
        "          verbose=2)"
      ],
      "execution_count": 15,
      "outputs": [
        {
          "output_type": "stream",
          "text": [
            "Train on 40000 samples, validate on 10000 samples\n",
            "Epoch 1/15\n",
            "40000/40000 - 5s - loss: 5.0846 - acc: 0.1310 - val_loss: 2.2433 - val_acc: 0.1522\n",
            "Epoch 2/15\n",
            "40000/40000 - 2s - loss: 2.1775 - acc: 0.1720 - val_loss: 2.1111 - val_acc: 0.2078\n",
            "Epoch 3/15\n",
            "40000/40000 - 2s - loss: 2.0523 - acc: 0.2489 - val_loss: 2.0057 - val_acc: 0.2752\n",
            "Epoch 4/15\n",
            "40000/40000 - 2s - loss: 1.9366 - acc: 0.3042 - val_loss: 1.9211 - val_acc: 0.3221\n",
            "Epoch 5/15\n",
            "40000/40000 - 2s - loss: 1.8315 - acc: 0.3484 - val_loss: 1.7876 - val_acc: 0.3750\n",
            "Epoch 6/15\n",
            "40000/40000 - 2s - loss: 1.7002 - acc: 0.4006 - val_loss: 1.6776 - val_acc: 0.4173\n",
            "Epoch 7/15\n",
            "40000/40000 - 2s - loss: 1.5967 - acc: 0.4342 - val_loss: 1.6214 - val_acc: 0.4426\n",
            "Epoch 8/15\n",
            "40000/40000 - 2s - loss: 1.5102 - acc: 0.4690 - val_loss: 1.5430 - val_acc: 0.4644\n",
            "Epoch 9/15\n",
            "40000/40000 - 2s - loss: 1.4427 - acc: 0.4960 - val_loss: 1.5299 - val_acc: 0.4688\n",
            "Epoch 10/15\n",
            "40000/40000 - 2s - loss: 1.4059 - acc: 0.5069 - val_loss: 1.4690 - val_acc: 0.4954\n",
            "Epoch 11/15\n",
            "40000/40000 - 3s - loss: 1.3563 - acc: 0.5241 - val_loss: 1.4307 - val_acc: 0.5070\n",
            "Epoch 12/15\n",
            "40000/40000 - 2s - loss: 1.3039 - acc: 0.5423 - val_loss: 1.4127 - val_acc: 0.5141\n",
            "Epoch 13/15\n",
            "40000/40000 - 3s - loss: 1.2604 - acc: 0.5580 - val_loss: 1.3614 - val_acc: 0.5303\n",
            "Epoch 14/15\n",
            "40000/40000 - 2s - loss: 1.2325 - acc: 0.5671 - val_loss: 1.3752 - val_acc: 0.5279\n",
            "Epoch 15/15\n",
            "40000/40000 - 2s - loss: 1.1883 - acc: 0.5807 - val_loss: 1.3357 - val_acc: 0.5407\n"
          ],
          "name": "stdout"
        }
      ]
    },
    {
      "cell_type": "markdown",
      "metadata": {
        "colab_type": "text",
        "id": "0BUZEHLMolXr"
      },
      "source": [
        "---\n",
        "## Evaluasi Model\n"
      ]
    },
    {
      "cell_type": "code",
      "metadata": {
        "colab_type": "code",
        "id": "lAmucgajolXt",
        "colab": {
          "base_uri": "https://localhost:8080/",
          "height": 68
        },
        "outputId": "77e8cfd8-800f-4068-cc87-461888b21319"
      },
      "source": [
        "scores_cnn = model_cnn.evaluate(X_test, y_test_hot, verbose=1)\n",
        "print(\"\\nModel Accuracy: %.2f%%\" % (scores_cnn[1]*100))"
      ],
      "execution_count": 16,
      "outputs": [
        {
          "output_type": "stream",
          "text": [
            "10000/10000 [==============================] - 1s 103us/sample - loss: 1.3045 - acc: 0.5515\n",
            "\n",
            "Model Accuracy: 55.15%\n"
          ],
          "name": "stdout"
        }
      ]
    },
    {
      "cell_type": "markdown",
      "metadata": {
        "id": "NnkdHf-gsn3R",
        "colab_type": "text"
      },
      "source": [
        "---\n",
        "# Perbandingan ANN dan CNN\n",
        "\n",
        "Sekarang, mari kita investigasi performa ANN dan CNN"
      ]
    },
    {
      "cell_type": "markdown",
      "metadata": {
        "id": "_HIuWVyzssQ-",
        "colab_type": "text"
      },
      "source": [
        "---\n",
        "## Jumlah Parameter"
      ]
    },
    {
      "cell_type": "code",
      "metadata": {
        "id": "rucd-dstsrBF",
        "colab_type": "code",
        "colab": {
          "base_uri": "https://localhost:8080/",
          "height": 731
        },
        "outputId": "87a3317d-863b-4776-f931-81ccbc2f3ffd"
      },
      "source": [
        "print('model ANN:')\n",
        "model_ann.summary()\n",
        "\n",
        "print('\\n\\nmodel CNN:')\n",
        "model_cnn.summary()"
      ],
      "execution_count": 17,
      "outputs": [
        {
          "output_type": "stream",
          "text": [
            "model ANN:\n",
            "Model: \"sequential\"\n",
            "_________________________________________________________________\n",
            "Layer (type)                 Output Shape              Param #   \n",
            "=================================================================\n",
            "flatten (Flatten)            (None, 3072)              0         \n",
            "_________________________________________________________________\n",
            "dense (Dense)                (None, 500)               1536500   \n",
            "_________________________________________________________________\n",
            "dense_1 (Dense)              (None, 200)               100200    \n",
            "_________________________________________________________________\n",
            "dense_2 (Dense)              (None, 10)                2010      \n",
            "=================================================================\n",
            "Total params: 1,638,710\n",
            "Trainable params: 1,638,710\n",
            "Non-trainable params: 0\n",
            "_________________________________________________________________\n",
            "\n",
            "\n",
            "model CNN:\n",
            "Model: \"sequential_1\"\n",
            "_________________________________________________________________\n",
            "Layer (type)                 Output Shape              Param #   \n",
            "=================================================================\n",
            "conv2d (Conv2D)              (None, 32, 32, 64)        4864      \n",
            "_________________________________________________________________\n",
            "max_pooling2d (MaxPooling2D) (None, 16, 16, 64)        0         \n",
            "_________________________________________________________________\n",
            "conv2d_1 (Conv2D)            (None, 16, 16, 32)        51232     \n",
            "_________________________________________________________________\n",
            "max_pooling2d_1 (MaxPooling2 (None, 8, 8, 32)          0         \n",
            "_________________________________________________________________\n",
            "flatten_1 (Flatten)          (None, 2048)              0         \n",
            "_________________________________________________________________\n",
            "dense_3 (Dense)              (None, 100)               204900    \n",
            "_________________________________________________________________\n",
            "dense_4 (Dense)              (None, 10)                1010      \n",
            "=================================================================\n",
            "Total params: 262,006\n",
            "Trainable params: 262,006\n",
            "Non-trainable params: 0\n",
            "_________________________________________________________________\n"
          ],
          "name": "stdout"
        }
      ]
    },
    {
      "cell_type": "code",
      "metadata": {
        "id": "cJph5BbhszSz",
        "colab_type": "code",
        "colab": {
          "base_uri": "https://localhost:8080/",
          "height": 51
        },
        "outputId": "b9cc7e01-7e34-4765-961d-74ed9ac4d37b"
      },
      "source": [
        "print('total parameter ANN:', f'{ model_ann.count_params():,}')\n",
        "print('total parameter CNN:', f'{ model_cnn.count_params():,}')"
      ],
      "execution_count": 18,
      "outputs": [
        {
          "output_type": "stream",
          "text": [
            "total parameter ANN: 1,638,710\n",
            "total parameter CNN: 262,006\n"
          ],
          "name": "stdout"
        }
      ]
    },
    {
      "cell_type": "markdown",
      "metadata": {
        "id": "AAdNRfYCuJVB",
        "colab_type": "text"
      },
      "source": [
        "---\n",
        "## Grafik Hasil Pelatihan"
      ]
    },
    {
      "cell_type": "code",
      "metadata": {
        "id": "j6M2Nzr3uJ1S",
        "colab_type": "code",
        "colab": {
          "base_uri": "https://localhost:8080/",
          "height": 241
        },
        "outputId": "2711f1b8-7f27-4a76-c1b6-5e7c96744f4c"
      },
      "source": [
        "fig, ax = plt.subplots(1,3,figsize=(18,3))\n",
        "\n",
        "ax[0].plot(hist_ann.history['loss'])\n",
        "ax[0].plot(hist_cnn.history['loss'])\n",
        "ax[0].set_title('Train Loss')\n",
        "ax[0].set_ylabel('Loss')\n",
        "ax[0].set_xlabel('Epoch')\n",
        "ax[0].legend(['ANN', 'CNN'], loc='upper right')\n",
        "\n",
        "ax[1].plot(hist_ann.history['acc'])\n",
        "ax[1].plot(hist_cnn.history['acc'])\n",
        "ax[1].set_title('Train Accuracy')\n",
        "ax[1].set_ylabel('Accuracy')\n",
        "ax[1].set_xlabel('Epoch')\n",
        "# ax[1].set_ylim(bottom=.7)\n",
        "ax[1].legend(['ANN', 'CNN'], loc='lower right')\n",
        "\n",
        "ax[2].plot(hist_ann.history['val_acc'])\n",
        "ax[2].plot(hist_cnn.history['val_acc'])\n",
        "ax[2].set_title('Validation Accuracy')\n",
        "ax[2].set_ylabel('Accuracy')\n",
        "ax[2].set_xlabel('Epoch')\n",
        "# ax[2].set_ylim(bottom=.7)\n",
        "ax[2].legend(['ANN', 'CNN'], loc='lower right')\n",
        "plt.show()"
      ],
      "execution_count": 19,
      "outputs": [
        {
          "output_type": "display_data",
          "data": {
            "image/png": "[encoded data removed]",
            "text/plain": [
              "<Figure size 1296x216 with 3 Axes>"
            ]
          },
          "metadata": {
            "tags": []
          }
        }
      ]
    },
    {
      "cell_type": "markdown",
      "metadata": {
        "id": "UiN4exlAtfly",
        "colab_type": "text"
      },
      "source": [
        "---\n",
        "## Akurasi Data Uji"
      ]
    },
    {
      "cell_type": "code",
      "metadata": {
        "id": "RAbAilYSt0pD",
        "colab_type": "code",
        "colab": {
          "base_uri": "https://localhost:8080/",
          "height": 51
        },
        "outputId": "e151b6f8-bc06-48a4-94ca-921e98ad10b5"
      },
      "source": [
        "print(\"Akurasi ANN: %.2f%%\" % (scores_ann[1]*100))\n",
        "print(\"Akurasi CNN: %.2f%%\" % (scores_cnn[1]*100))"
      ],
      "execution_count": 20,
      "outputs": [
        {
          "output_type": "stream",
          "text": [
            "Akurasi ANN: 29.56%\n",
            "Akurasi CNN: 55.15%\n"
          ],
          "name": "stdout"
        }
      ]
    },
    {
      "cell_type": "markdown",
      "metadata": {
        "id": "NfOgnKWBzs1L",
        "colab_type": "text"
      },
      "source": [
        "---\n",
        "## Pengecekan Overfitting"
      ]
    },
    {
      "cell_type": "code",
      "metadata": {
        "id": "_B364ZEqzNw2",
        "colab_type": "code",
        "colab": {
          "base_uri": "https://localhost:8080/",
          "height": 241
        },
        "outputId": "6cf53560-1cb7-468e-a1f3-82ab474d26b2"
      },
      "source": [
        "fig, ax = plt.subplots(1,2,figsize=(10,3))\n",
        "\n",
        "ax[0].plot(hist_ann.history['acc'])\n",
        "ax[0].plot(hist_ann.history['val_acc'])\n",
        "ax[0].set_title('ANN Accuracy')\n",
        "ax[0].set_ylabel('Accuracy')\n",
        "ax[0].set_xlabel('Epoch')\n",
        "ax[0].set_ylim(bottom=.1)\n",
        "ax[0].set_ylim(top=.55)\n",
        "ax[0].legend(['train', 'val'], loc='lower right')\n",
        "\n",
        "ax[1].plot(hist_cnn.history['acc'])\n",
        "ax[1].plot(hist_cnn.history['val_acc'])\n",
        "ax[1].set_title('CNN Accuracy')\n",
        "ax[1].set_ylabel('Accuracy')\n",
        "ax[1].set_xlabel('Epoch')\n",
        "ax[1].set_ylim(bottom=.1)\n",
        "ax[1].set_ylim(top=.55)\n",
        "ax[1].legend(['train', 'val'], loc='lower right')\n",
        "plt.show()"
      ],
      "execution_count": 21,
      "outputs": [
        {
          "output_type": "display_data",
          "data": {
            "image/png": "[encoded data removed]",
            "text/plain": [
              "<Figure size 720x216 with 2 Axes>"
            ]
          },
          "metadata": {
            "tags": []
          }
        }
      ]
    },
    {
      "cell_type": "markdown",
      "metadata": {
        "id": "IpkbQSTG9Eg4",
        "colab_type": "text"
      },
      "source": [
        "Makin besar gap antara akurasi training dan validasi menandakan makin rentan terhadap overfitting"
      ]
    },
    {
      "cell_type": "markdown",
      "metadata": {
        "id": "VI0QLlzQ291a",
        "colab_type": "text"
      },
      "source": [
        "---\n",
        "# Kesimpulan\n",
        "* CNN memiliki parameter yang jauh lebih sedikit dari ANN, namun memiliki akurasi akhir yang lebih baik\n",
        "* CNN Lebih tangguh terhadap *Overfitting*"
      ]
    },
    {
      "cell_type": "markdown",
      "metadata": {
        "id": "uB_ojCQ6zmKS",
        "colab_type": "text"
      },
      "source": [
        "<p>Copyright &copy; 2019 <a href=https://www.linkedin.com/in/andityaarifianto/>ADF</a> </p>"
      ]
    }
  ]
}