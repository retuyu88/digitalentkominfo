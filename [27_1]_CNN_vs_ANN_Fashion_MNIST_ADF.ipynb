{
  "nbformat": 4,
  "nbformat_minor": 0,
  "metadata": {
    "colab": {
      "name": "[27 1] CNN vs ANN Fashion MNIST - ADF",
      "version": "0.3.2",
      "provenance": [],
      "collapsed_sections": [],
      "toc_visible": true,
      "include_colab_link": true
    },
    "kernelspec": {
      "name": "python3",
      "display_name": "Python 3"
    },
    "accelerator": "GPU"
  },
  "cells": [
    {
      "cell_type": "markdown",
      "metadata": {
        "id": "view-in-github",
        "colab_type": "text"
      },
      "source": [
        "<a href=\"https://colab.research.google.com/github/retuyu88/digitalentkominfo/blob/master/%5B27_1%5D_CNN_vs_ANN_Fashion_MNIST_ADF.ipynb\" target=\"_parent\"><img src=\"https://colab.research.google.com/assets/colab-badge.svg\" alt=\"Open In Colab\"/></a>"
      ]
    },
    {
      "cell_type": "markdown",
      "metadata": {
        "id": "EfwbLGN0zdro",
        "colab_type": "text"
      },
      "source": [
        "<img src = \"https://i.imgur.com/UjutVJd.jpg\" align = \"center\">"
      ]
    },
    {
      "cell_type": "markdown",
      "metadata": {
        "id": "Kdq4txp6In1H",
        "colab_type": "text"
      },
      "source": [
        "---\n",
        "# Dataset Fashion-MNIST\n",
        "\n",
        "\n",
        "Jangan lupa, pastikan Colab ini berjalan dengan GPU\n"
      ]
    },
    {
      "cell_type": "code",
      "metadata": {
        "id": "GrnacNg8In1K",
        "colab_type": "code",
        "colab": {}
      },
      "source": [
        "import numpy as np\n",
        "import matplotlib.pyplot as plt\n",
        "%matplotlib inline\n",
        "\n",
        "np.set_printoptions(precision=7)"
      ],
      "execution_count": 0,
      "outputs": []
    },
    {
      "cell_type": "markdown",
      "metadata": {
        "id": "tz9rpwvIIn1T",
        "colab_type": "text"
      },
      "source": [
        "---\n",
        "## Load Dataset FMNIST\n",
        "\n",
        "\n",
        "\n"
      ]
    },
    {
      "cell_type": "code",
      "metadata": {
        "id": "e9lcWKk9In1U",
        "colab_type": "code",
        "colab": {}
      },
      "source": [
        "import tensorflow as tf\n",
        "\n",
        "(X_train, y_train), (X_test, y_test) = tf.keras.datasets.fashion_mnist.load_data()\n",
        "\n",
        "print('X_train.shape =',X_train.shape)\n",
        "print('y_train.shape =',y_train.shape)\n",
        "print('X_test.shape  =',X_test.shape)\n",
        "print('y_test.shape  =',y_test.shape)"
      ],
      "execution_count": 0,
      "outputs": []
    },
    {
      "cell_type": "markdown",
      "metadata": {
        "id": "9rhC32AWIn1Z",
        "colab_type": "text"
      },
      "source": [
        "---\n",
        "## Visualisasi Data FMNIST\n"
      ]
    },
    {
      "cell_type": "code",
      "metadata": {
        "id": "Zk4QVV87In1b",
        "colab_type": "code",
        "colab": {}
      },
      "source": [
        "fig, ax = plt.subplots(2,10,figsize=(15,4.5))\n",
        "fig.subplots_adjust(hspace=0.1, wspace=0.1)\n",
        "for j in range(0,2):\n",
        "    for i in range(0, 10):\n",
        "        ax[j,i].imshow(X_train[i+j*10], cmap='gray')\n",
        "        ax[j,i].set_title(y_train[i+j*10])\n",
        "        ax[j,i].axis('off')\n",
        "plt.show()"
      ],
      "execution_count": 0,
      "outputs": []
    },
    {
      "cell_type": "markdown",
      "metadata": {
        "id": "uhUO9G5MIn1g",
        "colab_type": "text"
      },
      "source": [
        "---\n",
        "## Bagi Data Validasi\n",
        "Ambil 10,000 data terakhir dari data latih menjadi data Validasi di dalam matrix `X_val` dan `y_val`"
      ]
    },
    {
      "cell_type": "code",
      "metadata": {
        "id": "oCSjAqPzIn1i",
        "colab_type": "code",
        "colab": {}
      },
      "source": [
        "X_val = X_train[-10000:,:]\n",
        "y_val = y_train[-10000:]\n",
        "\n",
        "X_train = X_train[:-10000, :]\n",
        "y_train = y_train[:-10000]\n",
        "\n",
        "print('X_val.shape   =',X_val.shape)\n",
        "print('y_val.shape   =',y_val.shape)\n",
        "print('X_train.shape =',X_train.shape)\n",
        "print('y_train.shape =',y_train.shape)"
      ],
      "execution_count": 0,
      "outputs": []
    },
    {
      "cell_type": "markdown",
      "metadata": {
        "id": "ZonG85IOIn1o",
        "colab_type": "text"
      },
      "source": [
        "---\n",
        "## Normalizing Data"
      ]
    },
    {
      "cell_type": "code",
      "metadata": {
        "id": "yfEl2gZJIn1p",
        "colab_type": "code",
        "colab": {}
      },
      "source": [
        "X_train = X_train.astype('float32')\n",
        "X_val = X_val.astype('float32')\n",
        "X_test = X_test.astype('float32')\n",
        "\n",
        "# mean_image = np.mean(X_train, axis = 0)\n",
        "# X_train -= mean_image\n",
        "# X_val -= mean_image\n",
        "# X_test -= mean_image\n",
        "\n",
        "X_train = np.expand_dims(X_train,-1)\n",
        "X_val = np.expand_dims(X_val,-1)\n",
        "X_test = np.expand_dims(X_test,-1)\n",
        "\n",
        "print('X_train.shape =',X_train.shape)\n",
        "print('X_val.shape   =',X_val.shape)\n",
        "print('X_test.shape  =',X_test.shape)\n"
      ],
      "execution_count": 0,
      "outputs": []
    },
    {
      "cell_type": "markdown",
      "metadata": {
        "id": "rQohd54TIn1x",
        "colab_type": "text"
      },
      "source": [
        "---\n",
        "## One Hot Matrix\n",
        "\n"
      ]
    },
    {
      "cell_type": "markdown",
      "metadata": {
        "id": "kveJWXJYIn14",
        "colab_type": "text"
      },
      "source": [
        " Ubah vektor target `y_train`, `y_val`, dan `y_test` menjadi bentuk One-Hot Matrix"
      ]
    },
    {
      "cell_type": "code",
      "metadata": {
        "id": "neQU8KqDIn1_",
        "colab_type": "code",
        "colab": {}
      },
      "source": [
        "from tensorflow.keras.utils import to_categorical\n",
        "\n",
        "y_train_hot = to_categorical(y_train.ravel(), 10)\n",
        "y_val_hot = to_categorical(y_val.ravel(), 10)\n",
        "y_test_hot = to_categorical(y_test.ravel(), 10)\n",
        "\n",
        "print('y_train_hot.shape =',y_train_hot.shape)\n",
        "print('y_val_hot.shape   =',y_val_hot.shape)\n",
        "print('y_test_hot.shape  =',y_test_hot.shape)"
      ],
      "execution_count": 0,
      "outputs": []
    },
    {
      "cell_type": "markdown",
      "metadata": {
        "id": "OjqzwPUJIn4n",
        "colab_type": "text"
      },
      "source": [
        "---\n",
        "\n",
        "# Three-Layer Neural Network\n",
        "\n",
        "Berikutnya, mari kita bangun Jaringan Saraf Tiruan sedalam 3 layer untuk mengklasifikasikan dataset FMNIST ini\n"
      ]
    },
    {
      "cell_type": "markdown",
      "metadata": {
        "id": "34l5N13yIn5O",
        "colab_type": "text"
      },
      "source": [
        "---\n",
        "## Import Modul\n",
        "\n"
      ]
    },
    {
      "cell_type": "code",
      "metadata": {
        "id": "k98ABsZD_q5w",
        "colab_type": "code",
        "colab": {}
      },
      "source": [
        "from tensorflow.keras.models import Sequential\n",
        "from tensorflow.keras.layers import Flatten\n",
        "from tensorflow.keras.layers import Dense\n",
        "\n",
        "num_data    = X_train.shape[0]\n",
        "X_dim       = X_train.shape[1]\n",
        "num_classes = y_train_hot.shape[1]"
      ],
      "execution_count": 0,
      "outputs": []
    },
    {
      "cell_type": "markdown",
      "metadata": {
        "id": "wElcpSCg_q5v",
        "colab_type": "text"
      },
      "source": [
        "---\n",
        "## Model Neural Network\n"
      ]
    },
    {
      "cell_type": "code",
      "metadata": {
        "id": "R0xzjgWQ_q56",
        "colab_type": "code",
        "colab": {}
      },
      "source": [
        "# create model compact sequential\n",
        "\n",
        "model_ann = Sequential([\n",
        "  Flatten(input_shape=(28,28,1)),\n",
        "  Dense(500, activation=\"relu\"),\n",
        "  Dense(200, activation=\"relu\"),\n",
        "  Dense(num_classes, activation=\"softmax\")\n",
        "])\n",
        "\n",
        "model_ann.summary()"
      ],
      "execution_count": 0,
      "outputs": []
    },
    {
      "cell_type": "markdown",
      "metadata": {
        "id": "pmDso_8jIn5V",
        "colab_type": "text"
      },
      "source": [
        "---\n",
        "## Melatih Model"
      ]
    },
    {
      "cell_type": "code",
      "metadata": {
        "id": "lR9WhzsFIn5V",
        "colab_type": "code",
        "colab": {}
      },
      "source": [
        "# Compile model\n",
        "model_ann.compile(loss='categorical_crossentropy', \n",
        "              optimizer='adam', metrics=['accuracy'])\n",
        "\n",
        "\n",
        "num_epochs = 15\n",
        "batch_size = 1000\n",
        "\n",
        "hist_ann = model_ann.fit(X_train, y_train_hot, \n",
        "          validation_data=(X_val, y_val_hot),\n",
        "          epochs=num_epochs, batch_size=batch_size, \n",
        "          verbose=2)"
      ],
      "execution_count": 0,
      "outputs": []
    },
    {
      "cell_type": "markdown",
      "metadata": {
        "id": "3ibLtwIAIn5V",
        "colab_type": "text"
      },
      "source": [
        "---\n",
        "## Evaluasi Model\n"
      ]
    },
    {
      "cell_type": "code",
      "metadata": {
        "id": "VTD6WFU2In5W",
        "colab_type": "code",
        "colab": {}
      },
      "source": [
        "scores_ann = model_ann.evaluate(X_test, y_test_hot, verbose=1)\n",
        "print(\"\\nModel Accuracy: %.2f%%\" % (scores_ann[1]*100))"
      ],
      "execution_count": 0,
      "outputs": []
    },
    {
      "cell_type": "markdown",
      "metadata": {
        "colab_type": "text",
        "id": "ld_C6JC4olXG"
      },
      "source": [
        "---\n",
        "\n",
        "# Three-Layer Convolutional Neural Network\n",
        "Sebagai perbandingan, mari kita bangun Convolutional Neural Network yang juga hanya 3 layer\n"
      ]
    },
    {
      "cell_type": "markdown",
      "metadata": {
        "colab_type": "text",
        "id": "eTtsOpepolXN"
      },
      "source": [
        "---\n",
        "## Import Modul\n",
        "\n"
      ]
    },
    {
      "cell_type": "code",
      "metadata": {
        "colab_type": "code",
        "id": "mYdhz2T2olXS",
        "colab": {}
      },
      "source": [
        "from tensorflow.keras.layers import Conv2D\n",
        "from tensorflow.keras.layers import MaxPooling2D"
      ],
      "execution_count": 0,
      "outputs": []
    },
    {
      "cell_type": "markdown",
      "metadata": {
        "colab_type": "text",
        "id": "D_BNctCnolXZ"
      },
      "source": [
        "---\n",
        "## Model Neural Network\n"
      ]
    },
    {
      "cell_type": "code",
      "metadata": {
        "colab_type": "code",
        "id": "n7uDuN9BolXc",
        "colab": {}
      },
      "source": [
        "# create model compact sequential\n",
        "\n",
        "model_cnn = Sequential([\n",
        "  Conv2D(32,(5,5),input_shape=(28,28,1), padding='same', activation=\"relu\"),\n",
        "  Conv2D(32,(5,5), padding='same', activation=\"relu\"),\n",
        "  MaxPooling2D(),\n",
        "  Flatten(),\n",
        "  Dense(num_classes, activation=\"softmax\")\n",
        "])\n",
        "\n",
        "model_cnn.summary()"
      ],
      "execution_count": 0,
      "outputs": []
    },
    {
      "cell_type": "markdown",
      "metadata": {
        "colab_type": "text",
        "id": "DNJmngIeolXm"
      },
      "source": [
        "---\n",
        "## Melatih Model"
      ]
    },
    {
      "cell_type": "code",
      "metadata": {
        "colab_type": "code",
        "id": "j7-hIlWEolXo",
        "colab": {}
      },
      "source": [
        "# Compile model\n",
        "model_cnn.compile(loss='categorical_crossentropy', \n",
        "              optimizer='adam', metrics=['accuracy'])\n",
        "\n",
        "\n",
        "num_epochs = 15\n",
        "batch_size = 1000\n",
        "\n",
        "hist_cnn = model_cnn.fit(X_train, y_train_hot, \n",
        "          validation_data=(X_val, y_val_hot),\n",
        "          epochs=num_epochs, batch_size=batch_size, \n",
        "          verbose=2)"
      ],
      "execution_count": 0,
      "outputs": []
    },
    {
      "cell_type": "markdown",
      "metadata": {
        "colab_type": "text",
        "id": "0BUZEHLMolXr"
      },
      "source": [
        "---\n",
        "## Evaluasi Model\n"
      ]
    },
    {
      "cell_type": "code",
      "metadata": {
        "colab_type": "code",
        "id": "lAmucgajolXt",
        "colab": {}
      },
      "source": [
        "scores_cnn = model_cnn.evaluate(X_test, y_test_hot, verbose=1)\n",
        "print(\"\\nModel Accuracy: %.2f%%\" % (scores_cnn[1]*100))"
      ],
      "execution_count": 0,
      "outputs": []
    },
    {
      "cell_type": "markdown",
      "metadata": {
        "id": "NnkdHf-gsn3R",
        "colab_type": "text"
      },
      "source": [
        "---\n",
        "# Perbandingan ANN dan CNN\n",
        "\n",
        "Sekarang, mari kita investigasi performa ANN dan CNN"
      ]
    },
    {
      "cell_type": "markdown",
      "metadata": {
        "id": "_HIuWVyzssQ-",
        "colab_type": "text"
      },
      "source": [
        "---\n",
        "## Jumlah Parameter"
      ]
    },
    {
      "cell_type": "code",
      "metadata": {
        "id": "rucd-dstsrBF",
        "colab_type": "code",
        "colab": {}
      },
      "source": [
        "print('model ANN:')\n",
        "model_ann.summary()\n",
        "\n",
        "print('\\n\\nmodel CNN:')\n",
        "model_cnn.summary()"
      ],
      "execution_count": 0,
      "outputs": []
    },
    {
      "cell_type": "markdown",
      "metadata": {
        "id": "eHpXFyZdtaLJ",
        "colab_type": "text"
      },
      "source": [
        "**ANN memiliki parameter hingga 4x lebih banyak dari CNN**"
      ]
    },
    {
      "cell_type": "code",
      "metadata": {
        "id": "cJph5BbhszSz",
        "colab_type": "code",
        "colab": {}
      },
      "source": [
        "print('total parameter ANN:', f'{ model_ann.count_params():,}')\n",
        "print('total parameter CNN:', f'{ model_cnn.count_params():,}')"
      ],
      "execution_count": 0,
      "outputs": []
    },
    {
      "cell_type": "markdown",
      "metadata": {
        "id": "AAdNRfYCuJVB",
        "colab_type": "text"
      },
      "source": [
        "---\n",
        "## Grafik Hasil Pelatihan"
      ]
    },
    {
      "cell_type": "code",
      "metadata": {
        "id": "j6M2Nzr3uJ1S",
        "colab_type": "code",
        "colab": {}
      },
      "source": [
        "fig, ax = plt.subplots(1,3,figsize=(18,3))\n",
        "\n",
        "ax[0].plot(hist_ann.history['loss'])\n",
        "ax[0].plot(hist_cnn.history['loss'])\n",
        "ax[0].set_title('Train Loss')\n",
        "ax[0].set_ylabel('Loss')\n",
        "ax[0].set_xlabel('Epoch')\n",
        "ax[0].legend(['ANN', 'CNN'], loc='upper right')\n",
        "\n",
        "ax[1].plot(hist_ann.history['acc'])\n",
        "ax[1].plot(hist_cnn.history['acc'])\n",
        "ax[1].set_title('Train Accuracy')\n",
        "ax[1].set_ylabel('Accuracy')\n",
        "ax[1].set_xlabel('Epoch')\n",
        "ax[1].set_ylim(bottom=.7)\n",
        "ax[1].legend(['ANN', 'CNN'], loc='lower right')\n",
        "\n",
        "ax[2].plot(hist_ann.history['val_acc'])\n",
        "ax[2].plot(hist_cnn.history['val_acc'])\n",
        "ax[2].set_title('Validation Accuracy')\n",
        "ax[2].set_ylabel('Accuracy')\n",
        "ax[2].set_xlabel('Epoch')\n",
        "ax[2].set_ylim(bottom=.7)\n",
        "ax[2].legend(['ANN', 'CNN'], loc='lower right')\n",
        "plt.show()"
      ],
      "execution_count": 0,
      "outputs": []
    },
    {
      "cell_type": "markdown",
      "metadata": {
        "id": "UiN4exlAtfly",
        "colab_type": "text"
      },
      "source": [
        "---\n",
        "## Akurasi Data Uji"
      ]
    },
    {
      "cell_type": "code",
      "metadata": {
        "id": "RAbAilYSt0pD",
        "colab_type": "code",
        "colab": {}
      },
      "source": [
        "print(\"Akurasi ANN: %.2f%%\" % (scores_ann[1]*100))\n",
        "print(\"Akurasi CNN: %.2f%%\" % (scores_cnn[1]*100))"
      ],
      "execution_count": 0,
      "outputs": []
    },
    {
      "cell_type": "markdown",
      "metadata": {
        "id": "NfOgnKWBzs1L",
        "colab_type": "text"
      },
      "source": [
        "---\n",
        "## Pengecekan Overfitting"
      ]
    },
    {
      "cell_type": "code",
      "metadata": {
        "id": "_B364ZEqzNw2",
        "colab_type": "code",
        "colab": {}
      },
      "source": [
        "fig, ax = plt.subplots(1,2,figsize=(10,3))\n",
        "\n",
        "ax[0].plot(hist_ann.history['acc'])\n",
        "ax[0].plot(hist_ann.history['val_acc'])\n",
        "ax[0].set_title('ANN Accuracy')\n",
        "ax[0].set_ylabel('Accuracy')\n",
        "ax[0].set_xlabel('Epoch')\n",
        "ax[0].set_ylim(bottom=.7)\n",
        "ax[0].legend(['train', 'val'], loc='lower right')\n",
        "\n",
        "ax[1].plot(hist_cnn.history['acc'])\n",
        "ax[1].plot(hist_cnn.history['val_acc'])\n",
        "ax[1].set_title('CNN Accuracy')\n",
        "ax[1].set_ylabel('Accuracy')\n",
        "ax[1].set_xlabel('Epoch')\n",
        "ax[1].set_ylim(bottom=.7)\n",
        "ax[1].legend(['train', 'val'], loc='lower right')\n",
        "plt.show()"
      ],
      "execution_count": 0,
      "outputs": []
    },
    {
      "cell_type": "markdown",
      "metadata": {
        "id": "W4rIhU_-8-E_",
        "colab_type": "text"
      },
      "source": [
        "Makin besar gap antara akurasi training dan validasi menandakan makin rentan terhadap overfitting"
      ]
    },
    {
      "cell_type": "markdown",
      "metadata": {
        "id": "VI0QLlzQ291a",
        "colab_type": "text"
      },
      "source": [
        "---\n",
        "# Kesimpulan\n",
        "* CNN memiliki parameter yang jauh lebih sedikit dari ANN, namun memiliki akurasi akhir yang lebih baik\n",
        "* CNN Lebih tangguh terhadap *Overfitting*"
      ]
    },
    {
      "cell_type": "markdown",
      "metadata": {
        "id": "uB_ojCQ6zmKS",
        "colab_type": "text"
      },
      "source": [
        "<p>Copyright &copy; 2019 <a href=https://www.linkedin.com/in/andityaarifianto/>ADF</a> </p>"
      ]
    }
  ]
}