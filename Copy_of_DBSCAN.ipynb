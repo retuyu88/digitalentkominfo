{
  "nbformat": 4,
  "nbformat_minor": 0,
  "metadata": {
    "colab": {
      "name": "Copy of DBSCAN.ipynb",
      "version": "0.3.2",
      "provenance": [],
      "collapsed_sections": [],
      "include_colab_link": true
    },
    "kernelspec": {
      "name": "python3",
      "display_name": "Python 3"
    }
  },
  "cells": [
    {
      "cell_type": "markdown",
      "metadata": {
        "id": "view-in-github",
        "colab_type": "text"
      },
      "source": [
        "<a href=\"https://colab.research.google.com/github/retuyu88/digitalentkominfo/blob/master/Copy_of_DBSCAN.ipynb\" target=\"_parent\"><img src=\"https://colab.research.google.com/assets/colab-badge.svg\" alt=\"Open In Colab\"/></a>"
      ]
    },
    {
      "cell_type": "code",
      "metadata": {
        "id": "lf-AcG4YR1iA",
        "colab_type": "code",
        "colab": {}
      },
      "source": [
        "import numpy as np\n",
        "import matplotlib.pyplot as plt\n",
        "from sklearn import datasets\n",
        "from sklearn.datasets.samples_generator import make_blobs"
      ],
      "execution_count": 0,
      "outputs": []
    },
    {
      "cell_type": "code",
      "metadata": {
        "id": "b8yLIudBlO8p",
        "colab_type": "code",
        "colab": {}
      },
      "source": [
        "X, y = make_blobs(n_samples=1000, centers=3, cluster_std=0.5, random_state=0)"
      ],
      "execution_count": 0,
      "outputs": []
    },
    {
      "cell_type": "code",
      "metadata": {
        "id": "RhtBpeG0l_vC",
        "colab_type": "code",
        "colab": {}
      },
      "source": [
        "plt.figure(figsize=(20,8))\n",
        "plt.scatter(X[:, 0], X[:, 1], s=15)"
      ],
      "execution_count": 0,
      "outputs": []
    },
    {
      "cell_type": "code",
      "metadata": {
        "id": "kEJDfw4WRKub",
        "colab_type": "code",
        "colab": {}
      },
      "source": [
        "def growCluster(D, labels, P, NeighborPts, C, eps, MinPts):\n",
        "    \"\"\"\n",
        "    Grow a new cluster with label `C` from the seed point `P`.\n",
        "    \n",
        "    This function searches through the dataset to find all points that belong\n",
        "    to this new cluster. When this function returns, cluster `C` is complete.\n",
        "    \n",
        "    Parameters:\n",
        "      `D`      - The dataset (a list of vectors)\n",
        "      `labels` - List storing the cluster labels for all dataset points\n",
        "      `P`      - Index of the seed point for this new cluster\n",
        "      `NeighborPts` - All of the neighbors of `P`\n",
        "      `C`      - The label for this new cluster.  \n",
        "      `eps`    - Threshold distance\n",
        "      `MinPts` - Minimum required number of neighbors\n",
        "    \"\"\"\n",
        "\n",
        "    # Assign the cluster label to the seed point.\n",
        "    labels[P] = C\n",
        "    \n",
        "    # Look at each neighbor of P (neighbors are referred to as Pn). \n",
        "    # NeighborPts will be used as a FIFO queue of points to search--that is, it\n",
        "    # will grow as we discover new branch points for the cluster. The FIFO\n",
        "    # behavior is accomplished by using a while-loop rather than a for-loop.\n",
        "    # In NeighborPts, the points are represented by their index in the original\n",
        "    # dataset.\n",
        "    i = 0\n",
        "    while i < len(NeighborPts):    \n",
        "        \n",
        "        # Get the next point from the queue.        \n",
        "        Pn = NeighborPts[i]\n",
        "       \n",
        "        # If Pn was labelled NOISE during the seed search, then we\n",
        "        # know it's not a branch point (it doesn't have enough neighbors), so\n",
        "        # make it a leaf point of cluster C and move on.\n",
        "        if labels[Pn] == -1:\n",
        "           labels[Pn] = C\n",
        "        \n",
        "        # Otherwise, if Pn isn't already claimed, claim it as part of C.\n",
        "        elif labels[Pn] == 0:\n",
        "            # Add Pn to cluster C (Assign cluster label C).\n",
        "            labels[Pn] = C\n",
        "            \n",
        "            # Find all the neighbors of Pn\n",
        "            PnNeighborPts = regionQuery(D, Pn, eps)\n",
        "            \n",
        "            # If Pn has at least MinPts neighbors, it's a branch point!\n",
        "            # Add all of its neighbors to the FIFO queue to be searched. \n",
        "            if len(PnNeighborPts) >= MinPts:\n",
        "                NeighborPts = NeighborPts + PnNeighborPts\n",
        "            # If Pn *doesn't* have enough neighbors, then it's a leaf point.\n",
        "            # Don't queue up it's neighbors as expansion points.\n",
        "            #else:\n",
        "                # Do nothing                \n",
        "                #NeighborPts = NeighborPts               \n",
        "        \n",
        "        # Advance to the next point in the FIFO queue.\n",
        "        i += 1        \n",
        "    \n",
        "    # We've finished growing cluster C!"
      ],
      "execution_count": 0,
      "outputs": []
    },
    {
      "cell_type": "code",
      "metadata": {
        "id": "hCHXbvRYRMIp",
        "colab_type": "code",
        "colab": {}
      },
      "source": [
        "def regionQuery(D, P, eps):\n",
        "    \"\"\"\n",
        "    Find all points in dataset `D` within distance `eps` of point `P`.\n",
        "    \n",
        "    This function calculates the distance between a point P and every other \n",
        "    point in the dataset, and then returns only those points which are within a\n",
        "    threshold distance `eps`.\n",
        "    \"\"\"\n",
        "    neighbors = []\n",
        "    \n",
        "    # For each point in the dataset...\n",
        "    for Pn in range(0, len(D)):\n",
        "        \n",
        "        # If the distance is below the threshold, add it to the neighbors list.\n",
        "        if np.linalg.norm(D[P] - D[Pn]) < eps:\n",
        "           neighbors.append(Pn)\n",
        "            \n",
        "    return neighbors"
      ],
      "execution_count": 0,
      "outputs": []
    },
    {
      "cell_type": "code",
      "metadata": {
        "id": "eoV2hGsCB3zU",
        "colab_type": "code",
        "colab": {}
      },
      "source": [
        "\n",
        "def MyDBSCAN(D, eps, MinPts):\n",
        "    \"\"\"\n",
        "    Cluster the dataset `D` using the DBSCAN algorithm.\n",
        "    \n",
        "    MyDBSCAN takes a dataset `D` (a list of vectors), a threshold distance\n",
        "    `eps`, and a required number of points `MinPts`.\n",
        "    \n",
        "    It will return a list of cluster labels. The label -1 means noise, and then\n",
        "    the clusters are numbered starting from 1.\n",
        "    \"\"\"\n",
        " \n",
        "    # This list will hold the final cluster assignment for each point in D.\n",
        "    # There are two reserved values:\n",
        "    #    -1 - Indicates a noise point\n",
        "    #     0 - Means the point hasn't been considered yet.\n",
        "    # Initially all labels are 0.    \n",
        "    labels = [0]*len(D)\n",
        "\n",
        "    # C is the ID of the current cluster.    \n",
        "    C = 0\n",
        "    \n",
        "    # This outer loop is just responsible for picking new seed points--a point\n",
        "    # from which to grow a new cluster.\n",
        "    # Once a valid seed point is found, a new cluster is created, and the \n",
        "    # cluster growth is all handled by the 'expandCluster' routine.\n",
        "    \n",
        "    # For each point P in the Dataset D...\n",
        "    # ('P' is the index of the datapoint, rather than the datapoint itself.)\n",
        "    for P in range(0, len(D)):\n",
        "    \n",
        "        # Only points that have not already been claimed can be picked as new \n",
        "        # seed points.    \n",
        "        # If the point's label is not 0, continue to the next point.\n",
        "        if not (labels[P] == 0):\n",
        "           continue\n",
        "        \n",
        "        # Find all of P's neighboring points.\n",
        "        NeighborPts = regionQuery(D, P, eps)\n",
        "        \n",
        "        # If the number is below MinPts, this point is noise. \n",
        "        # This is the only condition under which a point is labeled \n",
        "        # NOISE--when it's not a valid seed point. A NOISE point may later \n",
        "        # be picked up by another cluster as a boundary point (this is the only\n",
        "        # condition under which a cluster label can change--from NOISE to \n",
        "        # something else).\n",
        "        if len(NeighborPts) < MinPts:\n",
        "            labels[P] = -1\n",
        "        # Otherwise, if there are at least MinPts nearby, use this point as the \n",
        "        # seed for a new cluster.    \n",
        "        else: \n",
        "          C += 1\n",
        "          growCluster(D, labels, P, NeighborPts, C, eps, MinPts)\n",
        "    \n",
        "    # All data has been clustered!\n",
        "    return labels\n",
        "\n"
      ],
      "execution_count": 0,
      "outputs": []
    },
    {
      "cell_type": "code",
      "metadata": {
        "id": "iPF1_O3KVvYN",
        "colab_type": "code",
        "colab": {}
      },
      "source": [
        "plt.figure(figsize=(20,8))\n",
        "plt.scatter(X[cluster==1,0], X[cluster==1,1], s=15, c='red')\n",
        "plt.scatter(X[cluster==2,0], X[cluster==2,1], s=15, c='green')\n",
        "plt.scatter(X[cluster==3,0], X[cluster==3,1], s=15, c='orange')\n",
        "plt.show()"
      ],
      "execution_count": 0,
      "outputs": []
    },
    {
      "cell_type": "code",
      "metadata": {
        "id": "e12nibIHDgQP",
        "colab_type": "code",
        "colab": {}
      },
      "source": [
        "x1 = [1,1,1,1,1,1,1,2,2,2,2,3,3,3,3,4,4,4,4,5,5,5,5,3,4,5]\n",
        "x2 = [2,3,4,5,6,7,8,2,3,7,8,2,3,7,8,2,3,7,8,2,3,7,8,5,5,5]\n",
        "a = {'x1':x1,'x2':x2}\n",
        "df = pd.DataFrame(a)"
      ],
      "execution_count": 0,
      "outputs": []
    },
    {
      "cell_type": "code",
      "metadata": {
        "id": "ts3Y8iLz8CGW",
        "colab_type": "code",
        "colab": {}
      },
      "source": [
        "#menggunakan K DBSCAN"
      ],
      "execution_count": 0,
      "outputs": []
    },
    {
      "cell_type": "code",
      "metadata": {
        "id": "5O1bAPNoC9o-",
        "colab_type": "code",
        "colab": {}
      },
      "source": [
        "labels = MyDBSCAN(df,2,4)\n",
        "cluster=np.array(labels)\n",
        "cluster"
      ],
      "execution_count": 0,
      "outputs": []
    },
    {
      "cell_type": "code",
      "metadata": {
        "id": "OpkC9ToJ5lm7",
        "colab_type": "code",
        "colab": {}
      },
      "source": [
        "#menggunaakan K means\n",
        "\n"
      ],
      "execution_count": 0,
      "outputs": []
    },
    {
      "cell_type": "code",
      "metadata": {
        "id": "dWhMzlp7Cc8V",
        "colab_type": "code",
        "colab": {
          "base_uri": "https://localhost:8080/",
          "height": 286
        },
        "outputId": "e8d1f5e4-6ca7-4c0d-aeca-7712e42f057c"
      },
      "source": [
        "import matplotlib.pyplot as plt\n",
        "%matplotlib inline\n",
        "# plt.figure(figsize=(10,10))\n",
        "plt.style.use('ggplot')\n",
        "\n",
        "plt.scatter(df['x1'].values, df['x2'].values, c='black', s=2)"
      ],
      "execution_count": 52,
      "outputs": [
        {
          "output_type": "execute_result",
          "data": {
            "text/plain": [
              "<matplotlib.collections.PathCollection at 0x7f49fbceac88>"
            ]
          },
          "metadata": {
            "tags": []
          },
          "execution_count": 52
        },
        {
          "output_type": "display_data",
          "data": {
            "image/png": "[encoded data removed]",
            "text/plain": [
              "<Figure size 432x288 with 1 Axes>"
            ]
          },
          "metadata": {
            "tags": []
          }
        }
      ]
    },
    {
      "cell_type": "code",
      "metadata": {
        "id": "rDL1W-emA19M",
        "colab_type": "code",
        "colab": {}
      },
      "source": [
        "from sklearn.cluster import KMeans\n",
        "from copy import deepcopy\n",
        "import numpy as np\n",
        "import pandas as pd\n",
        "k = 2\n",
        "def dist(a, b, ax=1):\n",
        "    return np.linalg.norm(a - b, axis=ax) # ye\n",
        "# Create Kmeans Model\n",
        "kmeans = KMeans(n_clusters=2)\n",
        "# Train using all the data\n",
        "kmeans = kmeans.fit(df.values)\n",
        "# Get the cluster labels\n",
        "labels = kmeans.predict(df.values)\n",
        "# Get the centroid values\n",
        "centroids = kmeans.cluster_centers_"
      ],
      "execution_count": 0,
      "outputs": []
    },
    {
      "cell_type": "code",
      "metadata": {
        "id": "uxH9cbdIBGu2",
        "colab_type": "code",
        "colab": {
          "base_uri": "https://localhost:8080/",
          "height": 286
        },
        "outputId": "7d622948-6b75-4db7-e58b-cfa9f26ae697"
      },
      "source": [
        "data_label = np.zeros(len(df))\n",
        "for i in range(len(df)):\n",
        "    distances = dist(df.iloc[i].values, centroids)\n",
        "    label = np.argmin(distances)\n",
        "    data_label[i] = label\n",
        "\n",
        "colors = ['r', 'g', 'b', 'c', 'm', 'y']\n",
        "fig, ax = plt.subplots()\n",
        "for i in range(k):\n",
        "        points = np.array([df.iloc[j].values for j in range(len(df)) if data_label[j] == i])\n",
        "        ax.scatter(points[:, 0], points[:, 1], s=2, c=colors[i])\n",
        "ax.scatter(centroids[:, 0], centroids[:, 1], marker='*', s=400, c='k')"
      ],
      "execution_count": 53,
      "outputs": [
        {
          "output_type": "execute_result",
          "data": {
            "text/plain": [
              "<matplotlib.collections.PathCollection at 0x7f49fbc5f748>"
            ]
          },
          "metadata": {
            "tags": []
          },
          "execution_count": 53
        },
        {
          "output_type": "display_data",
          "data": {
            "image/png": "[encoded data removed]",
            "text/plain": [
              "<Figure size 432x288 with 1 Axes>"
            ]
          },
          "metadata": {
            "tags": []
          }
        }
      ]
    }
  ]
}