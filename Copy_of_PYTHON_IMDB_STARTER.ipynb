{
  "nbformat": 4,
  "nbformat_minor": 0,
  "metadata": {
    "colab": {
      "name": "Copy of PYTHON_IMDB_STARTER.ipynb",
      "version": "0.3.2",
      "provenance": [],
      "include_colab_link": true
    },
    "language_info": {
      "codemirror_mode": {
        "name": "ipython",
        "version": 3
      },
      "file_extension": ".py",
      "mimetype": "text/x-python",
      "name": "python",
      "nbconvert_exporter": "python",
      "pygments_lexer": "ipython3",
      "version": "3.6.8"
    },
    "kernelspec": {
      "display_name": "Python 3",
      "language": "python",
      "name": "python3"
    }
  },
  "cells": [
    {
      "cell_type": "markdown",
      "metadata": {
        "id": "view-in-github",
        "colab_type": "text"
      },
      "source": [
        "<a href=\"https://colab.research.google.com/github/retuyu88/digitalentkominfo/blob/master/Copy_of_PYTHON_IMDB_STARTER.ipynb\" target=\"_parent\"><img src=\"https://colab.research.google.com/assets/colab-badge.svg\" alt=\"Open In Colab\"/></a>"
      ]
    },
    {
      "cell_type": "code",
      "metadata": {
        "id": "Sn_mIWFdA_s1",
        "colab_type": "code",
        "colab": {}
      },
      "source": [
        "# Dictionary of movies\n",
        "\n",
        "movies = [\n",
        "{\n",
        "\"name\": \"Usual Suspects\", \n",
        "\"imdb\": 7.0,\n",
        "\"category\": \"Thriller\"\n",
        "},\n",
        "{\n",
        "\"name\": \"Hitman\",\n",
        "\"imdb\": 6.3,\n",
        "\"category\": \"Action\"\n",
        "},\n",
        "{\n",
        "\"name\": \"Dark Knight\",\n",
        "\"imdb\": 9.0,\n",
        "\"category\": \"Adventure\"\n",
        "},\n",
        "{\n",
        "\"name\": \"The Help\",\n",
        "\"imdb\": 8.0,\n",
        "\"category\": \"Drama\"\n",
        "},\n",
        "{\n",
        "\"name\": \"The Choice\",\n",
        "\"imdb\": 6.2,\n",
        "\"category\": \"Romance\"\n",
        "},\n",
        "{\n",
        "\"name\": \"Colonia\",\n",
        "\"imdb\": 7.4,\n",
        "\"category\": \"Romance\"\n",
        "},\n",
        "{\n",
        "\"name\": \"Love\",\n",
        "\"imdb\": 6.0,\n",
        "\"category\": \"Romance\"\n",
        "},\n",
        "{\n",
        "\"name\": \"Bride Wars\",\n",
        "\"imdb\": 5.4,\n",
        "\"category\": \"Romance\"\n",
        "},\n",
        "{\n",
        "\"name\": \"AlphaJet\",\n",
        "\"imdb\": 3.2,\n",
        "\"category\": \"War\"\n",
        "},\n",
        "{\n",
        "\"name\": \"Ringing Crime\",\n",
        "\"imdb\": 4.0,\n",
        "\"category\": \"Crime\"\n",
        "},\n",
        "{\n",
        "\"name\": \"Joking muck\",\n",
        "\"imdb\": 7.2,\n",
        "\"category\": \"Comedy\"\n",
        "},\n",
        "{\n",
        "\"name\": \"What is the name\",\n",
        "\"imdb\": 9.2,\n",
        "\"category\": \"Suspense\"\n",
        "},\n",
        "{\n",
        "\"name\": \"Detective\",\n",
        "\"imdb\": 7.0,\n",
        "\"category\": \"Suspense\"\n",
        "},\n",
        "{\n",
        "\"name\": \"Exam\",\n",
        "\"imdb\": 4.2,\n",
        "\"category\": \"Thriller\"\n",
        "},\n",
        "{\n",
        "\"name\": \"We Two\",\n",
        "\"imdb\": 7.2,\n",
        "\"category\": \"Romance\"\n",
        "}\n",
        "]"
      ],
      "execution_count": 0,
      "outputs": []
    },
    {
      "cell_type": "code",
      "metadata": {
        "id": "-hHAWEDPA_s4",
        "colab_type": "code",
        "colab": {
          "base_uri": "https://localhost:8080/",
          "height": 51
        },
        "outputId": "f530567e-42b9-46d6-ae3d-0170eb01e1dd"
      },
      "source": [
        "# Write a function that takes a single movie and \n",
        "# returns True if its IMDB score is above 5.5\n",
        "def check_movie(dict):\n",
        "  for i in dict:\n",
        "    if i['imdb'] > 5.5:\n",
        "      print(i['name'])\n",
        "      return True\n",
        "    \n",
        "check_movie(movies)\n",
        "\n"
      ],
      "execution_count": 42,
      "outputs": [
        {
          "output_type": "stream",
          "text": [
            "Usual Suspects\n"
          ],
          "name": "stdout"
        },
        {
          "output_type": "execute_result",
          "data": {
            "text/plain": [
              "True"
            ]
          },
          "metadata": {
            "tags": []
          },
          "execution_count": 42
        }
      ]
    },
    {
      "cell_type": "code",
      "metadata": {
        "id": "J2rq00qAA_s6",
        "colab_type": "code",
        "colab": {
          "base_uri": "https://localhost:8080/",
          "height": 204
        },
        "outputId": "e0c42e80-1e47-44a9-8c3a-b5decb1bb150"
      },
      "source": [
        "# Write a function that returns a sublist of movies \n",
        "# with an IMDB score above 5.5. \n",
        "def sublist_movie(movie):\n",
        "  for i in movie:\n",
        "    if i['imdb'] > 5.5:\n",
        "      print(i)\n",
        "      \n",
        "sublist_movie(movies)"
      ],
      "execution_count": 27,
      "outputs": [
        {
          "output_type": "stream",
          "text": [
            "{'name': 'Usual Suspects', 'imdb': 7.0, 'category': 'Thriller'}\n",
            "{'name': 'Hitman', 'imdb': 6.3, 'category': 'Action'}\n",
            "{'name': 'Dark Knight', 'imdb': 9.0, 'category': 'Adventure'}\n",
            "{'name': 'The Help', 'imdb': 8.0, 'category': 'Drama'}\n",
            "{'name': 'The Choice', 'imdb': 6.2, 'category': 'Romance'}\n",
            "{'name': 'Colonia', 'imdb': 7.4, 'category': 'Romance'}\n",
            "{'name': 'Love', 'imdb': 6.0, 'category': 'Romance'}\n",
            "{'name': 'Joking muck', 'imdb': 7.2, 'category': 'Comedy'}\n",
            "{'name': 'What is the name', 'imdb': 9.2, 'category': 'Suspense'}\n",
            "{'name': 'Detective', 'imdb': 7.0, 'category': 'Suspense'}\n",
            "{'name': 'We Two', 'imdb': 7.2, 'category': 'Romance'}\n"
          ],
          "name": "stdout"
        }
      ]
    },
    {
      "cell_type": "code",
      "metadata": {
        "id": "OZhTtl1xA_s8",
        "colab_type": "code",
        "colab": {
          "base_uri": "https://localhost:8080/",
          "height": 102
        },
        "outputId": "a574cadb-a089-4782-a514-db3ecebe892c"
      },
      "source": [
        "# Write a function that takes a category name and returns \n",
        "# just those movies under that category.\n",
        "def category(movies,category):\n",
        "  for i in movies:\n",
        "    if i['category'] == category:\n",
        "      print(i['name'],'bergenre ', i['category'])\n",
        "      \n",
        "category(movies,'Romance')\n"
      ],
      "execution_count": 71,
      "outputs": [
        {
          "output_type": "stream",
          "text": [
            "The Choice bergenre  Romance\n",
            "Colonia bergenre  Romance\n",
            "Love bergenre  Romance\n",
            "Bride Wars bergenre  Romance\n",
            "We Two bergenre  Romance\n"
          ],
          "name": "stdout"
        }
      ]
    },
    {
      "cell_type": "code",
      "metadata": {
        "id": "yOqomT_7A_s-",
        "colab_type": "code",
        "colab": {
          "base_uri": "https://localhost:8080/",
          "height": 34
        },
        "outputId": "9656976f-c984-45ff-f5cc-0d52fda82730"
      },
      "source": [
        "# Write a function that takes a list of movies and computes \n",
        "# the average IMDB score.\n",
        "def avg():\n",
        "  total = 0\n",
        "  for i in movies:\n",
        "    total = i['imdb'] + total\n",
        "  a = total/len(movies)\n",
        "  return a\n",
        "\n",
        "avg()"
      ],
      "execution_count": 76,
      "outputs": [
        {
          "output_type": "execute_result",
          "data": {
            "text/plain": [
              "6.486666666666667"
            ]
          },
          "metadata": {
            "tags": []
          },
          "execution_count": 76
        }
      ]
    },
    {
      "cell_type": "code",
      "metadata": {
        "id": "Ks1zv88gA_s_",
        "colab_type": "code",
        "colab": {
          "base_uri": "https://localhost:8080/",
          "height": 68
        },
        "outputId": "ada11f9e-da36-4b72-8878-7bc3861a8185"
      },
      "source": [
        "# Write a function that takes a category and computes \n",
        "# the average IMDB score (HINT: reuse the function \n",
        "# from question 2.)\n",
        "def category_avg(category):\n",
        "  total = 0\n",
        "  count = 0\n",
        "  for i in movies:\n",
        "    if i['category'] == category:\n",
        "      total = i['imdb'] + total\n",
        "      print(i['name'],i['imdb'])\n",
        "      count = count+1\n",
        "  a = total/count\n",
        "  return a\n",
        "      \n",
        "category_avg('Suspense')"
      ],
      "execution_count": 77,
      "outputs": [
        {
          "output_type": "stream",
          "text": [
            "What is the name 9.2\n",
            "Detective 7.0\n"
          ],
          "name": "stdout"
        },
        {
          "output_type": "execute_result",
          "data": {
            "text/plain": [
              "8.1"
            ]
          },
          "metadata": {
            "tags": []
          },
          "execution_count": 77
        }
      ]
    },
    {
      "cell_type": "code",
      "metadata": {
        "id": "7yCOJUaTOQu8",
        "colab_type": "code",
        "colab": {}
      },
      "source": [
        ""
      ],
      "execution_count": 0,
      "outputs": []
    }
  ]
}