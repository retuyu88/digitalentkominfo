{
  "nbformat": 4,
  "nbformat_minor": 0,
  "metadata": {
    "colab": {
      "name": "Copy of [27 1] CNN vs ANN Fashion MNIST - ADF",
      "version": "0.3.2",
      "provenance": [],
      "collapsed_sections": [],
      "toc_visible": true,
      "include_colab_link": true
    },
    "kernelspec": {
      "name": "python3",
      "display_name": "Python 3"
    },
    "accelerator": "GPU"
  },
  "cells": [
    {
      "cell_type": "markdown",
      "metadata": {
        "id": "view-in-github",
        "colab_type": "text"
      },
      "source": [
        "<a href=\"https://colab.research.google.com/github/retuyu88/digitalentkominfo/blob/master/Copy_of_%5B27_1%5D_CNN_vs_ANN_Fashion_MNIST_ADF.ipynb\" target=\"_parent\"><img src=\"https://colab.research.google.com/assets/colab-badge.svg\" alt=\"Open In Colab\"/></a>"
      ]
    },
    {
      "cell_type": "markdown",
      "metadata": {
        "id": "EfwbLGN0zdro",
        "colab_type": "text"
      },
      "source": [
        "<img src = \"https://i.imgur.com/UjutVJd.jpg\" align = \"center\">"
      ]
    },
    {
      "cell_type": "markdown",
      "metadata": {
        "id": "Kdq4txp6In1H",
        "colab_type": "text"
      },
      "source": [
        "---\n",
        "# Dataset Fashion-MNIST\n",
        "\n",
        "\n",
        "Jangan lupa, pastikan Colab ini berjalan dengan GPU\n"
      ]
    },
    {
      "cell_type": "code",
      "metadata": {
        "id": "GrnacNg8In1K",
        "colab_type": "code",
        "colab": {}
      },
      "source": [
        "import numpy as np\n",
        "import matplotlib.pyplot as plt\n",
        "%matplotlib inline\n",
        "\n",
        "np.set_printoptions(precision=7)"
      ],
      "execution_count": 0,
      "outputs": []
    },
    {
      "cell_type": "markdown",
      "metadata": {
        "id": "tz9rpwvIIn1T",
        "colab_type": "text"
      },
      "source": [
        "---\n",
        "## Load Dataset FMNIST\n",
        "\n",
        "\n",
        "\n"
      ]
    },
    {
      "cell_type": "code",
      "metadata": {
        "id": "e9lcWKk9In1U",
        "colab_type": "code",
        "colab": {
          "base_uri": "https://localhost:8080/",
          "height": 221
        },
        "outputId": "7f2df626-ad16-46b8-c5a8-d70d3c1cf39c"
      },
      "source": [
        "import tensorflow as tf\n",
        "\n",
        "(X_train, y_train), (X_test, y_test) = tf.keras.datasets.fashion_mnist.load_data()\n",
        "\n",
        "print('X_train.shape =',X_train.shape)\n",
        "print('y_train.shape =',y_train.shape)\n",
        "print('X_test.shape  =',X_test.shape)\n",
        "print('y_test.shape  =',y_test.shape)"
      ],
      "execution_count": 2,
      "outputs": [
        {
          "output_type": "stream",
          "text": [
            "Downloading data from https://storage.googleapis.com/tensorflow/tf-keras-datasets/train-labels-idx1-ubyte.gz\n",
            "32768/29515 [=================================] - 0s 0us/step\n",
            "Downloading data from https://storage.googleapis.com/tensorflow/tf-keras-datasets/train-images-idx3-ubyte.gz\n",
            "26427392/26421880 [==============================] - 1s 0us/step\n",
            "Downloading data from https://storage.googleapis.com/tensorflow/tf-keras-datasets/t10k-labels-idx1-ubyte.gz\n",
            "8192/5148 [===============================================] - 0s 0us/step\n",
            "Downloading data from https://storage.googleapis.com/tensorflow/tf-keras-datasets/t10k-images-idx3-ubyte.gz\n",
            "4423680/4422102 [==============================] - 0s 0us/step\n",
            "X_train.shape = (60000, 28, 28)\n",
            "y_train.shape = (60000,)\n",
            "X_test.shape  = (10000, 28, 28)\n",
            "y_test.shape  = (10000,)\n"
          ],
          "name": "stdout"
        }
      ]
    },
    {
      "cell_type": "markdown",
      "metadata": {
        "id": "9rhC32AWIn1Z",
        "colab_type": "text"
      },
      "source": [
        "---\n",
        "## Visualisasi Data FMNIST\n"
      ]
    },
    {
      "cell_type": "code",
      "metadata": {
        "id": "Zk4QVV87In1b",
        "colab_type": "code",
        "colab": {
          "base_uri": "https://localhost:8080/",
          "height": 269
        },
        "outputId": "dcdf70bf-f99a-4052-f849-e09d27f4bb5b"
      },
      "source": [
        "fig, ax = plt.subplots(2,10,figsize=(15,4.5))\n",
        "fig.subplots_adjust(hspace=0.1, wspace=0.1)\n",
        "for j in range(0,2):\n",
        "    for i in range(0, 10):\n",
        "        ax[j,i].imshow(X_train[i+j*10], cmap='gray')\n",
        "        ax[j,i].set_title(y_train[i+j*10])\n",
        "        ax[j,i].axis('off')\n",
        "plt.show()"
      ],
      "execution_count": 3,
      "outputs": [
        {
          "output_type": "display_data",
          "data": {
            "image/png": "[encoded data removed]",
            "text/plain": [
              "<Figure size 1080x324 with 20 Axes>"
            ]
          },
          "metadata": {
            "tags": []
          }
        }
      ]
    },
    {
      "cell_type": "markdown",
      "metadata": {
        "id": "uhUO9G5MIn1g",
        "colab_type": "text"
      },
      "source": [
        "---\n",
        "## Bagi Data Validasi\n",
        "Ambil 10,000 data terakhir dari data latih menjadi data Validasi di dalam matrix `X_val` dan `y_val`"
      ]
    },
    {
      "cell_type": "code",
      "metadata": {
        "id": "oCSjAqPzIn1i",
        "colab_type": "code",
        "colab": {
          "base_uri": "https://localhost:8080/",
          "height": 85
        },
        "outputId": "d5bf19d9-af83-4dbb-84c3-4567c7a647e8"
      },
      "source": [
        "X_val = X_train[-10000:,:]\n",
        "y_val = y_train[-10000:]\n",
        "\n",
        "X_train = X_train[:-10000, :]\n",
        "y_train = y_train[:-10000]\n",
        "\n",
        "print('X_val.shape   =',X_val.shape)\n",
        "print('y_val.shape   =',y_val.shape)\n",
        "print('X_train.shape =',X_train.shape)\n",
        "print('y_train.shape =',y_train.shape)"
      ],
      "execution_count": 4,
      "outputs": [
        {
          "output_type": "stream",
          "text": [
            "X_val.shape   = (10000, 28, 28)\n",
            "y_val.shape   = (10000,)\n",
            "X_train.shape = (50000, 28, 28)\n",
            "y_train.shape = (50000,)\n"
          ],
          "name": "stdout"
        }
      ]
    },
    {
      "cell_type": "markdown",
      "metadata": {
        "id": "ZonG85IOIn1o",
        "colab_type": "text"
      },
      "source": [
        "---\n",
        "## Normalizing Data"
      ]
    },
    {
      "cell_type": "code",
      "metadata": {
        "id": "yfEl2gZJIn1p",
        "colab_type": "code",
        "colab": {
          "base_uri": "https://localhost:8080/",
          "height": 68
        },
        "outputId": "cea9b23d-b041-4981-87bf-6b1329d7bf07"
      },
      "source": [
        "X_train = X_train.astype('float32')\n",
        "X_val = X_val.astype('float32')\n",
        "X_test = X_test.astype('float32')\n",
        "\n",
        "# mean_image = np.mean(X_train, axis = 0)\n",
        "# X_train -= mean_image\n",
        "# X_val -= mean_image\n",
        "# X_test -= mean_image\n",
        "\n",
        "X_train = np.expand_dims(X_train,-1)\n",
        "X_val = np.expand_dims(X_val,-1)\n",
        "X_test = np.expand_dims(X_test,-1)\n",
        "\n",
        "print('X_train.shape =',X_train.shape)\n",
        "print('X_val.shape   =',X_val.shape)\n",
        "print('X_test.shape  =',X_test.shape)\n"
      ],
      "execution_count": 5,
      "outputs": [
        {
          "output_type": "stream",
          "text": [
            "X_train.shape = (50000, 28, 28, 1)\n",
            "X_val.shape   = (10000, 28, 28, 1)\n",
            "X_test.shape  = (10000, 28, 28, 1)\n"
          ],
          "name": "stdout"
        }
      ]
    },
    {
      "cell_type": "markdown",
      "metadata": {
        "id": "rQohd54TIn1x",
        "colab_type": "text"
      },
      "source": [
        "---\n",
        "## One Hot Matrix\n",
        "\n"
      ]
    },
    {
      "cell_type": "markdown",
      "metadata": {
        "id": "kveJWXJYIn14",
        "colab_type": "text"
      },
      "source": [
        " Ubah vektor target `y_train`, `y_val`, dan `y_test` menjadi bentuk One-Hot Matrix"
      ]
    },
    {
      "cell_type": "code",
      "metadata": {
        "id": "neQU8KqDIn1_",
        "colab_type": "code",
        "colab": {
          "base_uri": "https://localhost:8080/",
          "height": 68
        },
        "outputId": "881eee47-6f46-489b-b75a-c274b0c211e6"
      },
      "source": [
        "from tensorflow.keras.utils import to_categorical\n",
        "\n",
        "y_train_hot = to_categorical(y_train.ravel(), 10)\n",
        "y_val_hot = to_categorical(y_val.ravel(), 10)\n",
        "y_test_hot = to_categorical(y_test.ravel(), 10)\n",
        "\n",
        "print('y_train_hot.shape =',y_train_hot.shape)\n",
        "print('y_val_hot.shape   =',y_val_hot.shape)\n",
        "print('y_test_hot.shape  =',y_test_hot.shape)"
      ],
      "execution_count": 6,
      "outputs": [
        {
          "output_type": "stream",
          "text": [
            "y_train_hot.shape = (50000, 10)\n",
            "y_val_hot.shape   = (10000, 10)\n",
            "y_test_hot.shape  = (10000, 10)\n"
          ],
          "name": "stdout"
        }
      ]
    },
    {
      "cell_type": "markdown",
      "metadata": {
        "id": "OjqzwPUJIn4n",
        "colab_type": "text"
      },
      "source": [
        "---\n",
        "\n",
        "# Three-Layer Neural Network\n",
        "\n",
        "Berikutnya, mari kita bangun Jaringan Saraf Tiruan sedalam 3 layer untuk mengklasifikasikan dataset FMNIST ini\n"
      ]
    },
    {
      "cell_type": "markdown",
      "metadata": {
        "id": "34l5N13yIn5O",
        "colab_type": "text"
      },
      "source": [
        "---\n",
        "## Import Modul\n",
        "\n"
      ]
    },
    {
      "cell_type": "code",
      "metadata": {
        "id": "k98ABsZD_q5w",
        "colab_type": "code",
        "colab": {}
      },
      "source": [
        "from tensorflow.keras.models import Sequential\n",
        "from tensorflow.keras.layers import Flatten\n",
        "from tensorflow.keras.layers import Dense\n",
        "\n",
        "num_data    = X_train.shape[0]\n",
        "X_dim       = X_train.shape[1]\n",
        "num_classes = y_train_hot.shape[1]"
      ],
      "execution_count": 0,
      "outputs": []
    },
    {
      "cell_type": "markdown",
      "metadata": {
        "id": "wElcpSCg_q5v",
        "colab_type": "text"
      },
      "source": [
        "---\n",
        "## Model Neural Network\n"
      ]
    },
    {
      "cell_type": "code",
      "metadata": {
        "id": "R0xzjgWQ_q56",
        "colab_type": "code",
        "colab": {
          "base_uri": "https://localhost:8080/",
          "height": 377
        },
        "outputId": "55e58e13-5e8e-4c81-b675-9f3d270e6ebb"
      },
      "source": [
        "# create model compact sequential\n",
        "\n",
        "model_ann = Sequential([\n",
        "  Flatten(input_shape=(28,28,1)),\n",
        "  Dense(500, activation=\"relu\"),\n",
        "  Dense(200, activation=\"relu\"),\n",
        "  Dense(num_classes, activation=\"softmax\")\n",
        "])\n",
        "\n",
        "model_ann.summary()"
      ],
      "execution_count": 8,
      "outputs": [
        {
          "output_type": "stream",
          "text": [
            "WARNING: Logging before flag parsing goes to stderr.\n",
            "W0806 02:00:47.785572 139955706967936 deprecation.py:506] From /usr/local/lib/python3.6/dist-packages/tensorflow/python/ops/init_ops.py:1251: calling VarianceScaling.__init__ (from tensorflow.python.ops.init_ops) with dtype is deprecated and will be removed in a future version.\n",
            "Instructions for updating:\n",
            "Call initializer instance with the dtype argument instead of passing it to the constructor\n"
          ],
          "name": "stderr"
        },
        {
          "output_type": "stream",
          "text": [
            "Model: \"sequential\"\n",
            "_________________________________________________________________\n",
            "Layer (type)                 Output Shape              Param #   \n",
            "=================================================================\n",
            "flatten (Flatten)            (None, 784)               0         \n",
            "_________________________________________________________________\n",
            "dense (Dense)                (None, 500)               392500    \n",
            "_________________________________________________________________\n",
            "dense_1 (Dense)              (None, 200)               100200    \n",
            "_________________________________________________________________\n",
            "dense_2 (Dense)              (None, 10)                2010      \n",
            "=================================================================\n",
            "Total params: 494,710\n",
            "Trainable params: 494,710\n",
            "Non-trainable params: 0\n",
            "_________________________________________________________________\n"
          ],
          "name": "stdout"
        }
      ]
    },
    {
      "cell_type": "markdown",
      "metadata": {
        "id": "pmDso_8jIn5V",
        "colab_type": "text"
      },
      "source": [
        "---\n",
        "## Melatih Model"
      ]
    },
    {
      "cell_type": "code",
      "metadata": {
        "id": "lR9WhzsFIn5V",
        "colab_type": "code",
        "colab": {
          "base_uri": "https://localhost:8080/",
          "height": 544
        },
        "outputId": "99b20f94-88cd-4ffc-f118-2b7b84050e94"
      },
      "source": [
        "# Compile model\n",
        "model_ann.compile(loss='categorical_crossentropy', \n",
        "              optimizer='adam', metrics=['accuracy'])\n",
        "\n",
        "\n",
        "num_epochs = 15\n",
        "batch_size = 1000\n",
        "\n",
        "hist_ann = model_ann.fit(X_train, y_train_hot, \n",
        "          validation_data=(X_val, y_val_hot),\n",
        "          epochs=num_epochs, batch_size=batch_size, \n",
        "          verbose=2)"
      ],
      "execution_count": 9,
      "outputs": [
        {
          "output_type": "stream",
          "text": [
            "Train on 50000 samples, validate on 10000 samples\n",
            "Epoch 1/15\n",
            "50000/50000 - 1s - loss: 27.7612 - acc: 0.6572 - val_loss: 4.6188 - val_acc: 0.7897\n",
            "Epoch 2/15\n",
            "50000/50000 - 0s - loss: 3.4824 - acc: 0.7980 - val_loss: 2.8078 - val_acc: 0.8006\n",
            "Epoch 3/15\n",
            "50000/50000 - 0s - loss: 2.9863 - acc: 0.7995 - val_loss: 2.7867 - val_acc: 0.7949\n",
            "Epoch 4/15\n",
            "50000/50000 - 0s - loss: 1.9807 - acc: 0.8222 - val_loss: 2.8744 - val_acc: 0.7785\n",
            "Epoch 5/15\n",
            "50000/50000 - 0s - loss: 1.5967 - acc: 0.8318 - val_loss: 1.5930 - val_acc: 0.8322\n",
            "Epoch 6/15\n",
            "50000/50000 - 0s - loss: 1.3758 - acc: 0.8395 - val_loss: 1.5601 - val_acc: 0.8311\n",
            "Epoch 7/15\n",
            "50000/50000 - 0s - loss: 1.2507 - acc: 0.8429 - val_loss: 2.4393 - val_acc: 0.7657\n",
            "Epoch 8/15\n",
            "50000/50000 - 0s - loss: 1.1238 - acc: 0.8523 - val_loss: 1.5250 - val_acc: 0.8230\n",
            "Epoch 9/15\n",
            "50000/50000 - 0s - loss: 0.8657 - acc: 0.8627 - val_loss: 1.3749 - val_acc: 0.8262\n",
            "Epoch 10/15\n",
            "50000/50000 - 0s - loss: 0.8519 - acc: 0.8631 - val_loss: 1.1452 - val_acc: 0.8488\n",
            "Epoch 11/15\n",
            "50000/50000 - 0s - loss: 0.8006 - acc: 0.8680 - val_loss: 1.1414 - val_acc: 0.8469\n",
            "Epoch 12/15\n",
            "50000/50000 - 0s - loss: 0.6957 - acc: 0.8757 - val_loss: 1.1537 - val_acc: 0.8428\n",
            "Epoch 13/15\n",
            "50000/50000 - 0s - loss: 0.6245 - acc: 0.8793 - val_loss: 1.0044 - val_acc: 0.8468\n",
            "Epoch 14/15\n",
            "50000/50000 - 0s - loss: 0.6319 - acc: 0.8799 - val_loss: 1.0030 - val_acc: 0.8523\n",
            "Epoch 15/15\n",
            "50000/50000 - 0s - loss: 0.5434 - acc: 0.8865 - val_loss: 0.9946 - val_acc: 0.8462\n"
          ],
          "name": "stdout"
        }
      ]
    },
    {
      "cell_type": "markdown",
      "metadata": {
        "id": "3ibLtwIAIn5V",
        "colab_type": "text"
      },
      "source": [
        "---\n",
        "## Evaluasi Model\n"
      ]
    },
    {
      "cell_type": "code",
      "metadata": {
        "id": "VTD6WFU2In5W",
        "colab_type": "code",
        "colab": {
          "base_uri": "https://localhost:8080/",
          "height": 68
        },
        "outputId": "4c49e7d2-9a3e-45e7-e0f1-d1f238650624"
      },
      "source": [
        "scores_ann = model_ann.evaluate(X_test, y_test_hot, verbose=1)\n",
        "print(\"\\nModel Accuracy: %.2f%%\" % (scores_ann[1]*100))"
      ],
      "execution_count": 10,
      "outputs": [
        {
          "output_type": "stream",
          "text": [
            "10000/10000 [==============================] - 1s 57us/sample - loss: 1.0423 - acc: 0.8396\n",
            "\n",
            "Model Accuracy: 83.96%\n"
          ],
          "name": "stdout"
        }
      ]
    },
    {
      "cell_type": "markdown",
      "metadata": {
        "colab_type": "text",
        "id": "ld_C6JC4olXG"
      },
      "source": [
        "---\n",
        "\n",
        "# Three-Layer Convolutional Neural Network\n",
        "Sebagai perbandingan, mari kita bangun Convolutional Neural Network yang juga hanya 3 layer\n"
      ]
    },
    {
      "cell_type": "markdown",
      "metadata": {
        "colab_type": "text",
        "id": "eTtsOpepolXN"
      },
      "source": [
        "---\n",
        "## Import Modul\n",
        "\n"
      ]
    },
    {
      "cell_type": "code",
      "metadata": {
        "colab_type": "code",
        "id": "mYdhz2T2olXS",
        "colab": {}
      },
      "source": [
        "from tensorflow.keras.layers import Conv2D\n",
        "from tensorflow.keras.layers import MaxPooling2D"
      ],
      "execution_count": 0,
      "outputs": []
    },
    {
      "cell_type": "markdown",
      "metadata": {
        "colab_type": "text",
        "id": "D_BNctCnolXZ"
      },
      "source": [
        "---\n",
        "## Model Neural Network\n"
      ]
    },
    {
      "cell_type": "code",
      "metadata": {
        "colab_type": "code",
        "id": "n7uDuN9BolXc",
        "colab": {
          "base_uri": "https://localhost:8080/",
          "height": 323
        },
        "outputId": "8e789125-157a-49ba-ad3a-3b1e230c978d"
      },
      "source": [
        "# create model compact sequential\n",
        "\n",
        "model_cnn = Sequential([\n",
        "  Conv2D(32,(5,5),input_shape=(28,28,1), padding='same', activation=\"relu\"),\n",
        "  Conv2D(32,(5,5), padding='same', activation=\"relu\"),\n",
        "  MaxPooling2D(),\n",
        "  Flatten(),\n",
        "  Dense(num_classes, activation=\"softmax\")\n",
        "])\n",
        "\n",
        "model_cnn.summary()"
      ],
      "execution_count": 13,
      "outputs": [
        {
          "output_type": "stream",
          "text": [
            "Model: \"sequential_1\"\n",
            "_________________________________________________________________\n",
            "Layer (type)                 Output Shape              Param #   \n",
            "=================================================================\n",
            "conv2d (Conv2D)              (None, 28, 28, 32)        832       \n",
            "_________________________________________________________________\n",
            "conv2d_1 (Conv2D)            (None, 28, 28, 32)        25632     \n",
            "_________________________________________________________________\n",
            "max_pooling2d (MaxPooling2D) (None, 14, 14, 32)        0         \n",
            "_________________________________________________________________\n",
            "flatten_1 (Flatten)          (None, 6272)              0         \n",
            "_________________________________________________________________\n",
            "dense_3 (Dense)              (None, 10)                62730     \n",
            "=================================================================\n",
            "Total params: 89,194\n",
            "Trainable params: 89,194\n",
            "Non-trainable params: 0\n",
            "_________________________________________________________________\n"
          ],
          "name": "stdout"
        }
      ]
    },
    {
      "cell_type": "markdown",
      "metadata": {
        "colab_type": "text",
        "id": "DNJmngIeolXm"
      },
      "source": [
        "---\n",
        "## Melatih Model"
      ]
    },
    {
      "cell_type": "code",
      "metadata": {
        "colab_type": "code",
        "id": "j7-hIlWEolXo",
        "colab": {
          "base_uri": "https://localhost:8080/",
          "height": 544
        },
        "outputId": "4f1f5fb4-5dce-40cd-82ac-03a914ff4063"
      },
      "source": [
        "# Compile model\n",
        "model_cnn.compile(loss='categorical_crossentropy', \n",
        "              optimizer='adam', metrics=['accuracy'])\n",
        "\n",
        "\n",
        "num_epochs = 15\n",
        "batch_size = 1000\n",
        "\n",
        "hist_cnn = model_cnn.fit(X_train, y_train_hot, \n",
        "          validation_data=(X_val, y_val_hot),\n",
        "          epochs=num_epochs, batch_size=batch_size, \n",
        "          verbose=2)"
      ],
      "execution_count": 14,
      "outputs": [
        {
          "output_type": "stream",
          "text": [
            "Train on 50000 samples, validate on 10000 samples\n",
            "Epoch 1/15\n",
            "50000/50000 - 5s - loss: 4.0931 - acc: 0.6346 - val_loss: 0.5274 - val_acc: 0.8091\n",
            "Epoch 2/15\n",
            "50000/50000 - 2s - loss: 0.4395 - acc: 0.8462 - val_loss: 0.3952 - val_acc: 0.8617\n",
            "Epoch 3/15\n",
            "50000/50000 - 2s - loss: 0.3536 - acc: 0.8760 - val_loss: 0.3584 - val_acc: 0.8753\n",
            "Epoch 4/15\n",
            "50000/50000 - 2s - loss: 0.3151 - acc: 0.8891 - val_loss: 0.3355 - val_acc: 0.8821\n",
            "Epoch 5/15\n",
            "50000/50000 - 2s - loss: 0.2864 - acc: 0.8984 - val_loss: 0.3159 - val_acc: 0.8907\n",
            "Epoch 6/15\n",
            "50000/50000 - 2s - loss: 0.2675 - acc: 0.9042 - val_loss: 0.3081 - val_acc: 0.8920\n",
            "Epoch 7/15\n",
            "50000/50000 - 2s - loss: 0.2489 - acc: 0.9111 - val_loss: 0.3045 - val_acc: 0.8917\n",
            "Epoch 8/15\n",
            "50000/50000 - 2s - loss: 0.2331 - acc: 0.9169 - val_loss: 0.2985 - val_acc: 0.8945\n",
            "Epoch 9/15\n",
            "50000/50000 - 2s - loss: 0.2216 - acc: 0.9214 - val_loss: 0.2964 - val_acc: 0.8958\n",
            "Epoch 10/15\n",
            "50000/50000 - 2s - loss: 0.2085 - acc: 0.9257 - val_loss: 0.2987 - val_acc: 0.8934\n",
            "Epoch 11/15\n",
            "50000/50000 - 2s - loss: 0.2010 - acc: 0.9292 - val_loss: 0.2979 - val_acc: 0.8963\n",
            "Epoch 12/15\n",
            "50000/50000 - 2s - loss: 0.1919 - acc: 0.9313 - val_loss: 0.2924 - val_acc: 0.8981\n",
            "Epoch 13/15\n",
            "50000/50000 - 2s - loss: 0.1828 - acc: 0.9357 - val_loss: 0.3007 - val_acc: 0.8979\n",
            "Epoch 14/15\n",
            "50000/50000 - 2s - loss: 0.1778 - acc: 0.9372 - val_loss: 0.3045 - val_acc: 0.8984\n",
            "Epoch 15/15\n",
            "50000/50000 - 2s - loss: 0.1694 - acc: 0.9408 - val_loss: 0.3058 - val_acc: 0.8956\n"
          ],
          "name": "stdout"
        }
      ]
    },
    {
      "cell_type": "markdown",
      "metadata": {
        "colab_type": "text",
        "id": "0BUZEHLMolXr"
      },
      "source": [
        "---\n",
        "## Evaluasi Model\n"
      ]
    },
    {
      "cell_type": "code",
      "metadata": {
        "colab_type": "code",
        "id": "lAmucgajolXt",
        "colab": {
          "base_uri": "https://localhost:8080/",
          "height": 68
        },
        "outputId": "11d91bdb-711e-46c8-96a0-17fe880e0868"
      },
      "source": [
        "scores_cnn = model_cnn.evaluate(X_test, y_test_hot, verbose=1)\n",
        "print(\"\\nModel Accuracy: %.2f%%\" % (scores_cnn[1]*100))"
      ],
      "execution_count": 15,
      "outputs": [
        {
          "output_type": "stream",
          "text": [
            "10000/10000 [==============================] - 1s 80us/sample - loss: 0.3122 - acc: 0.8948\n",
            "\n",
            "Model Accuracy: 89.48%\n"
          ],
          "name": "stdout"
        }
      ]
    },
    {
      "cell_type": "markdown",
      "metadata": {
        "id": "NnkdHf-gsn3R",
        "colab_type": "text"
      },
      "source": [
        "---\n",
        "# Perbandingan ANN dan CNN\n",
        "\n",
        "Sekarang, mari kita investigasi performa ANN dan CNN"
      ]
    },
    {
      "cell_type": "markdown",
      "metadata": {
        "id": "_HIuWVyzssQ-",
        "colab_type": "text"
      },
      "source": [
        "---\n",
        "## Jumlah Parameter"
      ]
    },
    {
      "cell_type": "code",
      "metadata": {
        "id": "rucd-dstsrBF",
        "colab_type": "code",
        "colab": {
          "base_uri": "https://localhost:8080/",
          "height": 663
        },
        "outputId": "ea736f62-0302-4b31-8c37-161b330e8ffd"
      },
      "source": [
        "print('model ANN:')\n",
        "model_ann.summary()\n",
        "\n",
        "print('\\n\\nmodel CNN:')\n",
        "model_cnn.summary()"
      ],
      "execution_count": 16,
      "outputs": [
        {
          "output_type": "stream",
          "text": [
            "model ANN:\n",
            "Model: \"sequential\"\n",
            "_________________________________________________________________\n",
            "Layer (type)                 Output Shape              Param #   \n",
            "=================================================================\n",
            "flatten (Flatten)            (None, 784)               0         \n",
            "_________________________________________________________________\n",
            "dense (Dense)                (None, 500)               392500    \n",
            "_________________________________________________________________\n",
            "dense_1 (Dense)              (None, 200)               100200    \n",
            "_________________________________________________________________\n",
            "dense_2 (Dense)              (None, 10)                2010      \n",
            "=================================================================\n",
            "Total params: 494,710\n",
            "Trainable params: 494,710\n",
            "Non-trainable params: 0\n",
            "_________________________________________________________________\n",
            "\n",
            "\n",
            "model CNN:\n",
            "Model: \"sequential_1\"\n",
            "_________________________________________________________________\n",
            "Layer (type)                 Output Shape              Param #   \n",
            "=================================================================\n",
            "conv2d (Conv2D)              (None, 28, 28, 32)        832       \n",
            "_________________________________________________________________\n",
            "conv2d_1 (Conv2D)            (None, 28, 28, 32)        25632     \n",
            "_________________________________________________________________\n",
            "max_pooling2d (MaxPooling2D) (None, 14, 14, 32)        0         \n",
            "_________________________________________________________________\n",
            "flatten_1 (Flatten)          (None, 6272)              0         \n",
            "_________________________________________________________________\n",
            "dense_3 (Dense)              (None, 10)                62730     \n",
            "=================================================================\n",
            "Total params: 89,194\n",
            "Trainable params: 89,194\n",
            "Non-trainable params: 0\n",
            "_________________________________________________________________\n"
          ],
          "name": "stdout"
        }
      ]
    },
    {
      "cell_type": "markdown",
      "metadata": {
        "id": "eHpXFyZdtaLJ",
        "colab_type": "text"
      },
      "source": [
        "**ANN memiliki parameter hingga 4x lebih banyak dari CNN**"
      ]
    },
    {
      "cell_type": "code",
      "metadata": {
        "id": "cJph5BbhszSz",
        "colab_type": "code",
        "colab": {
          "base_uri": "https://localhost:8080/",
          "height": 51
        },
        "outputId": "cbe641a5-ee8b-4db4-b1cb-56b137d4fd65"
      },
      "source": [
        "print('total parameter ANN:', f'{ model_ann.count_params():,}')\n",
        "print('total parameter CNN:', f'{ model_cnn.count_params():,}')"
      ],
      "execution_count": 17,
      "outputs": [
        {
          "output_type": "stream",
          "text": [
            "total parameter ANN: 494,710\n",
            "total parameter CNN: 89,194\n"
          ],
          "name": "stdout"
        }
      ]
    },
    {
      "cell_type": "markdown",
      "metadata": {
        "id": "AAdNRfYCuJVB",
        "colab_type": "text"
      },
      "source": [
        "---\n",
        "## Grafik Hasil Pelatihan"
      ]
    },
    {
      "cell_type": "code",
      "metadata": {
        "id": "j6M2Nzr3uJ1S",
        "colab_type": "code",
        "colab": {
          "base_uri": "https://localhost:8080/",
          "height": 241
        },
        "outputId": "d6da2c0d-6025-476f-a7e1-74feb583ce31"
      },
      "source": [
        "fig, ax = plt.subplots(1,3,figsize=(18,3))\n",
        "\n",
        "ax[0].plot(hist_ann.history['loss'])\n",
        "ax[0].plot(hist_cnn.history['loss'])\n",
        "ax[0].set_title('Train Loss')\n",
        "ax[0].set_ylabel('Loss')\n",
        "ax[0].set_xlabel('Epoch')\n",
        "ax[0].legend(['ANN', 'CNN'], loc='upper right')\n",
        "\n",
        "ax[1].plot(hist_ann.history['acc'])\n",
        "ax[1].plot(hist_cnn.history['acc'])\n",
        "ax[1].set_title('Train Accuracy')\n",
        "ax[1].set_ylabel('Accuracy')\n",
        "ax[1].set_xlabel('Epoch')\n",
        "ax[1].set_ylim(bottom=.7)\n",
        "ax[1].legend(['ANN', 'CNN'], loc='lower right')\n",
        "\n",
        "ax[2].plot(hist_ann.history['val_acc'])\n",
        "ax[2].plot(hist_cnn.history['val_acc'])\n",
        "ax[2].set_title('Validation Accuracy')\n",
        "ax[2].set_ylabel('Accuracy')\n",
        "ax[2].set_xlabel('Epoch')\n",
        "ax[2].set_ylim(bottom=.7)\n",
        "ax[2].legend(['ANN', 'CNN'], loc='lower right')\n",
        "plt.show()"
      ],
      "execution_count": 18,
      "outputs": [
        {
          "output_type": "display_data",
          "data": {
            "image/png": "[encoded data removed]",
            "text/plain": [
              "<Figure size 1296x216 with 3 Axes>"
            ]
          },
          "metadata": {
            "tags": []
          }
        }
      ]
    },
    {
      "cell_type": "markdown",
      "metadata": {
        "id": "UiN4exlAtfly",
        "colab_type": "text"
      },
      "source": [
        "---\n",
        "## Akurasi Data Uji"
      ]
    },
    {
      "cell_type": "code",
      "metadata": {
        "id": "RAbAilYSt0pD",
        "colab_type": "code",
        "colab": {
          "base_uri": "https://localhost:8080/",
          "height": 51
        },
        "outputId": "9092c28c-2398-48d0-88f8-edfae695ebeb"
      },
      "source": [
        "print(\"Akurasi ANN: %.2f%%\" % (scores_ann[1]*100))\n",
        "print(\"Akurasi CNN: %.2f%%\" % (scores_cnn[1]*100))"
      ],
      "execution_count": 19,
      "outputs": [
        {
          "output_type": "stream",
          "text": [
            "Akurasi ANN: 83.96%\n",
            "Akurasi CNN: 89.48%\n"
          ],
          "name": "stdout"
        }
      ]
    },
    {
      "cell_type": "markdown",
      "metadata": {
        "id": "NfOgnKWBzs1L",
        "colab_type": "text"
      },
      "source": [
        "---\n",
        "## Pengecekan Overfitting"
      ]
    },
    {
      "cell_type": "code",
      "metadata": {
        "id": "_B364ZEqzNw2",
        "colab_type": "code",
        "colab": {
          "base_uri": "https://localhost:8080/",
          "height": 241
        },
        "outputId": "9de026dc-b713-45be-ddeb-0a13f3186407"
      },
      "source": [
        "fig, ax = plt.subplots(1,2,figsize=(10,3))\n",
        "\n",
        "ax[0].plot(hist_ann.history['acc'])\n",
        "ax[0].plot(hist_ann.history['val_acc'])\n",
        "ax[0].set_title('ANN Accuracy')\n",
        "ax[0].set_ylabel('Accuracy')\n",
        "ax[0].set_xlabel('Epoch')\n",
        "ax[0].set_ylim(bottom=.7)\n",
        "ax[0].legend(['train', 'val'], loc='lower right')\n",
        "\n",
        "ax[1].plot(hist_cnn.history['acc'])\n",
        "ax[1].plot(hist_cnn.history['val_acc'])\n",
        "ax[1].set_title('CNN Accuracy')\n",
        "ax[1].set_ylabel('Accuracy')\n",
        "ax[1].set_xlabel('Epoch')\n",
        "ax[1].set_ylim(bottom=.7)\n",
        "ax[1].legend(['train', 'val'], loc='lower right')\n",
        "plt.show()"
      ],
      "execution_count": 20,
      "outputs": [
        {
          "output_type": "display_data",
          "data": {
            "image/png": "[encoded data removed]",
            "text/plain": [
              "<Figure size 720x216 with 2 Axes>"
            ]
          },
          "metadata": {
            "tags": []
          }
        }
      ]
    },
    {
      "cell_type": "markdown",
      "metadata": {
        "id": "W4rIhU_-8-E_",
        "colab_type": "text"
      },
      "source": [
        "Makin besar gap antara akurasi training dan validasi menandakan makin rentan terhadap overfitting"
      ]
    },
    {
      "cell_type": "markdown",
      "metadata": {
        "id": "VI0QLlzQ291a",
        "colab_type": "text"
      },
      "source": [
        "---\n",
        "# Kesimpulan\n",
        "* CNN memiliki parameter yang jauh lebih sedikit dari ANN, namun memiliki akurasi akhir yang lebih baik\n",
        "* CNN Lebih tangguh terhadap *Overfitting*"
      ]
    },
    {
      "cell_type": "markdown",
      "metadata": {
        "id": "uB_ojCQ6zmKS",
        "colab_type": "text"
      },
      "source": [
        "<p>Copyright &copy; 2019 <a href=https://www.linkedin.com/in/andityaarifianto/>ADF</a> </p>"
      ]
    }
  ]
}